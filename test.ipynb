{
 "cells": [
  {
   "cell_type": "code",
   "execution_count": 7,
   "metadata": {},
   "outputs": [
    {
     "name": "stderr",
     "output_type": "stream",
     "text": [
      "Intel(R) Extension for Scikit-learn* enabled (https://github.com/intel/scikit-learn-intelex)\n"
     ]
    }
   ],
   "source": [
    "from sklearnex import patch_sklearn\n",
    "patch_sklearn()"
   ]
  },
  {
   "cell_type": "code",
   "execution_count": 2,
   "metadata": {},
   "outputs": [],
   "source": [
    "import pandas as pd\n",
    "import numpy as np\n",
    "from time import time\n",
    "from sklearn.datasets import load_digits"
   ]
  },
  {
   "cell_type": "code",
   "execution_count": 3,
   "metadata": {},
   "outputs": [
    {
     "data": {
      "text/html": [
       "<div>\n",
       "<style scoped>\n",
       "    .dataframe tbody tr th:only-of-type {\n",
       "        vertical-align: middle;\n",
       "    }\n",
       "\n",
       "    .dataframe tbody tr th {\n",
       "        vertical-align: top;\n",
       "    }\n",
       "\n",
       "    .dataframe thead th {\n",
       "        text-align: right;\n",
       "    }\n",
       "</style>\n",
       "<table border=\"1\" class=\"dataframe\">\n",
       "  <thead>\n",
       "    <tr style=\"text-align: right;\">\n",
       "      <th></th>\n",
       "      <th>age</th>\n",
       "      <th>workclass</th>\n",
       "      <th>education</th>\n",
       "      <th>education-num</th>\n",
       "      <th>marital-status</th>\n",
       "      <th>occupation</th>\n",
       "      <th>relationship</th>\n",
       "      <th>race</th>\n",
       "      <th>sex</th>\n",
       "      <th>capital-gain</th>\n",
       "      <th>capital-loss</th>\n",
       "      <th>hours-per-week</th>\n",
       "      <th>native-country</th>\n",
       "      <th>income &gt;50K</th>\n",
       "    </tr>\n",
       "  </thead>\n",
       "  <tbody>\n",
       "    <tr>\n",
       "      <th>0</th>\n",
       "      <td>39</td>\n",
       "      <td>State-gov</td>\n",
       "      <td>Bachelors</td>\n",
       "      <td>13</td>\n",
       "      <td>Never-married</td>\n",
       "      <td>Adm-clerical</td>\n",
       "      <td>Not-in-family</td>\n",
       "      <td>White</td>\n",
       "      <td>Male</td>\n",
       "      <td>2174</td>\n",
       "      <td>0</td>\n",
       "      <td>40</td>\n",
       "      <td>United-States</td>\n",
       "      <td>0</td>\n",
       "    </tr>\n",
       "    <tr>\n",
       "      <th>1</th>\n",
       "      <td>50</td>\n",
       "      <td>Self-emp-not-inc</td>\n",
       "      <td>Bachelors</td>\n",
       "      <td>13</td>\n",
       "      <td>Married-civ-spouse</td>\n",
       "      <td>Exec-managerial</td>\n",
       "      <td>Husband</td>\n",
       "      <td>White</td>\n",
       "      <td>Male</td>\n",
       "      <td>0</td>\n",
       "      <td>0</td>\n",
       "      <td>13</td>\n",
       "      <td>United-States</td>\n",
       "      <td>0</td>\n",
       "    </tr>\n",
       "    <tr>\n",
       "      <th>2</th>\n",
       "      <td>38</td>\n",
       "      <td>Private</td>\n",
       "      <td>HS-grad</td>\n",
       "      <td>9</td>\n",
       "      <td>Divorced</td>\n",
       "      <td>Handlers-cleaners</td>\n",
       "      <td>Not-in-family</td>\n",
       "      <td>White</td>\n",
       "      <td>Male</td>\n",
       "      <td>0</td>\n",
       "      <td>0</td>\n",
       "      <td>40</td>\n",
       "      <td>United-States</td>\n",
       "      <td>0</td>\n",
       "    </tr>\n",
       "    <tr>\n",
       "      <th>3</th>\n",
       "      <td>53</td>\n",
       "      <td>Private</td>\n",
       "      <td>11th</td>\n",
       "      <td>7</td>\n",
       "      <td>Married-civ-spouse</td>\n",
       "      <td>Handlers-cleaners</td>\n",
       "      <td>Husband</td>\n",
       "      <td>Black</td>\n",
       "      <td>Male</td>\n",
       "      <td>0</td>\n",
       "      <td>0</td>\n",
       "      <td>40</td>\n",
       "      <td>United-States</td>\n",
       "      <td>0</td>\n",
       "    </tr>\n",
       "    <tr>\n",
       "      <th>4</th>\n",
       "      <td>28</td>\n",
       "      <td>Private</td>\n",
       "      <td>Bachelors</td>\n",
       "      <td>13</td>\n",
       "      <td>Married-civ-spouse</td>\n",
       "      <td>Prof-specialty</td>\n",
       "      <td>Wife</td>\n",
       "      <td>Black</td>\n",
       "      <td>Female</td>\n",
       "      <td>0</td>\n",
       "      <td>0</td>\n",
       "      <td>40</td>\n",
       "      <td>Cuba</td>\n",
       "      <td>0</td>\n",
       "    </tr>\n",
       "    <tr>\n",
       "      <th>...</th>\n",
       "      <td>...</td>\n",
       "      <td>...</td>\n",
       "      <td>...</td>\n",
       "      <td>...</td>\n",
       "      <td>...</td>\n",
       "      <td>...</td>\n",
       "      <td>...</td>\n",
       "      <td>...</td>\n",
       "      <td>...</td>\n",
       "      <td>...</td>\n",
       "      <td>...</td>\n",
       "      <td>...</td>\n",
       "      <td>...</td>\n",
       "      <td>...</td>\n",
       "    </tr>\n",
       "    <tr>\n",
       "      <th>32556</th>\n",
       "      <td>27</td>\n",
       "      <td>Private</td>\n",
       "      <td>Assoc-acdm</td>\n",
       "      <td>12</td>\n",
       "      <td>Married-civ-spouse</td>\n",
       "      <td>Tech-support</td>\n",
       "      <td>Wife</td>\n",
       "      <td>White</td>\n",
       "      <td>Female</td>\n",
       "      <td>0</td>\n",
       "      <td>0</td>\n",
       "      <td>38</td>\n",
       "      <td>United-States</td>\n",
       "      <td>0</td>\n",
       "    </tr>\n",
       "    <tr>\n",
       "      <th>32557</th>\n",
       "      <td>40</td>\n",
       "      <td>Private</td>\n",
       "      <td>HS-grad</td>\n",
       "      <td>9</td>\n",
       "      <td>Married-civ-spouse</td>\n",
       "      <td>Machine-op-inspct</td>\n",
       "      <td>Husband</td>\n",
       "      <td>White</td>\n",
       "      <td>Male</td>\n",
       "      <td>0</td>\n",
       "      <td>0</td>\n",
       "      <td>40</td>\n",
       "      <td>United-States</td>\n",
       "      <td>1</td>\n",
       "    </tr>\n",
       "    <tr>\n",
       "      <th>32558</th>\n",
       "      <td>58</td>\n",
       "      <td>Private</td>\n",
       "      <td>HS-grad</td>\n",
       "      <td>9</td>\n",
       "      <td>Widowed</td>\n",
       "      <td>Adm-clerical</td>\n",
       "      <td>Unmarried</td>\n",
       "      <td>White</td>\n",
       "      <td>Female</td>\n",
       "      <td>0</td>\n",
       "      <td>0</td>\n",
       "      <td>40</td>\n",
       "      <td>United-States</td>\n",
       "      <td>0</td>\n",
       "    </tr>\n",
       "    <tr>\n",
       "      <th>32559</th>\n",
       "      <td>22</td>\n",
       "      <td>Private</td>\n",
       "      <td>HS-grad</td>\n",
       "      <td>9</td>\n",
       "      <td>Never-married</td>\n",
       "      <td>Adm-clerical</td>\n",
       "      <td>Own-child</td>\n",
       "      <td>White</td>\n",
       "      <td>Male</td>\n",
       "      <td>0</td>\n",
       "      <td>0</td>\n",
       "      <td>20</td>\n",
       "      <td>United-States</td>\n",
       "      <td>0</td>\n",
       "    </tr>\n",
       "    <tr>\n",
       "      <th>32560</th>\n",
       "      <td>52</td>\n",
       "      <td>Self-emp-inc</td>\n",
       "      <td>HS-grad</td>\n",
       "      <td>9</td>\n",
       "      <td>Married-civ-spouse</td>\n",
       "      <td>Exec-managerial</td>\n",
       "      <td>Wife</td>\n",
       "      <td>White</td>\n",
       "      <td>Female</td>\n",
       "      <td>15024</td>\n",
       "      <td>0</td>\n",
       "      <td>40</td>\n",
       "      <td>United-States</td>\n",
       "      <td>1</td>\n",
       "    </tr>\n",
       "  </tbody>\n",
       "</table>\n",
       "<p>32561 rows × 14 columns</p>\n",
       "</div>"
      ],
      "text/plain": [
       "       age         workclass   education  education-num      marital-status  \\\n",
       "0       39         State-gov   Bachelors             13       Never-married   \n",
       "1       50  Self-emp-not-inc   Bachelors             13  Married-civ-spouse   \n",
       "2       38           Private     HS-grad              9            Divorced   \n",
       "3       53           Private        11th              7  Married-civ-spouse   \n",
       "4       28           Private   Bachelors             13  Married-civ-spouse   \n",
       "...    ...               ...         ...            ...                 ...   \n",
       "32556   27           Private  Assoc-acdm             12  Married-civ-spouse   \n",
       "32557   40           Private     HS-grad              9  Married-civ-spouse   \n",
       "32558   58           Private     HS-grad              9             Widowed   \n",
       "32559   22           Private     HS-grad              9       Never-married   \n",
       "32560   52      Self-emp-inc     HS-grad              9  Married-civ-spouse   \n",
       "\n",
       "              occupation   relationship   race     sex  capital-gain  \\\n",
       "0           Adm-clerical  Not-in-family  White    Male          2174   \n",
       "1        Exec-managerial        Husband  White    Male             0   \n",
       "2      Handlers-cleaners  Not-in-family  White    Male             0   \n",
       "3      Handlers-cleaners        Husband  Black    Male             0   \n",
       "4         Prof-specialty           Wife  Black  Female             0   \n",
       "...                  ...            ...    ...     ...           ...   \n",
       "32556       Tech-support           Wife  White  Female             0   \n",
       "32557  Machine-op-inspct        Husband  White    Male             0   \n",
       "32558       Adm-clerical      Unmarried  White  Female             0   \n",
       "32559       Adm-clerical      Own-child  White    Male             0   \n",
       "32560    Exec-managerial           Wife  White  Female         15024   \n",
       "\n",
       "       capital-loss  hours-per-week native-country  income >50K  \n",
       "0                 0              40  United-States            0  \n",
       "1                 0              13  United-States            0  \n",
       "2                 0              40  United-States            0  \n",
       "3                 0              40  United-States            0  \n",
       "4                 0              40           Cuba            0  \n",
       "...             ...             ...            ...          ...  \n",
       "32556             0              38  United-States            0  \n",
       "32557             0              40  United-States            1  \n",
       "32558             0              40  United-States            0  \n",
       "32559             0              20  United-States            0  \n",
       "32560             0              40  United-States            1  \n",
       "\n",
       "[32561 rows x 14 columns]"
      ]
     },
     "execution_count": 3,
     "metadata": {},
     "output_type": "execute_result"
    }
   ],
   "source": [
    "data = pd.read_csv(\"datasets/income.csv\")\n",
    "data"
   ]
  },
  {
   "cell_type": "code",
   "execution_count": 4,
   "metadata": {},
   "outputs": [],
   "source": [
    "data[\"education\"] = data[\"education\"].replace(\n",
    "    {\n",
    "        'Preschool': 'dropout',\n",
    "        '10th': 'dropout',\n",
    "        '11th': 'dropout',\n",
    "        '12th': 'dropout',\n",
    "        '1st-4th': 'dropout',\n",
    "        '5th-6th': 'dropout',\n",
    "        '7th-8th': 'dropout',\n",
    "        '9th': 'dropout',\n",
    "        'HS-Grad': 'HighGrad',\n",
    "        'HS-grad': 'HighGrad',\n",
    "        'Some-college': 'CommunityCollege',\n",
    "        'Assoc-acdm': 'CommunityCollege',\n",
    "        'Assoc-voc': 'CommunityCollege',\n",
    "        'Bachelors': 'Bachelors',\n",
    "        'Masters': 'Masters',\n",
    "        'Prof-school': 'Masters',\n",
    "        'Doctorate': 'Doctorate'\n",
    "    }\n",
    ")\n",
    "data[\"marital-status\"] = data[\"marital-status\"].replace(\n",
    "    {\n",
    "        'Never-married': 'NotMarried',\n",
    "        'Married-AF-spouse': 'Married',\n",
    "        'Married-civ-spouse': 'Married',\n",
    "        'NotMarried': 'NotMarried',\n",
    "        'Separated': 'Separated',\n",
    "        'Divorced': 'Separated',\n",
    "        'Widowed': 'Widowed',\n",
    "    }\n",
    ")\n",
    "ordinal_columns={\n",
    "    \"education\": [\"dropout\", \"HighGrad\", \"CommunityCollege\", \"Bachelors\", \"Masters\", \"Doctorate\"],\n",
    "}\n",
    "data[\"native-country\"] = data[\"native-country\"].replace(\n",
    "{\"Canada\": \"North America\", \"Cuba\": \"South America\", \"Dominican-Republic\": \"South America\", \"El-Salvador\": \"South America\", \"Guatemala\": \"South America\",\n",
    "                   \"Haiti\": \"South America\", \"Honduras\": \"South America\", \"Jamaica\": \"South America\", \"Mexico\": \"South America\", \"Nicaragua\": \"South America\",\n",
    "                   \"Outlying-US(Guam-USVI-etc)\": \"North America\", \"Puerto-Rico\": \"North America\", \"Trinadad&Tobago\": \"South America\",\n",
    "                   \"United-States\": \"North America\", \"Cambodia\": \"Asia\", \"China\": \"Asia\", \"Hong\": \"Asia\", \"India\": \"Asia\", \"Iran\": \"Asia\", \"Japan\": \"Asia\", \"Laos\": \"Asia\",\n",
    "          \"Philippines\": \"Asia\", \"Taiwan\": \"Asia\", \"Thailand\": \"Asia\", \"Vietnam\": \"Asia\", \"Columbia\": \"South America\", \"Ecuador\": \"South America\", \"Peru\": \"South America\", \"England\": \"West Europe\", \"France\": \"West Europe\", \"Germany\": \"West Europe\", \"Greece\": \"West Europe\", \"Holand-Netherlands\": \"West Europe\",\n",
    "            \"Ireland\": \"West Europe\", \"Italy\": \"West Europe\", \"Portugal\": \"West Europe\", \"Scotland\": \"West Europe\", \"Hungary\": \"East Europe\", \"Poland\": \"East Europe\", \"Yugoslavia\": \"East Europe\", \"South\": \"?\"})\n",
    "data[\"capital\"] = data[\"capital-gain\"]-data[\"capital-loss\"]\n",
    "data.drop([\"capital-gain\", \"capital-loss\"], axis=1, inplace=True)\n",
    "data[\"education-num\"] = data[\"education-num\"].astype(float)"
   ]
  },
  {
   "cell_type": "code",
   "execution_count": 5,
   "metadata": {},
   "outputs": [],
   "source": [
    "from sklearn.model_selection import RepeatedStratifiedKFold\n",
    "from automl.search.automl import AutoML\n",
    "\n",
    "am = AutoML(\n",
    "    random_state=42,\n",
    "    level=\"common\",\n",
    "    #target_metric=\"f1\",\n",
    "    trainer_config={\n",
    "        #\"secondary_level\": ComponentLevel.UNCOMMON,\n",
    "        \"cache\": True,\n",
    "        \"early_stopping\": True,\n",
    "        \"return_test_scores_during_tuning\": True,\n",
    "        \"tuning_time\": 60*1,\n",
    "        \"stacking_level\": 1,\n",
    "        \"tune_kwargs\": {\"max_concurrent\": 2, \"trainable_n_jobs\": 4}\n",
    "    },\n",
    "    #cv=RepeatedStratifiedKFold(random_state=420, n_repeats=2, n_splits=4)\n",
    "    cv=4,\n",
    ")"
   ]
  },
  {
   "cell_type": "code",
   "execution_count": 6,
   "metadata": {},
   "outputs": [
    {
     "name": "stderr",
     "output_type": "stream",
     "text": [
      "2021-08-18 20:28:54,107\tINFO services.py:1245 -- View the Ray dashboard at \u001b[1m\u001b[32mhttp://127.0.0.1:8265\u001b[39m\u001b[22m\n",
      "``multivariate`` option is an experimental feature. The interface can change in the future.\n",
      "``group`` option is an experimental feature. The interface can change in the future.\n",
      "``constant_liar`` option is an experimental feature. The interface can change in the future.\n",
      "\u001b[32m[I 2021-08-18 20:28:55,734]\u001b[0m A new study created in memory with name: optuna\u001b[0m\n"
     ]
    },
    {
     "data": {
      "application/vnd.jupyter.widget-view+json": {
       "model_id": "d1c60698d87e4ed99f940cf45cf5194f",
       "version_major": 2,
       "version_minor": 0
      },
      "text/plain": [
       "FigureWidget({\n",
       "    'data': [{'mode': 'lines+markers',\n",
       "              'name': 'Best validation score',\n",
       "         …"
      ]
     },
     "metadata": {},
     "output_type": "display_data"
    },
    {
     "name": "stderr",
     "output_type": "stream",
     "text": [
      "2021-08-18 20:28:56,087\tWARNING worker.py:1189 -- It looks like you're creating a detached actor in an anonymous namespace. In order to access this actor in the future, you will need to explicitly connect to this namespace with ray.init(namespace=\"a0a8831c-355b-4445-9d40-223ac55929c3\", ...)\n"
     ]
    },
    {
     "name": "stdout",
     "output_type": "stream",
     "text": [
      "suggest e9396efa, 12\n",
      "e9396efa final suggestion by 0: {'ColumnScaling__ScalerNormalizer': 'CombinedScalerTransformer(sparse_threshold=0.3, n_jobs=1, transformer_weights=None, verbose=False)', 'Estimator': 'LogisticRegression(penalty=elasticnet, dual=False, tol=0.0001, C=1.0, fit_intercept=True, intercept_scaling=1, class_weight=balanced, random_state=0, solver=saga, max_iter=200, multi_class=auto, verbose=0, warm_start=False, n_jobs=None, l1_ratio=0)', 'FeatureSelector': 'Passthrough(None)', 'Estimator__LogisticRegression__C': 1.0, 'Estimator__LogisticRegression__l1_ratio': 1, 'Estimator__LogisticRegression__class_weight': 'balanced', 'Imputer__CombinedSimpleImputer__categorical_strategy': 'most_frequent', 'Imputer': 'CombinedSimpleImputer(numeric_strategy=median, numeric_fill_value=0, categorical_strategy=most_frequent, categorical_fill_value=missing_value, verbose=0, copy=True, n_jobs=1, transformer_weights=None)', 'Imbalance': 'Passthrough(None)', 'ColumnOrdinal__OrdinalEncoder': 'passthrough', 'ColumnEncoding__BinaryEncoder': \"BinaryEncoder(categories=auto, handle_unknown=use_encoded_value, dtype=<class 'bool'>, unknown_value=None)\", 'ColumnEncoding__CategoricalEncoder': 'CatBoostEncoderBinary(base_transformer=CatBoostEncoder(cols=[], random_state=0), cv=5, return_same_type=True, is_classification=True, random_state=None)', 'SVMKernelApproximation': 'Passthrough(None)', 'KNNTransformer': 'passthrough'}\n"
     ]
    },
    {
     "data": {
      "text/html": [
       "== Status ==<br>Memory usage on this node: 4.8/31.0 GiB<br>Using FIFO scheduling algorithm.<br>Resources requested: 0/8 CPUs, 0/0 GPUs, 0.0/16.46 GiB heap, 0.0/8.23 GiB objects<br>Result logdir: /home/ubuntu/ray_results/SklearnTrainable_2021-08-18_20-28-56<br>Number of trials: 1/infinite (1 PENDING)<br><br>"
      ],
      "text/plain": [
       "<IPython.core.display.HTML object>"
      ]
     },
     "metadata": {},
     "output_type": "display_data"
    },
    {
     "name": "stdout",
     "output_type": "stream",
     "text": [
      "suggest e9396efb, 11\n",
      "e9396efb final suggestion by 0: {'ColumnScaling__ScalerNormalizer': 'CombinedScalerTransformer(sparse_threshold=0.3, n_jobs=1, transformer_weights=None, verbose=False)', 'Estimator': 'LogisticRegression(penalty=elasticnet, dual=False, tol=0.0001, C=1.0, fit_intercept=True, intercept_scaling=1, class_weight=balanced, random_state=0, solver=saga, max_iter=200, multi_class=auto, verbose=0, warm_start=False, n_jobs=None, l1_ratio=0)', 'FeatureSelector': 'Passthrough(None)', 'Estimator__LogisticRegression__C': 1.0, 'Estimator__LogisticRegression__l1_ratio': 0.15, 'Estimator__LogisticRegression__class_weight': 'balanced', 'Imputer__CombinedSimpleImputer__categorical_strategy': 'most_frequent', 'Imputer': 'CombinedSimpleImputer(numeric_strategy=median, numeric_fill_value=0, categorical_strategy=most_frequent, categorical_fill_value=missing_value, verbose=0, copy=True, n_jobs=1, transformer_weights=None)', 'Imbalance': 'Passthrough(None)', 'ColumnOrdinal__OrdinalEncoder': 'passthrough', 'ColumnEncoding__BinaryEncoder': \"BinaryEncoder(categories=auto, handle_unknown=use_encoded_value, dtype=<class 'bool'>, unknown_value=None)\", 'ColumnEncoding__CategoricalEncoder': 'CatBoostEncoderBinary(base_transformer=CatBoostEncoder(cols=[], random_state=0), cv=5, return_same_type=True, is_classification=True, random_state=None)', 'SVMKernelApproximation': 'Passthrough(None)', 'KNNTransformer': 'passthrough'}\n",
      "\u001b[2m\u001b[36m(pid=4085089)\u001b[0m Index(['age', 'workclass', 'education-num', 'marital-status', 'occupation',\n",
      "\u001b[2m\u001b[36m(pid=4085089)\u001b[0m        'relationship', 'race', 'sex', 'hours-per-week', 'native-country',\n",
      "\u001b[2m\u001b[36m(pid=4085089)\u001b[0m        'capital'],\n",
      "\u001b[2m\u001b[36m(pid=4085089)\u001b[0m       dtype='object')\n",
      "\u001b[2m\u001b[36m(pid=4085085)\u001b[0m Index(['age', 'workclass', 'education-num', 'marital-status', 'occupation',\n",
      "\u001b[2m\u001b[36m(pid=4085085)\u001b[0m        'relationship', 'race', 'sex', 'hours-per-week', 'native-country',\n",
      "\u001b[2m\u001b[36m(pid=4085085)\u001b[0m        'capital'],\n",
      "\u001b[2m\u001b[36m(pid=4085085)\u001b[0m       dtype='object')\n",
      "\u001b[2m\u001b[36m(pid=4085087)\u001b[0m fitting on train took 0.325603723526001\n",
      "\u001b[2m\u001b[36m(pid=4085087)\u001b[0m scoring took 0.2073819637298584\n",
      "\u001b[2m\u001b[36m(pid=4085088)\u001b[0m fitting on train took 0.23046350479125977\n",
      "Trial SklearnTrainable_e9396efa reported mean_validation_score=0.7701263896874823,estimator_fit_time=3.689556360244751,metrics={'accuracy': 0.7999590499590499, 'balanced_accuracy': 0.812523512593677, 'roc_auc': 0.89427236277199, 'precision': 0.5564066763232911, 'recall': 0.836763250507545, 'specificity': 0.788283774679809, 'f1': 0.6683395185792707, 'matthews_corrcoef': 0.55610138151649, 'optimized_precision': 0.7701263896874823},test_metrics={'accuracy': 0.7927773000859846, 'balanced_accuracy': 0.8102254605126309, 'roc_auc': 0.8942222545060736, 'precision': 0.5449752883031301, 'recall': 0.8438775510204082, 'specificity': 0.7765733700048536, 'f1': 0.6622622622622624, 'matthews_corrcoef': 0.5485864648102262, 'optimized_precision': 0.7512430702353383} with parameters={'ColumnScaling__ScalerNormalizer': 'CombinedScalerTransformer(sparse_threshold=0.3, n_jobs=1, transformer_weights=None, verbose=False)', 'Estimator': 'LogisticRegression(penalty=elasticnet, dual=False, tol=0.0001, C=1.0, fit_intercept=True, intercept_scaling=1, class_weight=balanced, random_state=0, solver=saga, max_iter=200, multi_class=auto, verbose=0, warm_start=False, n_jobs=None, l1_ratio=0)', 'FeatureSelector': 'Passthrough(None)', 'Estimator__LogisticRegression__C': 1.0, 'Estimator__LogisticRegression__l1_ratio': 1, 'Estimator__LogisticRegression__class_weight': 'balanced', 'Imputer__CombinedSimpleImputer__categorical_strategy': 'most_frequent', 'Imputer': 'CombinedSimpleImputer(numeric_strategy=median, numeric_fill_value=0, categorical_strategy=most_frequent, categorical_fill_value=missing_value, verbose=0, copy=True, n_jobs=1, transformer_weights=None)', 'Imbalance': 'Passthrough(None)', 'ColumnOrdinal__OrdinalEncoder': 'passthrough', 'ColumnEncoding__BinaryEncoder': \"BinaryEncoder(categories=auto, handle_unknown=use_encoded_value, dtype=<class 'bool'>, unknown_value=None)\", 'ColumnEncoding__CategoricalEncoder': 'CatBoostEncoderBinary(base_transformer=CatBoostEncoder(cols=[], random_state=0), cv=5, return_same_type=True, is_classification=True, random_state=None)', 'SVMKernelApproximation': 'Passthrough(None)', 'KNNTransformer': 'passthrough'}. This trial completed.\n"
     ]
    },
    {
     "data": {
      "text/html": [
       "== Status ==<br>Memory usage on this node: 6.4/31.0 GiB<br>Using FIFO scheduling algorithm.<br>Resources requested: 4.0/8 CPUs, 0/0 GPUs, 0.0/16.46 GiB heap, 0.0/8.23 GiB objects<br>Result logdir: /home/ubuntu/ray_results/SklearnTrainable_2021-08-18_20-28-56<br>Number of trials: 2/infinite (1 RUNNING, 1 TERMINATED)<br><br>"
      ],
      "text/plain": [
       "<IPython.core.display.HTML object>"
      ]
     },
     "metadata": {},
     "output_type": "display_data"
    },
    {
     "name": "stdout",
     "output_type": "stream",
     "text": [
      "suggest ed312d4a, 10\n",
      "ed312d4a final suggestion by 0: {'Estimator': 'CatBoostClassifierBinary(n_estimators=200, learning_rate=None, max_depth=6, task_type=CPU, verbose=False, random_state=None, auto_class_weights=Balanced)', 'FeatureSelector': 'Passthrough(None)', 'Estimator__CatBoostClassifierBinary__n_estimators': 200, 'Estimator__CatBoostClassifierBinary__max_depth': 6, 'Estimator__CatBoostClassifierBinary__auto_class_weights': 'Balanced', 'Imputer__CombinedSimpleImputer__categorical_strategy': 'most_frequent', 'ColumnScaling__ScalerNormalizer': 'passthrough', 'Imputer': 'CombinedSimpleImputer(numeric_strategy=median, numeric_fill_value=0, categorical_strategy=most_frequent, categorical_fill_value=missing_value, verbose=0, copy=True, n_jobs=1, transformer_weights=None)', 'Imbalance': 'Passthrough(None)', 'ColumnOrdinal__OrdinalEncoder': \"OrdinalEncoder(categories=auto, handle_unknown=use_encoded_value, dtype=<class 'numpy.uint16'>, unknown_value=None)\", 'ColumnEncoding__BinaryEncoder': 'passthrough', 'ColumnEncoding__CategoricalEncoder': 'passthrough', 'SVMKernelApproximation': 'Passthrough(None)', 'KNNTransformer': 'passthrough'}\n",
      "\u001b[2m\u001b[36m(pid=4085088)\u001b[0m scoring took 0.21333622932434082\n",
      "Trial SklearnTrainable_e9396efb reported mean_validation_score=0.7701869897549007,estimator_fit_time=3.8829410076141357,metrics={'accuracy': 0.7999180999180999, 'balanced_accuracy': 0.8124384843998205, 'roc_auc': 0.8942737195633481, 'precision': 0.5563558410056719, 'recall': 0.8365931824803341, 'specificity': 0.7882837863193067, 'f1': 0.6682489923969467, 'matthews_corrcoef': 0.5559632293678793, 'optimized_precision': 0.7701869897549007},test_metrics={'accuracy': 0.7926544650534333, 'balanced_accuracy': 0.8099703584718145, 'roc_auc': 0.894217714589476, 'precision': 0.5448253131179961, 'recall': 0.8433673469387755, 'specificity': 0.7765733700048536, 'f1': 0.6619943932719263, 'matthews_corrcoef': 0.5481720038282998, 'optimized_precision': 0.7514221062175228} with parameters={'ColumnScaling__ScalerNormalizer': 'CombinedScalerTransformer(sparse_threshold=0.3, n_jobs=1, transformer_weights=None, verbose=False)', 'Estimator': 'LogisticRegression(penalty=elasticnet, dual=False, tol=0.0001, C=1.0, fit_intercept=True, intercept_scaling=1, class_weight=balanced, random_state=0, solver=saga, max_iter=200, multi_class=auto, verbose=0, warm_start=False, n_jobs=None, l1_ratio=0)', 'FeatureSelector': 'Passthrough(None)', 'Estimator__LogisticRegression__C': 1.0, 'Estimator__LogisticRegression__l1_ratio': 0.15, 'Estimator__LogisticRegression__class_weight': 'balanced', 'Imputer__CombinedSimpleImputer__categorical_strategy': 'most_frequent', 'Imputer': 'CombinedSimpleImputer(numeric_strategy=median, numeric_fill_value=0, categorical_strategy=most_frequent, categorical_fill_value=missing_value, verbose=0, copy=True, n_jobs=1, transformer_weights=None)', 'Imbalance': 'Passthrough(None)', 'ColumnOrdinal__OrdinalEncoder': 'passthrough', 'ColumnEncoding__BinaryEncoder': \"BinaryEncoder(categories=auto, handle_unknown=use_encoded_value, dtype=<class 'bool'>, unknown_value=None)\", 'ColumnEncoding__CategoricalEncoder': 'CatBoostEncoderBinary(base_transformer=CatBoostEncoder(cols=[], random_state=0), cv=5, return_same_type=True, is_classification=True, random_state=None)', 'SVMKernelApproximation': 'Passthrough(None)', 'KNNTransformer': 'passthrough'}. This trial completed.\n",
      "suggest ed312d4b, 9\n",
      "ed312d4b final suggestion by 0: {'ColumnScaling__ScalerNormalizer': 'MinMaxScaler(feature_range=(0, 1), copy=True, clip=False)', 'Estimator': 'KNeighborsClassifier(n_neighbors=5, weights=distance, p=2, metric=precomputed, metric_params=None, n_jobs=None)', 'FeatureSelector': 'Passthrough(None)', 'Estimator__KNeighborsClassifier__n_neighbors': 5, 'Estimator__KNeighborsClassifier__weights': 'distance', 'Imputer__CombinedSimpleImputer__categorical_strategy': 'most_frequent', 'KNNTransformer__KNNTransformer__p': 2, 'Imputer': 'CombinedSimpleImputer(numeric_strategy=median, numeric_fill_value=0, categorical_strategy=most_frequent, categorical_fill_value=missing_value, verbose=0, copy=True, n_jobs=1, transformer_weights=None)', 'Imbalance': 'Passthrough(None)', 'ColumnOrdinal__OrdinalEncoder': 'passthrough', 'ColumnEncoding__BinaryEncoder': \"BinaryEncoder(categories=auto, handle_unknown=use_encoded_value, dtype=<class 'bool'>, unknown_value=None)\", 'ColumnEncoding__CategoricalEncoder': 'CatBoostEncoderBinary(base_transformer=CatBoostEncoder(cols=[], random_state=0), cv=5, return_same_type=True, is_classification=True, random_state=None)', 'SVMKernelApproximation': 'Passthrough(None)', 'KNNTransformer': 'KNNTransformer(mode=distance, n_neighbors=40, algorithm=auto, leaf_size=30, metric=minkowski, p=2, metric_params=None, n_jobs=1)'}\n",
      "\u001b[2m\u001b[36m(pid=4085088)\u001b[0m Index(['age', 'workclass', 'education-num', 'marital-status', 'occupation',\n",
      "\u001b[2m\u001b[36m(pid=4085088)\u001b[0m        'relationship', 'race', 'sex', 'hours-per-week', 'native-country',\n",
      "\u001b[2m\u001b[36m(pid=4085088)\u001b[0m        'capital'],\n",
      "\u001b[2m\u001b[36m(pid=4085088)\u001b[0m       dtype='object')\n"
     ]
    },
    {
     "name": "stderr",
     "output_type": "stream",
     "text": [
      "\u001b[2m\u001b[33m(raylet)\u001b[0m [2021-08-18 20:29:04,628 E 4085036 4085036] ownership_based_object_directory.cc:379: Worker f79e01ee5aa9dd78fbe3c659d888dd5c014b910dceae66659be4fc6f failed to get the location for ee4e90da584ab0eb29a9885173af5ae212c60a10010000000c000000\n",
      "\u001b[2m\u001b[33m(raylet)\u001b[0m [2021-08-18 20:29:04,628 E 4085036 4085036] ownership_based_object_directory.cc:379: Worker 6020d7249ade562b6b89bfdd39c5cf3ce1c9c99aeb51572e62703552 failed to get the location for 480a853c2c4c6f27f3c69434e6f307ddc8db720d010000000b000000\n",
      "\u001b[2m\u001b[33m(raylet)\u001b[0m [2021-08-18 20:29:04,629 E 4085036 4085036] ownership_based_object_directory.cc:379: Worker 6020d7249ade562b6b89bfdd39c5cf3ce1c9c99aeb51572e62703552 failed to get the location for 480a853c2c4c6f27f3c69434e6f307ddc8db720d010000000c000000\n"
     ]
    },
    {
     "name": "stdout",
     "output_type": "stream",
     "text": [
      "\u001b[2m\u001b[36m(pid=4085084)\u001b[0m Index(['age', 'workclass', 'education-num', 'marital-status', 'occupation',\n",
      "\u001b[2m\u001b[36m(pid=4085084)\u001b[0m        'relationship', 'race', 'sex', 'hours-per-week', 'native-country',\n",
      "\u001b[2m\u001b[36m(pid=4085084)\u001b[0m        'capital'],\n",
      "\u001b[2m\u001b[36m(pid=4085084)\u001b[0m       dtype='object')\n",
      "\u001b[2m\u001b[36m(pid=4085403)\u001b[0m fitting on train took 0.2517697811126709\n",
      "\u001b[2m\u001b[36m(pid=4085403)\u001b[0m scoring took 4.112926483154297\n",
      "Trial SklearnTrainable_ed312d4b reported mean_validation_score=0.5839350042745269,estimator_fit_time=12.876188516616821,metrics={'accuracy': 0.8207616707616707, 'balanced_accuracy': 0.7310225166586786, 'roc_auc': 0.8413545977720628, 'precision': 0.6486310795595197, 'recall': 0.5578968909113611, 'specificity': 0.9041481424059958, 'f1': 0.5998485826666445, 'matthews_corrcoef': 0.4874963285153346, 'optimized_precision': 0.5839350042745269},test_metrics={'accuracy': 0.8233632231912541, 'balanced_accuracy': 0.7413470427808723, 'roc_auc': 0.8532005999293423, 'precision': 0.6479591836734694, 'recall': 0.5831632653061225, 'specificity': 0.899530820255622, 'f1': 0.6138560687432869, 'matthews_corrcoef': 0.5009240532467618, 'optimized_precision': 0.6099897714251481} with parameters={'ColumnScaling__ScalerNormalizer': 'MinMaxScaler(feature_range=(0, 1), copy=True, clip=False)', 'Estimator': 'KNeighborsClassifier(n_neighbors=5, weights=distance, p=2, metric=precomputed, metric_params=None, n_jobs=None)', 'FeatureSelector': 'Passthrough(None)', 'Estimator__KNeighborsClassifier__n_neighbors': 5, 'Estimator__KNeighborsClassifier__weights': 'distance', 'Imputer__CombinedSimpleImputer__categorical_strategy': 'most_frequent', 'KNNTransformer__KNNTransformer__p': 2, 'Imputer': 'CombinedSimpleImputer(numeric_strategy=median, numeric_fill_value=0, categorical_strategy=most_frequent, categorical_fill_value=missing_value, verbose=0, copy=True, n_jobs=1, transformer_weights=None)', 'Imbalance': 'Passthrough(None)', 'ColumnOrdinal__OrdinalEncoder': 'passthrough', 'ColumnEncoding__BinaryEncoder': \"BinaryEncoder(categories=auto, handle_unknown=use_encoded_value, dtype=<class 'bool'>, unknown_value=None)\", 'ColumnEncoding__CategoricalEncoder': 'CatBoostEncoderBinary(base_transformer=CatBoostEncoder(cols=[], random_state=0), cv=5, return_same_type=True, is_classification=True, random_state=None)', 'SVMKernelApproximation': 'Passthrough(None)', 'KNNTransformer': 'KNNTransformer(mode=distance, n_neighbors=40, algorithm=auto, leaf_size=30, metric=minkowski, p=2, metric_params=None, n_jobs=1)'}. This trial completed.\n"
     ]
    },
    {
     "data": {
      "text/html": [
       "== Status ==<br>Memory usage on this node: 6.5/31.0 GiB<br>Using FIFO scheduling algorithm.<br>Resources requested: 4.0/8 CPUs, 0/0 GPUs, 0.0/16.46 GiB heap, 0.0/8.23 GiB objects<br>Result logdir: /home/ubuntu/ray_results/SklearnTrainable_2021-08-18_20-28-56<br>Number of trials: 4/infinite (1 RUNNING, 3 TERMINATED)<br><br>"
      ],
      "text/plain": [
       "<IPython.core.display.HTML object>"
      ]
     },
     "metadata": {},
     "output_type": "display_data"
    },
    {
     "name": "stdout",
     "output_type": "stream",
     "text": [
      "suggest f93b5bba, 8\n",
      "f93b5bba final suggestion by 0: {'Estimator': 'RandomForestClassifier(n_estimators=100, randomization_type=rf, criterion=gini, max_depth=10, min_samples_split=2, min_samples_leaf=1, min_weight_fraction_leaf=1e-10, max_features=0.2, random_state=0, max_leaf_nodes=None, min_impurity_decrease=1e-10, bootstrap=True, oob_score=False, n_jobs=None, class_weight=balanced, ccp_alpha=0.0, verbose=0, warm_start=False, max_samples=None)', 'FeatureSelector': 'Passthrough(None)', 'Estimator__RandomForestClassifier__n_estimators': 100, 'Estimator__RandomForestClassifier__randomization_type': 'et', 'Estimator__RandomForestClassifier__criterion': 'gini', 'Estimator__RandomForestClassifier__min_samples_split': 2, 'Estimator__RandomForestClassifier__min_samples_leaf': 1, 'Estimator__RandomForestClassifier__max_features': 0.2, 'Estimator__RandomForestClassifier__max_depth': 10, 'Estimator__RandomForestClassifier__min_impurity_decrease': 1e-10, 'Estimator__RandomForestClassifier__min_weight_fraction_leaf': 1e-10, 'Estimator__RandomForestClassifier__class_weight': 'balanced', 'Imputer__CombinedSimpleImputer__categorical_strategy': 'most_frequent', 'ColumnScaling__ScalerNormalizer': 'passthrough', 'Imputer': 'CombinedSimpleImputer(numeric_strategy=median, numeric_fill_value=0, categorical_strategy=most_frequent, categorical_fill_value=missing_value, verbose=0, copy=True, n_jobs=1, transformer_weights=None)', 'Imbalance': 'Passthrough(None)', 'ColumnOrdinal__OrdinalEncoder': 'passthrough', 'ColumnEncoding__BinaryEncoder': \"BinaryEncoder(categories=auto, handle_unknown=use_encoded_value, dtype=<class 'bool'>, unknown_value=None)\", 'ColumnEncoding__CategoricalEncoder': 'CatBoostEncoderBinary(base_transformer=CatBoostEncoder(cols=[], random_state=0), cv=5, return_same_type=True, is_classification=True, random_state=None)', 'SVMKernelApproximation': 'Passthrough(None)', 'KNNTransformer': 'passthrough'}\n",
      "\u001b[2m\u001b[36m(pid=4085297)\u001b[0m fitting on train took 3.260246753692627\n",
      "\u001b[2m\u001b[36m(pid=4085297)\u001b[0m scoring took 0.1116795539855957\n",
      "Trial SklearnTrainable_ed312d4a reported mean_validation_score=0.8084555528110597,estimator_fit_time=16.857203722000122,metrics={'accuracy': 0.8307534807534808, 'balanced_accuracy': 0.8404678391399452, 'roc_auc': 0.92587627018578, 'precision': 0.6045714808931338, 'recall': 0.85920853045501, 'specificity': 0.8217271478248804, 'f1': 0.7097410536573994, 'matthews_corrcoef': 0.613654649895743, 'optimized_precision': 0.8084555528110597},test_metrics={'accuracy': 0.8330671907628056, 'balanced_accuracy': 0.8482561767628909, 'roc_auc': 0.9309642122501807, 'precision': 0.60584712927087, 'recall': 0.8775510204081632, 'specificity': 0.8189613331176185, 'f1': 0.7168160033340278, 'matthews_corrcoef': 0.624861364868017, 'optimized_precision': 0.7985318175491767} with parameters={'Estimator': 'CatBoostClassifierBinary(n_estimators=200, learning_rate=None, max_depth=6, task_type=CPU, verbose=False, random_state=None, auto_class_weights=Balanced)', 'FeatureSelector': 'Passthrough(None)', 'Estimator__CatBoostClassifierBinary__n_estimators': 200, 'Estimator__CatBoostClassifierBinary__max_depth': 6, 'Estimator__CatBoostClassifierBinary__auto_class_weights': 'Balanced', 'Imputer__CombinedSimpleImputer__categorical_strategy': 'most_frequent', 'ColumnScaling__ScalerNormalizer': 'passthrough', 'Imputer': 'CombinedSimpleImputer(numeric_strategy=median, numeric_fill_value=0, categorical_strategy=most_frequent, categorical_fill_value=missing_value, verbose=0, copy=True, n_jobs=1, transformer_weights=None)', 'Imbalance': 'Passthrough(None)', 'ColumnOrdinal__OrdinalEncoder': \"OrdinalEncoder(categories=auto, handle_unknown=use_encoded_value, dtype=<class 'numpy.uint16'>, unknown_value=None)\", 'ColumnEncoding__BinaryEncoder': 'passthrough', 'ColumnEncoding__CategoricalEncoder': 'passthrough', 'SVMKernelApproximation': 'Passthrough(None)', 'KNNTransformer': 'passthrough'}. This trial completed.\n",
      "suggest f93b5bbb, 7\n",
      "f93b5bbb final suggestion by 0: {'ColumnScaling__ScalerNormalizer': 'CombinedScalerTransformer(sparse_threshold=0.3, n_jobs=1, transformer_weights=None, verbose=False)', 'Estimator': 'LogisticRegression(penalty=elasticnet, dual=False, tol=0.0001, C=1.0, fit_intercept=True, intercept_scaling=1, class_weight=balanced, random_state=0, solver=saga, max_iter=200, multi_class=auto, verbose=0, warm_start=False, n_jobs=None, l1_ratio=0)', 'FeatureSelector': 'Passthrough(None)', 'Estimator__LogisticRegression__C': 1.0, 'Estimator__LogisticRegression__l1_ratio': 0, 'Estimator__LogisticRegression__class_weight': 'balanced', 'Imputer__CombinedSimpleImputer__categorical_strategy': 'most_frequent', 'Imputer': 'CombinedSimpleImputer(numeric_strategy=median, numeric_fill_value=0, categorical_strategy=most_frequent, categorical_fill_value=missing_value, verbose=0, copy=True, n_jobs=1, transformer_weights=None)', 'Imbalance': 'Passthrough(None)', 'ColumnOrdinal__OrdinalEncoder': 'passthrough', 'ColumnEncoding__BinaryEncoder': \"BinaryEncoder(categories=auto, handle_unknown=use_encoded_value, dtype=<class 'bool'>, unknown_value=None)\", 'ColumnEncoding__CategoricalEncoder': 'CatBoostEncoderBinary(base_transformer=CatBoostEncoder(cols=[], random_state=0), cv=5, return_same_type=True, is_classification=True, random_state=None)', 'SVMKernelApproximation': 'Passthrough(None)', 'KNNTransformer': 'passthrough'}\n",
      "\u001b[2m\u001b[36m(pid=4085297)\u001b[0m Index(['age', 'workclass', 'education-num', 'marital-status', 'occupation',\n",
      "\u001b[2m\u001b[36m(pid=4085297)\u001b[0m        'relationship', 'race', 'sex', 'hours-per-week', 'native-country',\n",
      "\u001b[2m\u001b[36m(pid=4085297)\u001b[0m        'capital'],\n",
      "\u001b[2m\u001b[36m(pid=4085297)\u001b[0m       dtype='object')\n",
      "\u001b[2m\u001b[36m(pid=4085090)\u001b[0m Index(['age', 'workclass', 'education-num', 'marital-status', 'occupation',\n",
      "\u001b[2m\u001b[36m(pid=4085090)\u001b[0m        'relationship', 'race', 'sex', 'hours-per-week', 'native-country',\n",
      "\u001b[2m\u001b[36m(pid=4085090)\u001b[0m        'capital'],\n",
      "\u001b[2m\u001b[36m(pid=4085090)\u001b[0m       dtype='object')\n",
      "\u001b[2m\u001b[36m(pid=4085086)\u001b[0m fitting on train took 0.21583104133605957\n"
     ]
    },
    {
     "name": "stderr",
     "output_type": "stream",
     "text": [
      "2021-08-18 20:29:26,748\tINFO stopper.py:348 -- Reached timeout of 30 seconds. Stopping all trials.\n"
     ]
    },
    {
     "name": "stdout",
     "output_type": "stream",
     "text": [
      "\u001b[2m\u001b[36m(pid=4085086)\u001b[0m scoring took 0.2116405963897705\n",
      "Trial SklearnTrainable_f93b5bbb reported mean_validation_score=0.7701869897549007,estimator_fit_time=0.9920594692230225,metrics={'accuracy': 0.7999180999180999, 'balanced_accuracy': 0.8124384843998205, 'roc_auc': 0.8942741231597582, 'precision': 0.5563558410056719, 'recall': 0.8365931824803341, 'specificity': 0.7882837863193067, 'f1': 0.6682489923969467, 'matthews_corrcoef': 0.5559632293678793, 'optimized_precision': 0.7701869897549007},test_metrics={'accuracy': 0.7926544650534333, 'balanced_accuracy': 0.8099703584718145, 'roc_auc': 0.8942174669576615, 'precision': 0.5448253131179961, 'recall': 0.8433673469387755, 'specificity': 0.7765733700048536, 'f1': 0.6619943932719263, 'matthews_corrcoef': 0.5481720038282998, 'optimized_precision': 0.7514221062175228} with parameters={'ColumnScaling__ScalerNormalizer': 'CombinedScalerTransformer(sparse_threshold=0.3, n_jobs=1, transformer_weights=None, verbose=False)', 'Estimator': 'LogisticRegression(penalty=elasticnet, dual=False, tol=0.0001, C=1.0, fit_intercept=True, intercept_scaling=1, class_weight=balanced, random_state=0, solver=saga, max_iter=200, multi_class=auto, verbose=0, warm_start=False, n_jobs=None, l1_ratio=0)', 'FeatureSelector': 'Passthrough(None)', 'Estimator__LogisticRegression__C': 1.0, 'Estimator__LogisticRegression__l1_ratio': 0, 'Estimator__LogisticRegression__class_weight': 'balanced', 'Imputer__CombinedSimpleImputer__categorical_strategy': 'most_frequent', 'Imputer': 'CombinedSimpleImputer(numeric_strategy=median, numeric_fill_value=0, categorical_strategy=most_frequent, categorical_fill_value=missing_value, verbose=0, copy=True, n_jobs=1, transformer_weights=None)', 'Imbalance': 'Passthrough(None)', 'ColumnOrdinal__OrdinalEncoder': 'passthrough', 'ColumnEncoding__BinaryEncoder': \"BinaryEncoder(categories=auto, handle_unknown=use_encoded_value, dtype=<class 'bool'>, unknown_value=None)\", 'ColumnEncoding__CategoricalEncoder': 'CatBoostEncoderBinary(base_transformer=CatBoostEncoder(cols=[], random_state=0), cv=5, return_same_type=True, is_classification=True, random_state=None)', 'SVMKernelApproximation': 'Passthrough(None)', 'KNNTransformer': 'passthrough'}. This trial completed.\n"
     ]
    },
    {
     "data": {
      "text/html": [
       "== Status ==<br>Memory usage on this node: 6.2/31.0 GiB<br>Using FIFO scheduling algorithm.<br>Resources requested: 0/8 CPUs, 0/0 GPUs, 0.0/16.46 GiB heap, 0.0/8.23 GiB objects (0.0/1.0 CPU_group_1_6deca1ca559577dfa3261f022aaa772e, 0.0/1.0 CPU_group_3_6deca1ca559577dfa3261f022aaa772e, 0.0/1.0 CPU_group_2_6deca1ca559577dfa3261f022aaa772e, 0.0/1.0 CPU_group_1_54841ca5dfe2fc3ea435a0cf35e2ee6d, 0.0/1.0 CPU_group_0_54841ca5dfe2fc3ea435a0cf35e2ee6d, 0.0/1.0 CPU_group_0_6deca1ca559577dfa3261f022aaa772e, 0.0/4.0 CPU_group_6deca1ca559577dfa3261f022aaa772e, 0.0/1.0 CPU_group_2_54841ca5dfe2fc3ea435a0cf35e2ee6d, 0.0/1.0 CPU_group_3_54841ca5dfe2fc3ea435a0cf35e2ee6d, 0.0/4.0 CPU_group_54841ca5dfe2fc3ea435a0cf35e2ee6d)<br>Result logdir: /home/ubuntu/ray_results/SklearnTrainable_2021-08-18_20-28-56<br>Number of trials: 6/infinite (6 TERMINATED)<br><table>\n",
       "<thead>\n",
       "<tr><th>Trial name               </th><th>status    </th><th>loc  </th><th>ColumnEncoding__BinaryEncoder                                                                             </th><th>ColumnEncoding__CategoricalEncoder                                                                                                                      </th><th>ColumnOrdinal__OrdinalEncoder                                                                                      </th><th>ColumnScaling__ScalerNormalizer                                                                   </th><th>Estimator                                                                                                                                                                                                                                                                                                                                                                                    </th><th>Estimator__CatBoostClassifierBinary__auto_class_weights  </th><th style=\"text-align: right;\">  Estimator__CatBoostClassifierBinary__max_depth</th><th style=\"text-align: right;\">  Estimator__CatBoostClassifierBinary__n_estimators</th><th style=\"text-align: right;\">  Estimator__KNeighborsClassifier__n_neighbors</th><th>Estimator__KNeighborsClassifier__weights  </th><th style=\"text-align: right;\">  Estimator__LogisticRegression__C</th><th>Estimator__LogisticRegression__class_weight  </th><th style=\"text-align: right;\">  Estimator__LogisticRegression__l1_ratio</th><th>Estimator__RandomForestClassifier__class_weight  </th><th>Estimator__RandomForestClassifier__criterion  </th><th style=\"text-align: right;\">  Estimator__RandomForestClassifier__max_depth</th><th style=\"text-align: right;\">  Estimator__RandomForestClassifier__max_features</th><th style=\"text-align: right;\">  Estimator__RandomForestClassifier__min_impurity_decrease</th><th style=\"text-align: right;\">  Estimator__RandomForestClassifier__min_samples_leaf</th><th style=\"text-align: right;\">  Estimator__RandomForestClassifier__min_samples_split</th><th style=\"text-align: right;\">  Estimator__RandomForestClassifier__min_weight_fraction_leaf</th><th style=\"text-align: right;\">  Estimator__RandomForestClassifier__n_estimators</th><th>Estimator__RandomForestClassifier__randomization_type  </th><th>FeatureSelector  </th><th>Imbalance        </th><th>Imputer                                                                                                                                                                                                 </th><th>Imputer__CombinedSimpleImputer__categorical_strategy  </th><th>KNNTransformer                                                                                                                  </th><th style=\"text-align: right;\">  KNNTransformer__KNNTransformer__p</th><th>SVMKernelApproximation  </th><th style=\"text-align: right;\">  iter</th><th style=\"text-align: right;\">  total time (s)</th><th style=\"text-align: right;\">  mean_validation_score</th><th style=\"text-align: right;\">  estimator_fit_time</th></tr>\n",
       "</thead>\n",
       "<tbody>\n",
       "<tr><td>SklearnTrainable_e9396efa</td><td>TERMINATED</td><td>     </td><td>BinaryEncoder(categories=auto, handle_unknown=use_encoded_value, dtype=&lt;class &#x27;bool&#x27;&gt;, unknown_value=None)</td><td>CatBoostEncoderBinary(base_transformer=CatBoostEncoder(cols=[], random_state=0), cv=5, return_same_type=True, is_classification=True, random_state=None)</td><td>passthrough                                                                                                        </td><td>CombinedScalerTransformer(sparse_threshold=0.3, n_jobs=1, transformer_weights=None, verbose=False)</td><td>LogisticRegression(penalty=elasticnet, dual=False, tol=0.0001, C=1.0, fit_intercept=True, intercept_scaling=1, class_weight=balanced, random_state=0, solver=saga, max_iter=200, multi_class=auto, verbose=0, warm_start=False, n_jobs=None, l1_ratio=0)                                                                                                                                     </td><td>                                                         </td><td style=\"text-align: right;\">                                                </td><td style=\"text-align: right;\">                                                   </td><td style=\"text-align: right;\">                                              </td><td>                                          </td><td style=\"text-align: right;\">                                 1</td><td>balanced                                     </td><td style=\"text-align: right;\">                                     1   </td><td>                                                 </td><td>                                              </td><td style=\"text-align: right;\">                                              </td><td style=\"text-align: right;\">                                                 </td><td style=\"text-align: right;\">                                                          </td><td style=\"text-align: right;\">                                                     </td><td style=\"text-align: right;\">                                                      </td><td style=\"text-align: right;\">                                                             </td><td style=\"text-align: right;\">                                                 </td><td>                                                       </td><td>Passthrough(None)</td><td>Passthrough(None)</td><td>CombinedSimpleImputer(numeric_strategy=median, numeric_fill_value=0, categorical_strategy=most_frequent, categorical_fill_value=missing_value, verbose=0, copy=True, n_jobs=1, transformer_weights=None)</td><td>most_frequent                                         </td><td>passthrough                                                                                                                     </td><td style=\"text-align: right;\">                                   </td><td>Passthrough(None)       </td><td style=\"text-align: right;\">     1</td><td style=\"text-align: right;\">         4.39503</td><td style=\"text-align: right;\">               0.770126</td><td style=\"text-align: right;\">            3.68956 </td></tr>\n",
       "<tr><td>SklearnTrainable_e9396efb</td><td>TERMINATED</td><td>     </td><td>BinaryEncoder(categories=auto, handle_unknown=use_encoded_value, dtype=&lt;class &#x27;bool&#x27;&gt;, unknown_value=None)</td><td>CatBoostEncoderBinary(base_transformer=CatBoostEncoder(cols=[], random_state=0), cv=5, return_same_type=True, is_classification=True, random_state=None)</td><td>passthrough                                                                                                        </td><td>CombinedScalerTransformer(sparse_threshold=0.3, n_jobs=1, transformer_weights=None, verbose=False)</td><td>LogisticRegression(penalty=elasticnet, dual=False, tol=0.0001, C=1.0, fit_intercept=True, intercept_scaling=1, class_weight=balanced, random_state=0, solver=saga, max_iter=200, multi_class=auto, verbose=0, warm_start=False, n_jobs=None, l1_ratio=0)                                                                                                                                     </td><td>                                                         </td><td style=\"text-align: right;\">                                                </td><td style=\"text-align: right;\">                                                   </td><td style=\"text-align: right;\">                                              </td><td>                                          </td><td style=\"text-align: right;\">                                 1</td><td>balanced                                     </td><td style=\"text-align: right;\">                                     0.15</td><td>                                                 </td><td>                                              </td><td style=\"text-align: right;\">                                              </td><td style=\"text-align: right;\">                                                 </td><td style=\"text-align: right;\">                                                          </td><td style=\"text-align: right;\">                                                     </td><td style=\"text-align: right;\">                                                      </td><td style=\"text-align: right;\">                                                             </td><td style=\"text-align: right;\">                                                 </td><td>                                                       </td><td>Passthrough(None)</td><td>Passthrough(None)</td><td>CombinedSimpleImputer(numeric_strategy=median, numeric_fill_value=0, categorical_strategy=most_frequent, categorical_fill_value=missing_value, verbose=0, copy=True, n_jobs=1, transformer_weights=None)</td><td>most_frequent                                         </td><td>passthrough                                                                                                                     </td><td style=\"text-align: right;\">                                   </td><td>Passthrough(None)       </td><td style=\"text-align: right;\">     1</td><td style=\"text-align: right;\">         4.4919 </td><td style=\"text-align: right;\">               0.770187</td><td style=\"text-align: right;\">            3.88294 </td></tr>\n",
       "<tr><td>SklearnTrainable_ed312d4a</td><td>TERMINATED</td><td>     </td><td>passthrough                                                                                               </td><td>passthrough                                                                                                                                             </td><td>OrdinalEncoder(categories=auto, handle_unknown=use_encoded_value, dtype=&lt;class &#x27;numpy.uint16&#x27;&gt;, unknown_value=None)</td><td>passthrough                                                                                       </td><td>CatBoostClassifierBinary(n_estimators=200, learning_rate=None, max_depth=6, task_type=CPU, verbose=False, random_state=None, auto_class_weights=Balanced)                                                                                                                                                                                                                                    </td><td>Balanced                                                 </td><td style=\"text-align: right;\">                                               6</td><td style=\"text-align: right;\">                                                200</td><td style=\"text-align: right;\">                                              </td><td>                                          </td><td style=\"text-align: right;\">                                  </td><td>                                             </td><td style=\"text-align: right;\">                                         </td><td>                                                 </td><td>                                              </td><td style=\"text-align: right;\">                                              </td><td style=\"text-align: right;\">                                                 </td><td style=\"text-align: right;\">                                                          </td><td style=\"text-align: right;\">                                                     </td><td style=\"text-align: right;\">                                                      </td><td style=\"text-align: right;\">                                                             </td><td style=\"text-align: right;\">                                                 </td><td>                                                       </td><td>Passthrough(None)</td><td>Passthrough(None)</td><td>CombinedSimpleImputer(numeric_strategy=median, numeric_fill_value=0, categorical_strategy=most_frequent, categorical_fill_value=missing_value, verbose=0, copy=True, n_jobs=1, transformer_weights=None)</td><td>most_frequent                                         </td><td>passthrough                                                                                                                     </td><td style=\"text-align: right;\">                                   </td><td>Passthrough(None)       </td><td style=\"text-align: right;\">     1</td><td style=\"text-align: right;\">        20.3715 </td><td style=\"text-align: right;\">               0.808456</td><td style=\"text-align: right;\">           16.8572  </td></tr>\n",
       "<tr><td>SklearnTrainable_ed312d4b</td><td>TERMINATED</td><td>     </td><td>BinaryEncoder(categories=auto, handle_unknown=use_encoded_value, dtype=&lt;class &#x27;bool&#x27;&gt;, unknown_value=None)</td><td>CatBoostEncoderBinary(base_transformer=CatBoostEncoder(cols=[], random_state=0), cv=5, return_same_type=True, is_classification=True, random_state=None)</td><td>passthrough                                                                                                        </td><td>MinMaxScaler(feature_range=(0, 1), copy=True, clip=False)                                         </td><td>KNeighborsClassifier(n_neighbors=5, weights=distance, p=2, metric=precomputed, metric_params=None, n_jobs=None)                                                                                                                                                                                                                                                                              </td><td>                                                         </td><td style=\"text-align: right;\">                                                </td><td style=\"text-align: right;\">                                                   </td><td style=\"text-align: right;\">                                             5</td><td>distance                                  </td><td style=\"text-align: right;\">                                  </td><td>                                             </td><td style=\"text-align: right;\">                                         </td><td>                                                 </td><td>                                              </td><td style=\"text-align: right;\">                                              </td><td style=\"text-align: right;\">                                                 </td><td style=\"text-align: right;\">                                                          </td><td style=\"text-align: right;\">                                                     </td><td style=\"text-align: right;\">                                                      </td><td style=\"text-align: right;\">                                                             </td><td style=\"text-align: right;\">                                                 </td><td>                                                       </td><td>Passthrough(None)</td><td>Passthrough(None)</td><td>CombinedSimpleImputer(numeric_strategy=median, numeric_fill_value=0, categorical_strategy=most_frequent, categorical_fill_value=missing_value, verbose=0, copy=True, n_jobs=1, transformer_weights=None)</td><td>most_frequent                                         </td><td>KNNTransformer(mode=distance, n_neighbors=40, algorithm=auto, leaf_size=30, metric=minkowski, p=2, metric_params=None, n_jobs=1)</td><td style=\"text-align: right;\">                                  2</td><td>Passthrough(None)       </td><td style=\"text-align: right;\">     1</td><td style=\"text-align: right;\">        17.5012 </td><td style=\"text-align: right;\">               0.583935</td><td style=\"text-align: right;\">           12.8762  </td></tr>\n",
       "<tr><td>SklearnTrainable_f93b5bba</td><td>TERMINATED</td><td>     </td><td>BinaryEncoder(categories=auto, handle_unknown=use_encoded_value, dtype=&lt;class &#x27;bool&#x27;&gt;, unknown_value=None)</td><td>CatBoostEncoderBinary(base_transformer=CatBoostEncoder(cols=[], random_state=0), cv=5, return_same_type=True, is_classification=True, random_state=None)</td><td>passthrough                                                                                                        </td><td>passthrough                                                                                       </td><td>RandomForestClassifier(n_estimators=100, randomization_type=rf, criterion=gini, max_depth=10, min_samples_split=2, min_samples_leaf=1, min_weight_fraction_leaf=1e-10, max_features=0.2, random_state=0, max_leaf_nodes=None, min_impurity_decrease=1e-10, bootstrap=True, oob_score=False, n_jobs=None, class_weight=balanced, ccp_alpha=0.0, verbose=0, warm_start=False, max_samples=None)</td><td>                                                         </td><td style=\"text-align: right;\">                                                </td><td style=\"text-align: right;\">                                                   </td><td style=\"text-align: right;\">                                              </td><td>                                          </td><td style=\"text-align: right;\">                                  </td><td>                                             </td><td style=\"text-align: right;\">                                         </td><td>balanced                                         </td><td>gini                                          </td><td style=\"text-align: right;\">                                            10</td><td style=\"text-align: right;\">                                              0.2</td><td style=\"text-align: right;\">                                                     1e-10</td><td style=\"text-align: right;\">                                                    1</td><td style=\"text-align: right;\">                                                     2</td><td style=\"text-align: right;\">                                                        1e-10</td><td style=\"text-align: right;\">                                              100</td><td>et                                                     </td><td>Passthrough(None)</td><td>Passthrough(None)</td><td>CombinedSimpleImputer(numeric_strategy=median, numeric_fill_value=0, categorical_strategy=most_frequent, categorical_fill_value=missing_value, verbose=0, copy=True, n_jobs=1, transformer_weights=None)</td><td>most_frequent                                         </td><td>passthrough                                                                                                                     </td><td style=\"text-align: right;\">                                   </td><td>Passthrough(None)       </td><td style=\"text-align: right;\">      </td><td style=\"text-align: right;\">                </td><td style=\"text-align: right;\">                       </td><td style=\"text-align: right;\">                    </td></tr>\n",
       "<tr><td>SklearnTrainable_f93b5bbb</td><td>TERMINATED</td><td>     </td><td>BinaryEncoder(categories=auto, handle_unknown=use_encoded_value, dtype=&lt;class &#x27;bool&#x27;&gt;, unknown_value=None)</td><td>CatBoostEncoderBinary(base_transformer=CatBoostEncoder(cols=[], random_state=0), cv=5, return_same_type=True, is_classification=True, random_state=None)</td><td>passthrough                                                                                                        </td><td>CombinedScalerTransformer(sparse_threshold=0.3, n_jobs=1, transformer_weights=None, verbose=False)</td><td>LogisticRegression(penalty=elasticnet, dual=False, tol=0.0001, C=1.0, fit_intercept=True, intercept_scaling=1, class_weight=balanced, random_state=0, solver=saga, max_iter=200, multi_class=auto, verbose=0, warm_start=False, n_jobs=None, l1_ratio=0)                                                                                                                                     </td><td>                                                         </td><td style=\"text-align: right;\">                                                </td><td style=\"text-align: right;\">                                                   </td><td style=\"text-align: right;\">                                              </td><td>                                          </td><td style=\"text-align: right;\">                                 1</td><td>balanced                                     </td><td style=\"text-align: right;\">                                     0   </td><td>                                                 </td><td>                                              </td><td style=\"text-align: right;\">                                              </td><td style=\"text-align: right;\">                                                 </td><td style=\"text-align: right;\">                                                          </td><td style=\"text-align: right;\">                                                     </td><td style=\"text-align: right;\">                                                      </td><td style=\"text-align: right;\">                                                             </td><td style=\"text-align: right;\">                                                 </td><td>                                                       </td><td>Passthrough(None)</td><td>Passthrough(None)</td><td>CombinedSimpleImputer(numeric_strategy=median, numeric_fill_value=0, categorical_strategy=most_frequent, categorical_fill_value=missing_value, verbose=0, copy=True, n_jobs=1, transformer_weights=None)</td><td>most_frequent                                         </td><td>passthrough                                                                                                                     </td><td style=\"text-align: right;\">                                   </td><td>Passthrough(None)       </td><td style=\"text-align: right;\">     1</td><td style=\"text-align: right;\">         1.5856 </td><td style=\"text-align: right;\">               0.770187</td><td style=\"text-align: right;\">            0.992059</td></tr>\n",
       "</tbody>\n",
       "</table><br><br>"
      ],
      "text/plain": [
       "<IPython.core.display.HTML object>"
      ]
     },
     "metadata": {},
     "output_type": "display_data"
    },
    {
     "name": "stdout",
     "output_type": "stream",
     "text": [
      "\u001b[2m\u001b[36m(pid=4085874)\u001b[0m fitting on train took 0.7217710018157959\n",
      "\u001b[2m\u001b[36m(pid=4085874)\u001b[0m scoring took 0.340287446975708\n"
     ]
    },
    {
     "name": "stderr",
     "output_type": "stream",
     "text": [
      "2021-08-18 20:29:29,095\tINFO tune.py:550 -- Total run time: 33.00 seconds (30.62 seconds for the tuning loop).\n"
     ]
    },
    {
     "name": "stdout",
     "output_type": "stream",
     "text": [
      "\u001b[2m\u001b[36m(pid=4085086)\u001b[0m fitting ensemble\n",
      "\u001b[2m\u001b[36m(pid=4085087)\u001b[0m fitting ensemble\n",
      "\u001b[2m\u001b[36m(pid=4085403)\u001b[0m fitting ensemble\n",
      "\u001b[2m\u001b[36m(pid=4085086)\u001b[0m estimator PandasVotingClassifier n_jobs: 1\n",
      "\u001b[2m\u001b[36m(pid=4085874)\u001b[0m fitting ensemble\n",
      "\u001b[2m\u001b[36m(pid=4085403)\u001b[0m doing cv for BasePipeline(memory=DynamicMemory(location=/tmp/joblib),\n",
      "\u001b[2m\u001b[36m(pid=4085403)\u001b[0m              steps=[('Imputer',\n",
      "\u001b[2m\u001b[36m(pid=4085403)\u001b[0m                      PandasCombinedSimpleImputer(n_jobs=1,\n",
      "\u001b[2m\u001b[36m(pid=4085403)\u001b[0m                                                  numeric_strategy='median')),\n",
      "\u001b[2m\u001b[36m(pid=4085403)\u001b[0m                     ('FeatureSelector', 'passthrough'),\n",
      "\u001b[2m\u001b[36m(pid=4085403)\u001b[0m                     ('Imbalance', 'passthrough'),\n",
      "\u001b[2m\u001b[36m(pid=4085403)\u001b[0m                     ('ColumnOrdinal',\n",
      "\u001b[2m\u001b[36m(pid=4085403)\u001b[0m                      PandasColumnTransformer(n_jobs=1, remainder='passthrough',\n",
      "\u001b[2m\u001b[36m(pid=4085403)\u001b[0m                                              sparse_threshold=0,\n",
      "\u001b[2m\u001b[36m(pid=4085403)\u001b[0m                                              transformers=[('OrdinalEncoder',\n",
      "\u001b[2m\u001b[36m(pid=4085403)\u001b[0m                                                             'passthrough',\n",
      "\u001b[2m\u001b[36m(pid=4085403)\u001b[0m                                                             <automl_mo...\n",
      "\u001b[2m\u001b[36m(pid=4085403)\u001b[0m                                                             PandasCombinedScalerTransformer(n_jobs=1),\n",
      "\u001b[2m\u001b[36m(pid=4085403)\u001b[0m                                                             <automl_models.components.flow.column_transformer.make_column_selector object at 0x7f466ab50940>)])),\n",
      "\u001b[2m\u001b[36m(pid=4085403)\u001b[0m                     ('SVMKernelApproximation', 'passthrough'),\n",
      "\u001b[2m\u001b[36m(pid=4085403)\u001b[0m                     ('KNNTransformer', 'passthrough'),\n",
      "\u001b[2m\u001b[36m(pid=4085403)\u001b[0m                     ('Estimator',\n",
      "\u001b[2m\u001b[36m(pid=4085403)\u001b[0m                      LogisticRegression(class_weight='balanced', l1_ratio=0.15,\n",
      "\u001b[2m\u001b[36m(pid=4085403)\u001b[0m                                         max_iter=200, penalty='elasticnet',\n",
      "\u001b[2m\u001b[36m(pid=4085403)\u001b[0m                                         random_state=42, solver='saga'))]).predict_proba\n",
      "\u001b[2m\u001b[36m(pid=4085873)\u001b[0m fitting ensemble\n",
      "\u001b[2m\u001b[36m(pid=4085087)\u001b[0m estimator PandasVotingClassifier n_jobs: 1\n",
      "\u001b[2m\u001b[36m(pid=4085874)\u001b[0m doing cv for BasePipeline(memory=DynamicMemory(location=/tmp/joblib),\n",
      "\u001b[2m\u001b[36m(pid=4085874)\u001b[0m              steps=[('Imputer',\n",
      "\u001b[2m\u001b[36m(pid=4085874)\u001b[0m                      PandasCombinedSimpleImputer(n_jobs=1,\n",
      "\u001b[2m\u001b[36m(pid=4085874)\u001b[0m                                                  numeric_strategy='median')),\n",
      "\u001b[2m\u001b[36m(pid=4085874)\u001b[0m                     ('FeatureSelector', 'passthrough'),\n",
      "\u001b[2m\u001b[36m(pid=4085874)\u001b[0m                     ('Imbalance', 'passthrough'),\n",
      "\u001b[2m\u001b[36m(pid=4085874)\u001b[0m                     ('ColumnOrdinal',\n",
      "\u001b[2m\u001b[36m(pid=4085874)\u001b[0m                      PandasColumnTransformer(n_jobs=1, remainder='passthrough',\n",
      "\u001b[2m\u001b[36m(pid=4085874)\u001b[0m                                              sparse_threshold=0,\n",
      "\u001b[2m\u001b[36m(pid=4085874)\u001b[0m                                              transformers=[('OrdinalEncoder',\n",
      "\u001b[2m\u001b[36m(pid=4085874)\u001b[0m                                                             'passthrough',\n",
      "\u001b[2m\u001b[36m(pid=4085874)\u001b[0m                                                             <automl_mo...\n",
      "\u001b[2m\u001b[36m(pid=4085874)\u001b[0m                                                             PandasCombinedScalerTransformer(n_jobs=1),\n",
      "\u001b[2m\u001b[36m(pid=4085874)\u001b[0m                                                             <automl_models.components.flow.column_transformer.make_column_selector object at 0x7f9dc3d2e4c0>)])),\n",
      "\u001b[2m\u001b[36m(pid=4085874)\u001b[0m                     ('SVMKernelApproximation', 'passthrough'),\n",
      "\u001b[2m\u001b[36m(pid=4085874)\u001b[0m                     ('KNNTransformer', 'passthrough'),\n",
      "\u001b[2m\u001b[36m(pid=4085874)\u001b[0m                     ('Estimator',\n",
      "\u001b[2m\u001b[36m(pid=4085874)\u001b[0m                      LogisticRegression(class_weight='balanced', l1_ratio=0.15,\n",
      "\u001b[2m\u001b[36m(pid=4085874)\u001b[0m                                         max_iter=200, penalty='elasticnet',\n",
      "\u001b[2m\u001b[36m(pid=4085874)\u001b[0m                                         random_state=42, solver='saga'))]).predict_proba\n",
      "\u001b[2m\u001b[36m(pid=4085873)\u001b[0m estimator PandasVotingClassifier n_jobs: 1\n"
     ]
    },
    {
     "name": "stderr",
     "output_type": "stream",
     "text": [
      "\u001b[2m\u001b[36m(pid=4085403)\u001b[0m is_categorical is deprecated and will be removed in a future version.  Use is_categorical_dtype instead\n",
      "\u001b[2m\u001b[36m(pid=4085874)\u001b[0m is_categorical is deprecated and will be removed in a future version.  Use is_categorical_dtype instead\n",
      "\u001b[2m\u001b[36m(pid=4085403)\u001b[0m is_categorical is deprecated and will be removed in a future version.  Use is_categorical_dtype instead\n",
      "\u001b[2m\u001b[36m(pid=4085873)\u001b[0m elementwise comparison failed; returning scalar instead, but in the future will perform elementwise comparison\n"
     ]
    },
    {
     "name": "stdout",
     "output_type": "stream",
     "text": [
      "\u001b[2m\u001b[36m(pid=4085087)\u001b[0m scoring took 0.4719877243041992\n",
      "\u001b[2m\u001b[36m(pid=4085087)\u001b[0m {'accuracy': 0.7927773000859846, 'balanced_accuracy': 0.8102254605126309, 'roc_auc': nan, 'precision': 0.5449752883031301, 'recall': 0.8438775510204082, 'specificity': 0.7765733700048536, 'f1': 0.6622622622622624, 'matthews_corrcoef': 0.5485864648102262}\n",
      "\u001b[2m\u001b[36m(pid=4085086)\u001b[0m scoring took 0.6391143798828125\n",
      "\u001b[2m\u001b[36m(pid=4085086)\u001b[0m {'accuracy': 0.7926544650534333, 'balanced_accuracy': 0.8099703584718145, 'roc_auc': nan, 'precision': 0.5448253131179961, 'recall': 0.8433673469387755, 'specificity': 0.7765733700048536, 'f1': 0.6619943932719263, 'matthews_corrcoef': 0.5481720038282998}\n"
     ]
    },
    {
     "name": "stderr",
     "output_type": "stream",
     "text": [
      "\u001b[2m\u001b[36m(pid=4085873)\u001b[0m elementwise comparison failed; returning scalar instead, but in the future will perform elementwise comparison\n",
      "\u001b[2m\u001b[36m(pid=4085403)\u001b[0m is_categorical is deprecated and will be removed in a future version.  Use is_categorical_dtype instead\n",
      "\u001b[2m\u001b[36m(pid=4085874)\u001b[0m is_categorical is deprecated and will be removed in a future version.  Use is_categorical_dtype instead\n",
      "\u001b[2m\u001b[36m(pid=4085873)\u001b[0m elementwise comparison failed; returning scalar instead, but in the future will perform elementwise comparison\n",
      "\u001b[2m\u001b[36m(pid=4085873)\u001b[0m elementwise comparison failed; returning scalar instead, but in the future will perform elementwise comparison\n",
      "\u001b[2m\u001b[36m(pid=4085403)\u001b[0m is_categorical is deprecated and will be removed in a future version.  Use is_categorical_dtype instead\n"
     ]
    },
    {
     "name": "stdout",
     "output_type": "stream",
     "text": [
      "\u001b[2m\u001b[36m(pid=4085873)\u001b[0m scoring took 0.9079225063323975\n",
      "\u001b[2m\u001b[36m(pid=4085873)\u001b[0m {'accuracy': 0.8072718339270359, 'balanced_accuracy': 0.8279586636466592, 'roc_auc': 0.9104142384991532, 'precision': 0.5649285951511126, 'recall': 0.8678571428571429, 'specificity': 0.7880601844361754, 'f1': 0.6843693421846712, 'matthews_corrcoef': 0.5808880615558409}\n"
     ]
    },
    {
     "name": "stderr",
     "output_type": "stream",
     "text": [
      "\u001b[2m\u001b[36m(pid=4085874)\u001b[0m is_categorical is deprecated and will be removed in a future version.  Use is_categorical_dtype instead\n",
      "\u001b[2m\u001b[36m(pid=4085873)\u001b[0m elementwise comparison failed; returning scalar instead, but in the future will perform elementwise comparison\n",
      "\u001b[2m\u001b[36m(pid=4085403)\u001b[0m is_categorical is deprecated and will be removed in a future version.  Use is_categorical_dtype instead\n",
      "\u001b[2m\u001b[36m(pid=4085874)\u001b[0m is_categorical is deprecated and will be removed in a future version.  Use is_categorical_dtype instead\n",
      "\u001b[2m\u001b[36m(pid=4085403)\u001b[0m is_categorical is deprecated and will be removed in a future version.  Use is_categorical_dtype instead\n",
      "\u001b[2m\u001b[36m(pid=4085874)\u001b[0m is_categorical is deprecated and will be removed in a future version.  Use is_categorical_dtype instead\n",
      "\u001b[2m\u001b[36m(pid=4085874)\u001b[0m is_categorical is deprecated and will be removed in a future version.  Use is_categorical_dtype instead\n",
      "\u001b[2m\u001b[36m(pid=4085403)\u001b[0m 2021-08-18 20:29:32,787\tWARNING pool.py:470 -- The 'context' argument is not supported using ray. Please refer to the documentation for how to control ray initialization.\n",
      "\u001b[2m\u001b[36m(pid=4085874)\u001b[0m 2021-08-18 20:29:33,607\tWARNING pool.py:470 -- The 'context' argument is not supported using ray. Please refer to the documentation for how to control ray initialization.\n"
     ]
    },
    {
     "name": "stdout",
     "output_type": "stream",
     "text": [
      "\u001b[2m\u001b[36m(pid=4085922)\u001b[0m fitting ensemble\n",
      "\u001b[2m\u001b[36m(pid=4085922)\u001b[0m estimator PandasVotingClassifier n_jobs: 1\n"
     ]
    },
    {
     "name": "stderr",
     "output_type": "stream",
     "text": [
      "\u001b[2m\u001b[36m(pid=4085922)\u001b[0m elementwise comparison failed; returning scalar instead, but in the future will perform elementwise comparison\n",
      "\u001b[2m\u001b[36m(pid=4085922)\u001b[0m elementwise comparison failed; returning scalar instead, but in the future will perform elementwise comparison\n",
      "\u001b[2m\u001b[36m(pid=4085922)\u001b[0m elementwise comparison failed; returning scalar instead, but in the future will perform elementwise comparison\n",
      "\u001b[2m\u001b[36m(pid=4085922)\u001b[0m elementwise comparison failed; returning scalar instead, but in the future will perform elementwise comparison\n"
     ]
    },
    {
     "name": "stdout",
     "output_type": "stream",
     "text": [
      "\u001b[2m\u001b[36m(pid=4085922)\u001b[0m scoring took 0.5979819297790527\n",
      "\u001b[2m\u001b[36m(pid=4085922)\u001b[0m {'accuracy': 0.8075175039921385, 'balanced_accuracy': 0.8281204497654102, 'roc_auc': 0.9108912599176542, 'precision': 0.5653040877367896, 'recall': 0.8678571428571429, 'specificity': 0.7883837566736774, 'f1': 0.6846447977460254, 'matthews_corrcoef': 0.5812544403517383}\n"
     ]
    },
    {
     "name": "stderr",
     "output_type": "stream",
     "text": [
      "\u001b[2m\u001b[36m(pid=4085922)\u001b[0m elementwise comparison failed; returning scalar instead, but in the future will perform elementwise comparison\n",
      "\u001b[2m\u001b[36m(pid=4085403)\u001b[0m is_categorical is deprecated and will be removed in a future version.  Use is_categorical_dtype instead\n",
      "\u001b[2m\u001b[36m(pid=4085403)\u001b[0m is_categorical is deprecated and will be removed in a future version.  Use is_categorical_dtype instead\n",
      "\u001b[2m\u001b[36m(pid=4085403)\u001b[0m is_categorical is deprecated and will be removed in a future version.  Use is_categorical_dtype instead\n",
      "\u001b[2m\u001b[36m(pid=4085403)\u001b[0m is_categorical is deprecated and will be removed in a future version.  Use is_categorical_dtype instead\n",
      "\u001b[2m\u001b[36m(pid=4085403)\u001b[0m is_categorical is deprecated and will be removed in a future version.  Use is_categorical_dtype instead\n",
      "\u001b[2m\u001b[36m(pid=4085403)\u001b[0m is_categorical is deprecated and will be removed in a future version.  Use is_categorical_dtype instead\n",
      "\u001b[2m\u001b[36m(pid=4085403)\u001b[0m is_categorical is deprecated and will be removed in a future version.  Use is_categorical_dtype instead\n",
      "\u001b[2m\u001b[36m(pid=4085403)\u001b[0m is_categorical is deprecated and will be removed in a future version.  Use is_categorical_dtype instead\n",
      "\u001b[2m\u001b[36m(pid=4085403)\u001b[0m is_categorical is deprecated and will be removed in a future version.  Use is_categorical_dtype instead\n",
      "\u001b[2m\u001b[36m(pid=4085403)\u001b[0m is_categorical is deprecated and will be removed in a future version.  Use is_categorical_dtype instead\n",
      "\u001b[2m\u001b[36m(pid=4085403)\u001b[0m is_categorical is deprecated and will be removed in a future version.  Use is_categorical_dtype instead\n",
      "\u001b[2m\u001b[36m(pid=4085403)\u001b[0m is_categorical is deprecated and will be removed in a future version.  Use is_categorical_dtype instead\n",
      "\u001b[2m\u001b[36m(pid=4085403)\u001b[0m is_categorical is deprecated and will be removed in a future version.  Use is_categorical_dtype instead\n",
      "\u001b[2m\u001b[36m(pid=4085403)\u001b[0m is_categorical is deprecated and will be removed in a future version.  Use is_categorical_dtype instead\n",
      "\u001b[2m\u001b[36m(pid=4085403)\u001b[0m is_categorical is deprecated and will be removed in a future version.  Use is_categorical_dtype instead\n",
      "\u001b[2m\u001b[36m(pid=4085403)\u001b[0m is_categorical is deprecated and will be removed in a future version.  Use is_categorical_dtype instead\n",
      "\u001b[2m\u001b[36m(pid=4085403)\u001b[0m is_categorical is deprecated and will be removed in a future version.  Use is_categorical_dtype instead\n",
      "\u001b[2m\u001b[36m(pid=4085403)\u001b[0m is_categorical is deprecated and will be removed in a future version.  Use is_categorical_dtype instead\n"
     ]
    },
    {
     "name": "stdout",
     "output_type": "stream",
     "text": [
      "\u001b[2m\u001b[36m(pid=4085403)\u001b[0m 'max_features' should be 0 and 4 features.Got 10 instead.\n",
      "\u001b[2m\u001b[36m(pid=4085403)\u001b[0m Setting max_features to 4\n",
      "\u001b[2m\u001b[36m(pid=4085403)\u001b[0m doing cv for BasePipeline(memory=DynamicMemory(location=/tmp/joblib),\n",
      "\u001b[2m\u001b[36m(pid=4085403)\u001b[0m              steps=[('Imputer',\n",
      "\u001b[2m\u001b[36m(pid=4085403)\u001b[0m                      PandasCombinedSimpleImputer(n_jobs=1,\n",
      "\u001b[2m\u001b[36m(pid=4085403)\u001b[0m                                                  numeric_strategy='median')),\n",
      "\u001b[2m\u001b[36m(pid=4085403)\u001b[0m                     ('FeatureSelector', 'passthrough'),\n",
      "\u001b[2m\u001b[36m(pid=4085403)\u001b[0m                     ('Imbalance', 'passthrough'),\n",
      "\u001b[2m\u001b[36m(pid=4085403)\u001b[0m                     ('ColumnOrdinal',\n",
      "\u001b[2m\u001b[36m(pid=4085403)\u001b[0m                      PandasColumnTransformer(n_jobs=1, remainder='passthrough',\n",
      "\u001b[2m\u001b[36m(pid=4085403)\u001b[0m                                              sparse_threshold=0,\n",
      "\u001b[2m\u001b[36m(pid=4085403)\u001b[0m                                              transformers=[('OrdinalEncoder',\n",
      "\u001b[2m\u001b[36m(pid=4085403)\u001b[0m                                                             'passthrough',\n",
      "\u001b[2m\u001b[36m(pid=4085403)\u001b[0m                                                             <automl_mo...\n",
      "\u001b[2m\u001b[36m(pid=4085403)\u001b[0m                                                             PandasCombinedScalerTransformer(n_jobs=1),\n",
      "\u001b[2m\u001b[36m(pid=4085403)\u001b[0m                                                             <automl_models.components.flow.column_transformer.make_column_selector object at 0x7f466ab50940>)])),\n",
      "\u001b[2m\u001b[36m(pid=4085403)\u001b[0m                     ('SVMKernelApproximation', 'passthrough'),\n",
      "\u001b[2m\u001b[36m(pid=4085403)\u001b[0m                     ('KNNTransformer', 'passthrough'),\n",
      "\u001b[2m\u001b[36m(pid=4085403)\u001b[0m                     ('Estimator',\n",
      "\u001b[2m\u001b[36m(pid=4085403)\u001b[0m                      LogisticRegression(class_weight='balanced', l1_ratio=0.15,\n",
      "\u001b[2m\u001b[36m(pid=4085403)\u001b[0m                                         max_iter=200, penalty='elasticnet',\n",
      "\u001b[2m\u001b[36m(pid=4085403)\u001b[0m                                         random_state=42, solver='saga'))]).predict_proba\n",
      "\u001b[2m\u001b[36m(pid=4085874)\u001b[0m estimator PandasStackingClassifier n_jobs: 1\n"
     ]
    },
    {
     "name": "stderr",
     "output_type": "stream",
     "text": [
      "\u001b[2m\u001b[36m(pid=4085874)\u001b[0m elementwise comparison failed; returning scalar instead, but in the future will perform elementwise comparison\n",
      "\u001b[2m\u001b[36m(pid=4085874)\u001b[0m elementwise comparison failed; returning scalar instead, but in the future will perform elementwise comparison\n",
      "\u001b[2m\u001b[36m(pid=4085874)\u001b[0m elementwise comparison failed; returning scalar instead, but in the future will perform elementwise comparison\n",
      "\u001b[2m\u001b[36m(pid=4085874)\u001b[0m elementwise comparison failed; returning scalar instead, but in the future will perform elementwise comparison\n"
     ]
    },
    {
     "name": "stdout",
     "output_type": "stream",
     "text": [
      "\u001b[2m\u001b[36m(pid=4085874)\u001b[0m scoring took 1.3697566986083984\n",
      "\u001b[2m\u001b[36m(pid=4085874)\u001b[0m {'accuracy': 0.8341727060557671, 'balanced_accuracy': 0.8495068412415929, 'roc_auc': 0.930544682684593, 'precision': 0.6075458392101551, 'recall': 0.8790816326530613, 'specificity': 0.8199320498301246, 'f1': 0.7185154295246039, 'matthews_corrcoef': 0.627259542273472}\n"
     ]
    },
    {
     "name": "stderr",
     "output_type": "stream",
     "text": [
      "\u001b[2m\u001b[36m(pid=4085874)\u001b[0m elementwise comparison failed; returning scalar instead, but in the future will perform elementwise comparison\n"
     ]
    },
    {
     "name": "stdout",
     "output_type": "stream",
     "text": [
      "\u001b[2m\u001b[36m(pid=4085403)\u001b[0m Index(['age', 'workclass', 'education-num', 'marital-status', 'occupation',\n",
      "\u001b[2m\u001b[36m(pid=4085403)\u001b[0m        'relationship', 'race', 'sex', 'hours-per-week', 'native-country',\n",
      "\u001b[2m\u001b[36m(pid=4085403)\u001b[0m        'capital'],\n",
      "\u001b[2m\u001b[36m(pid=4085403)\u001b[0m       dtype='object')\n",
      "\u001b[2m\u001b[36m(pid=4085403)\u001b[0m {0}\n",
      "\u001b[2m\u001b[36m(pid=4085403)\u001b[0m {'meta-0_e9396efa', 'meta-0_e9396efb', 'meta-0_f93b5bbb'}\n",
      "\u001b[2m\u001b[36m(pid=4085403)\u001b[0m estimator PandasStackingClassifier n_jobs: 1\n"
     ]
    },
    {
     "name": "stderr",
     "output_type": "stream",
     "text": [
      "\u001b[2m\u001b[36m(pid=4085403)\u001b[0m elementwise comparison failed; returning scalar instead, but in the future will perform elementwise comparison\n",
      "\u001b[2m\u001b[36m(pid=4085403)\u001b[0m elementwise comparison failed; returning scalar instead, but in the future will perform elementwise comparison\n"
     ]
    },
    {
     "name": "stdout",
     "output_type": "stream",
     "text": [
      "\u001b[2m\u001b[36m(pid=4085403)\u001b[0m scoring took 0.18795466423034668\n",
      "\u001b[2m\u001b[36m(pid=4085403)\u001b[0m {'accuracy': 0.8339270359906645, 'balanced_accuracy': 0.8486482191970786, 'roc_auc': 0.9309642122501808, 'precision': 0.6074204946996467, 'recall': 0.8770408163265306, 'specificity': 0.8202556220676266, 'f1': 0.7177453027139874, 'matthews_corrcoef': 0.6260276077198152}\n"
     ]
    },
    {
     "name": "stderr",
     "output_type": "stream",
     "text": [
      "/home/ubuntu/.local/share/virtualenvs/automl-R4LDggHl/lib/python3.8/site-packages/optuna/samplers/_tpe/sampler.py:263: ExperimentalWarning:\n",
      "\n",
      "``multivariate`` option is an experimental feature. The interface can change in the future.\n",
      "\n",
      "/home/ubuntu/.local/share/virtualenvs/automl-R4LDggHl/lib/python3.8/site-packages/optuna/samplers/_tpe/sampler.py:274: ExperimentalWarning:\n",
      "\n",
      "``group`` option is an experimental feature. The interface can change in the future.\n",
      "\n",
      "/home/ubuntu/.local/share/virtualenvs/automl-R4LDggHl/lib/python3.8/site-packages/optuna/samplers/_tpe/sampler.py:282: ExperimentalWarning:\n",
      "\n",
      "``constant_liar`` option is an experimental feature. The interface can change in the future.\n",
      "\n",
      "\u001b[32m[I 2021-08-18 20:30:40,080]\u001b[0m A new study created in memory with name: optuna\u001b[0m\n"
     ]
    },
    {
     "data": {
      "application/vnd.jupyter.widget-view+json": {
       "model_id": "118932a3db2942e9ad5dc325d0a1b7fa",
       "version_major": 2,
       "version_minor": 0
      },
      "text/plain": [
       "FigureWidget({\n",
       "    'data': [{'mode': 'lines+markers',\n",
       "              'name': 'Best validation score',\n",
       "         …"
      ]
     },
     "metadata": {},
     "output_type": "display_data"
    },
    {
     "name": "stdout",
     "output_type": "stream",
     "text": [
      "suggest 2750cad0, 12\n",
      "2750cad0 final suggestion by 0: {'ColumnScaling__ScalerNormalizer': 'CombinedScalerTransformer(sparse_threshold=0.3, n_jobs=1, transformer_weights=None, verbose=False)', 'Estimator': 'LogisticRegression(penalty=elasticnet, dual=False, tol=0.0001, C=1.0, fit_intercept=True, intercept_scaling=1, class_weight=balanced, random_state=0, solver=saga, max_iter=200, multi_class=auto, verbose=0, warm_start=False, n_jobs=None, l1_ratio=0)', 'FeatureSelector': 'Passthrough(None)', 'Estimator__LogisticRegression__C': 1.0, 'Estimator__LogisticRegression__l1_ratio': 1, 'Estimator__LogisticRegression__class_weight': 'balanced', 'Imputer__CombinedSimpleImputer__categorical_strategy': 'most_frequent', 'Imputer': 'CombinedSimpleImputer(numeric_strategy=median, numeric_fill_value=0, categorical_strategy=most_frequent, categorical_fill_value=missing_value, verbose=0, copy=True, n_jobs=1, transformer_weights=None)', 'Imbalance': 'Passthrough(None)', 'ColumnOrdinal__OrdinalEncoder': 'passthrough', 'ColumnEncoding__BinaryEncoder': \"BinaryEncoder(categories=auto, handle_unknown=use_encoded_value, dtype=<class 'bool'>, unknown_value=None)\", 'ColumnEncoding__CategoricalEncoder': 'CatBoostEncoderBinary(base_transformer=CatBoostEncoder(cols=[], random_state=0), cv=5, return_same_type=True, is_classification=True, random_state=None)', 'SVMKernelApproximation': 'Passthrough(None)', 'KNNTransformer': 'passthrough'}\n"
     ]
    },
    {
     "data": {
      "text/html": [
       "== Status ==<br>Memory usage on this node: 5.0/31.0 GiB<br>Using FIFO scheduling algorithm.<br>Resources requested: 4.0/8 CPUs, 0/0 GPUs, 0.0/16.46 GiB heap, 0.0/8.23 GiB objects<br>Result logdir: /home/ubuntu/ray_results/SklearnTrainable_2021-08-18_20-30-40<br>Number of trials: 1/infinite (1 RUNNING)<br><br>"
      ],
      "text/plain": [
       "<IPython.core.display.HTML object>"
      ]
     },
     "metadata": {},
     "output_type": "display_data"
    },
    {
     "name": "stdout",
     "output_type": "stream",
     "text": [
      "suggest 2750cad1, 11\n",
      "2750cad1 final suggestion by 0: {'ColumnScaling__ScalerNormalizer': 'CombinedScalerTransformer(sparse_threshold=0.3, n_jobs=1, transformer_weights=None, verbose=False)', 'Estimator': 'LogisticRegression(penalty=elasticnet, dual=False, tol=0.0001, C=1.0, fit_intercept=True, intercept_scaling=1, class_weight=balanced, random_state=0, solver=saga, max_iter=200, multi_class=auto, verbose=0, warm_start=False, n_jobs=None, l1_ratio=0)', 'FeatureSelector': 'Passthrough(None)', 'Estimator__LogisticRegression__C': 1.0, 'Estimator__LogisticRegression__l1_ratio': 0.15, 'Estimator__LogisticRegression__class_weight': 'balanced', 'Imputer__CombinedSimpleImputer__categorical_strategy': 'most_frequent', 'Imputer': 'CombinedSimpleImputer(numeric_strategy=median, numeric_fill_value=0, categorical_strategy=most_frequent, categorical_fill_value=missing_value, verbose=0, copy=True, n_jobs=1, transformer_weights=None)', 'Imbalance': 'Passthrough(None)', 'ColumnOrdinal__OrdinalEncoder': 'passthrough', 'ColumnEncoding__BinaryEncoder': \"BinaryEncoder(categories=auto, handle_unknown=use_encoded_value, dtype=<class 'bool'>, unknown_value=None)\", 'ColumnEncoding__CategoricalEncoder': 'CatBoostEncoderBinary(base_transformer=CatBoostEncoder(cols=[], random_state=0), cv=5, return_same_type=True, is_classification=True, random_state=None)', 'SVMKernelApproximation': 'Passthrough(None)', 'KNNTransformer': 'passthrough'}\n",
      "\u001b[2m\u001b[36m(pid=4085403)\u001b[0m Index(['age', 'workclass', 'education-num', 'marital-status', 'occupation',\n",
      "\u001b[2m\u001b[36m(pid=4085403)\u001b[0m        'relationship', 'race', 'sex', 'hours-per-week', 'native-country',\n",
      "\u001b[2m\u001b[36m(pid=4085403)\u001b[0m        'capital', 'meta-0_ed312d4a_1', 'meta-0_e9396efb_1',\n",
      "\u001b[2m\u001b[36m(pid=4085403)\u001b[0m        'meta-0_f93b5bbb_1', 'meta-0_e9396efa_1'],\n",
      "\u001b[2m\u001b[36m(pid=4085403)\u001b[0m       dtype='object')\n",
      "\u001b[2m\u001b[36m(pid=4089020)\u001b[0m Index(['age', 'workclass', 'education-num', 'marital-status', 'occupation',\n",
      "\u001b[2m\u001b[36m(pid=4089020)\u001b[0m        'relationship', 'race', 'sex', 'hours-per-week', 'native-country',\n",
      "\u001b[2m\u001b[36m(pid=4089020)\u001b[0m        'capital', 'meta-0_ed312d4a_1', 'meta-0_e9396efb_1',\n",
      "\u001b[2m\u001b[36m(pid=4089020)\u001b[0m        'meta-0_f93b5bbb_1', 'meta-0_e9396efa_1'],\n",
      "\u001b[2m\u001b[36m(pid=4089020)\u001b[0m       dtype='object')\n"
     ]
    },
    {
     "name": "stderr",
     "output_type": "stream",
     "text": [
      "\u001b[2m\u001b[36m(pid=4089018)\u001b[0m is_categorical is deprecated and will be removed in a future version.  Use is_categorical_dtype instead\n",
      "\u001b[2m\u001b[36m(pid=4089018)\u001b[0m is_categorical is deprecated and will be removed in a future version.  Use is_categorical_dtype instead\n",
      "\u001b[2m\u001b[36m(pid=4089021)\u001b[0m is_categorical is deprecated and will be removed in a future version.  Use is_categorical_dtype instead\n",
      "\u001b[2m\u001b[36m(pid=4089021)\u001b[0m is_categorical is deprecated and will be removed in a future version.  Use is_categorical_dtype instead\n",
      "\u001b[2m\u001b[36m(pid=4089019)\u001b[0m is_categorical is deprecated and will be removed in a future version.  Use is_categorical_dtype instead\n",
      "\u001b[2m\u001b[36m(pid=4089018)\u001b[0m is_categorical is deprecated and will be removed in a future version.  Use is_categorical_dtype instead\n",
      "\u001b[2m\u001b[36m(pid=4089019)\u001b[0m is_categorical is deprecated and will be removed in a future version.  Use is_categorical_dtype instead\n",
      "\u001b[2m\u001b[36m(pid=4089021)\u001b[0m is_categorical is deprecated and will be removed in a future version.  Use is_categorical_dtype instead\n",
      "\u001b[2m\u001b[36m(pid=4089018)\u001b[0m is_categorical is deprecated and will be removed in a future version.  Use is_categorical_dtype instead\n",
      "\u001b[2m\u001b[36m(pid=4089167)\u001b[0m is_categorical is deprecated and will be removed in a future version.  Use is_categorical_dtype instead\n",
      "\u001b[2m\u001b[36m(pid=4089021)\u001b[0m is_categorical is deprecated and will be removed in a future version.  Use is_categorical_dtype instead\n",
      "\u001b[2m\u001b[36m(pid=4089019)\u001b[0m is_categorical is deprecated and will be removed in a future version.  Use is_categorical_dtype instead\n",
      "\u001b[2m\u001b[36m(pid=4089018)\u001b[0m is_categorical is deprecated and will be removed in a future version.  Use is_categorical_dtype instead\n",
      "\u001b[2m\u001b[36m(pid=4089167)\u001b[0m is_categorical is deprecated and will be removed in a future version.  Use is_categorical_dtype instead\n",
      "\u001b[2m\u001b[36m(pid=4089018)\u001b[0m is_categorical is deprecated and will be removed in a future version.  Use is_categorical_dtype instead\n",
      "\u001b[2m\u001b[36m(pid=4089021)\u001b[0m is_categorical is deprecated and will be removed in a future version.  Use is_categorical_dtype instead\n",
      "\u001b[2m\u001b[36m(pid=4089019)\u001b[0m is_categorical is deprecated and will be removed in a future version.  Use is_categorical_dtype instead\n",
      "\u001b[2m\u001b[36m(pid=4089167)\u001b[0m is_categorical is deprecated and will be removed in a future version.  Use is_categorical_dtype instead\n",
      "\u001b[2m\u001b[36m(pid=4089156)\u001b[0m is_categorical is deprecated and will be removed in a future version.  Use is_categorical_dtype instead\n",
      "\u001b[2m\u001b[36m(pid=4089021)\u001b[0m is_categorical is deprecated and will be removed in a future version.  Use is_categorical_dtype instead\n",
      "\u001b[2m\u001b[36m(pid=4089019)\u001b[0m is_categorical is deprecated and will be removed in a future version.  Use is_categorical_dtype instead\n",
      "\u001b[2m\u001b[36m(pid=4089167)\u001b[0m is_categorical is deprecated and will be removed in a future version.  Use is_categorical_dtype instead\n",
      "\u001b[2m\u001b[36m(pid=4089156)\u001b[0m is_categorical is deprecated and will be removed in a future version.  Use is_categorical_dtype instead\n",
      "\u001b[2m\u001b[36m(pid=4089019)\u001b[0m is_categorical is deprecated and will be removed in a future version.  Use is_categorical_dtype instead\n",
      "\u001b[2m\u001b[36m(pid=4089156)\u001b[0m is_categorical is deprecated and will be removed in a future version.  Use is_categorical_dtype instead\n",
      "\u001b[2m\u001b[36m(pid=4089167)\u001b[0m is_categorical is deprecated and will be removed in a future version.  Use is_categorical_dtype instead\n",
      "\u001b[2m\u001b[36m(pid=4089156)\u001b[0m is_categorical is deprecated and will be removed in a future version.  Use is_categorical_dtype instead\n",
      "\u001b[2m\u001b[36m(pid=4089167)\u001b[0m is_categorical is deprecated and will be removed in a future version.  Use is_categorical_dtype instead\n",
      "\u001b[2m\u001b[36m(pid=4089156)\u001b[0m is_categorical is deprecated and will be removed in a future version.  Use is_categorical_dtype instead\n",
      "\u001b[2m\u001b[36m(pid=4089156)\u001b[0m is_categorical is deprecated and will be removed in a future version.  Use is_categorical_dtype instead\n",
      "\u001b[2m\u001b[36m(pid=4089018)\u001b[0m is_categorical is deprecated and will be removed in a future version.  Use is_categorical_dtype instead\n",
      "\u001b[2m\u001b[36m(pid=4089018)\u001b[0m is_categorical is deprecated and will be removed in a future version.  Use is_categorical_dtype instead\n",
      "\u001b[2m\u001b[36m(pid=4089156)\u001b[0m is_categorical is deprecated and will be removed in a future version.  Use is_categorical_dtype instead\n",
      "\u001b[2m\u001b[36m(pid=4089156)\u001b[0m is_categorical is deprecated and will be removed in a future version.  Use is_categorical_dtype instead\n",
      "\u001b[2m\u001b[36m(pid=4089018)\u001b[0m is_categorical is deprecated and will be removed in a future version.  Use is_categorical_dtype instead\n",
      "\u001b[2m\u001b[36m(pid=4089156)\u001b[0m is_categorical is deprecated and will be removed in a future version.  Use is_categorical_dtype instead\n",
      "\u001b[2m\u001b[36m(pid=4089156)\u001b[0m is_categorical is deprecated and will be removed in a future version.  Use is_categorical_dtype instead\n",
      "\u001b[2m\u001b[36m(pid=4089018)\u001b[0m is_categorical is deprecated and will be removed in a future version.  Use is_categorical_dtype instead\n",
      "\u001b[2m\u001b[36m(pid=4089156)\u001b[0m is_categorical is deprecated and will be removed in a future version.  Use is_categorical_dtype instead\n",
      "\u001b[2m\u001b[36m(pid=4089018)\u001b[0m is_categorical is deprecated and will be removed in a future version.  Use is_categorical_dtype instead\n",
      "\u001b[2m\u001b[36m(pid=4089156)\u001b[0m is_categorical is deprecated and will be removed in a future version.  Use is_categorical_dtype instead\n",
      "\u001b[2m\u001b[36m(pid=4089021)\u001b[0m The max_iter was reached which means the coef_ did not converge\n",
      "\u001b[2m\u001b[36m(pid=4089018)\u001b[0m is_categorical is deprecated and will be removed in a future version.  Use is_categorical_dtype instead\n",
      "\u001b[2m\u001b[36m(pid=4089018)\u001b[0m is_categorical is deprecated and will be removed in a future version.  Use is_categorical_dtype instead\n",
      "\u001b[2m\u001b[36m(pid=4089018)\u001b[0m is_categorical is deprecated and will be removed in a future version.  Use is_categorical_dtype instead\n",
      "\u001b[2m\u001b[36m(pid=4089280)\u001b[0m is_categorical is deprecated and will be removed in a future version.  Use is_categorical_dtype instead\n",
      "\u001b[2m\u001b[36m(pid=4089018)\u001b[0m is_categorical is deprecated and will be removed in a future version.  Use is_categorical_dtype instead\n",
      "\u001b[2m\u001b[36m(pid=4089280)\u001b[0m is_categorical is deprecated and will be removed in a future version.  Use is_categorical_dtype instead\n",
      "\u001b[2m\u001b[36m(pid=4089018)\u001b[0m is_categorical is deprecated and will be removed in a future version.  Use is_categorical_dtype instead\n",
      "\u001b[2m\u001b[36m(pid=4089280)\u001b[0m is_categorical is deprecated and will be removed in a future version.  Use is_categorical_dtype instead\n",
      "\u001b[2m\u001b[36m(pid=4089018)\u001b[0m is_categorical is deprecated and will be removed in a future version.  Use is_categorical_dtype instead\n",
      "\u001b[2m\u001b[36m(pid=4089280)\u001b[0m is_categorical is deprecated and will be removed in a future version.  Use is_categorical_dtype instead\n",
      "\u001b[2m\u001b[36m(pid=4089280)\u001b[0m is_categorical is deprecated and will be removed in a future version.  Use is_categorical_dtype instead\n",
      "\u001b[2m\u001b[36m(pid=4089018)\u001b[0m is_categorical is deprecated and will be removed in a future version.  Use is_categorical_dtype instead\n",
      "\u001b[2m\u001b[36m(pid=4089280)\u001b[0m is_categorical is deprecated and will be removed in a future version.  Use is_categorical_dtype instead\n"
     ]
    },
    {
     "name": "stdout",
     "output_type": "stream",
     "text": [
      "\u001b[2m\u001b[36m(pid=4089280)\u001b[0m fitting on train took 1.2544302940368652\n",
      "\u001b[2m\u001b[36m(pid=4089280)\u001b[0m scoring took 0.2170102596282959\n",
      "Trial SklearnTrainable_2750cad1 reported mean_validation_score=0.8070011791048382,estimator_fit_time=5.009819030761719,metrics={'accuracy': 0.8293611793611794, 'balanced_accuracy': 0.8390868141549326, 'roc_auc': 0.9241564141208196, 'precision': 0.6023250437146545, 'recall': 0.8578487955345293, 'specificity': 0.8203248327753357, 'f1': 0.707718760242086, 'matthews_corrcoef': 0.6108572743064884, 'optimized_precision': 0.8070011791048382},test_metrics={'accuracy': 0.8309789952094337, 'balanced_accuracy': 0.8481004576235931, 'roc_auc': 0.9295934050695185, 'precision': 0.6017421602787456, 'recall': 0.8811224489795918, 'specificity': 0.8150784662675943, 'f1': 0.7151138716356108, 'matthews_corrcoef': 0.6230236615900172, 'optimized_precision': 0.7920425802374061} with parameters={'ColumnScaling__ScalerNormalizer': 'CombinedScalerTransformer(sparse_threshold=0.3, n_jobs=1, transformer_weights=None, verbose=False)', 'Estimator': 'LogisticRegression(penalty=elasticnet, dual=False, tol=0.0001, C=1.0, fit_intercept=True, intercept_scaling=1, class_weight=balanced, random_state=0, solver=saga, max_iter=200, multi_class=auto, verbose=0, warm_start=False, n_jobs=None, l1_ratio=0)', 'FeatureSelector': 'Passthrough(None)', 'Estimator__LogisticRegression__C': 1.0, 'Estimator__LogisticRegression__l1_ratio': 0.15, 'Estimator__LogisticRegression__class_weight': 'balanced', 'Imputer__CombinedSimpleImputer__categorical_strategy': 'most_frequent', 'Imputer': 'CombinedSimpleImputer(numeric_strategy=median, numeric_fill_value=0, categorical_strategy=most_frequent, categorical_fill_value=missing_value, verbose=0, copy=True, n_jobs=1, transformer_weights=None)', 'Imbalance': 'Passthrough(None)', 'ColumnOrdinal__OrdinalEncoder': 'passthrough', 'ColumnEncoding__BinaryEncoder': \"BinaryEncoder(categories=auto, handle_unknown=use_encoded_value, dtype=<class 'bool'>, unknown_value=None)\", 'ColumnEncoding__CategoricalEncoder': 'CatBoostEncoderBinary(base_transformer=CatBoostEncoder(cols=[], random_state=0), cv=5, return_same_type=True, is_classification=True, random_state=None)', 'SVMKernelApproximation': 'Passthrough(None)', 'KNNTransformer': 'passthrough'}. This trial completed.\n"
     ]
    },
    {
     "data": {
      "text/html": [
       "== Status ==<br>Memory usage on this node: 6.4/31.0 GiB<br>Using FIFO scheduling algorithm.<br>Resources requested: 4.0/8 CPUs, 0/0 GPUs, 0.0/16.46 GiB heap, 0.0/8.23 GiB objects<br>Result logdir: /home/ubuntu/ray_results/SklearnTrainable_2021-08-18_20-30-40<br>Number of trials: 2/infinite (1 RUNNING, 1 TERMINATED)<br><br>"
      ],
      "text/plain": [
       "<IPython.core.display.HTML object>"
      ]
     },
     "metadata": {},
     "output_type": "display_data"
    },
    {
     "name": "stdout",
     "output_type": "stream",
     "text": [
      "suggest 2dfa2e44, 10\n",
      "2dfa2e44 final suggestion by 0: {'Estimator': 'CatBoostClassifierBinary(n_estimators=200, learning_rate=None, max_depth=6, task_type=CPU, verbose=False, random_state=None, auto_class_weights=Balanced)', 'FeatureSelector': 'Passthrough(None)', 'Estimator__CatBoostClassifierBinary__n_estimators': 200, 'Estimator__CatBoostClassifierBinary__max_depth': 6, 'Estimator__CatBoostClassifierBinary__auto_class_weights': 'Balanced', 'Imputer__CombinedSimpleImputer__categorical_strategy': 'most_frequent', 'ColumnScaling__ScalerNormalizer': 'passthrough', 'Imputer': 'CombinedSimpleImputer(numeric_strategy=median, numeric_fill_value=0, categorical_strategy=most_frequent, categorical_fill_value=missing_value, verbose=0, copy=True, n_jobs=1, transformer_weights=None)', 'Imbalance': 'Passthrough(None)', 'ColumnOrdinal__OrdinalEncoder': \"OrdinalEncoder(categories=auto, handle_unknown=use_encoded_value, dtype=<class 'numpy.uint16'>, unknown_value=None)\", 'ColumnEncoding__BinaryEncoder': 'passthrough', 'ColumnEncoding__CategoricalEncoder': 'passthrough', 'SVMKernelApproximation': 'Passthrough(None)', 'KNNTransformer': 'passthrough'}\n"
     ]
    },
    {
     "name": "stderr",
     "output_type": "stream",
     "text": [
      "\u001b[2m\u001b[36m(pid=4089018)\u001b[0m The max_iter was reached which means the coef_ did not converge\n"
     ]
    },
    {
     "name": "stdout",
     "output_type": "stream",
     "text": [
      "\u001b[2m\u001b[36m(pid=4089018)\u001b[0m fitting on train took 2.474057197570801\n",
      "\u001b[2m\u001b[36m(pid=4089018)\u001b[0m scoring took 0.2146143913269043\n",
      "Trial SklearnTrainable_2750cad0 reported mean_validation_score=0.8072069288411217,estimator_fit_time=9.192109823226929,metrics={'accuracy': 0.8294021294021294, 'balanced_accuracy': 0.8390557175739053, 'roc_auc': 0.9241667247288493, 'precision': 0.6024195823346385, 'recall': 0.8576787275073183, 'specificity': 0.8204327076404921, 'f1': 0.7077268907365217, 'matthews_corrcoef': 0.6108525413274335, 'optimized_precision': 0.8072069288411217},test_metrics={'accuracy': 0.831101830241985, 'balanced_accuracy': 0.8481813506829685, 'roc_auc': 0.929609253505641, 'precision': 0.6019518996165911, 'recall': 0.8811224489795918, 'specificity': 0.8152402523863452, 'f1': 0.715261958997722, 'matthews_corrcoef': 0.6232179219646617, 'optimized_precision': 0.7922645010905027} with parameters={'ColumnScaling__ScalerNormalizer': 'CombinedScalerTransformer(sparse_threshold=0.3, n_jobs=1, transformer_weights=None, verbose=False)', 'Estimator': 'LogisticRegression(penalty=elasticnet, dual=False, tol=0.0001, C=1.0, fit_intercept=True, intercept_scaling=1, class_weight=balanced, random_state=0, solver=saga, max_iter=200, multi_class=auto, verbose=0, warm_start=False, n_jobs=None, l1_ratio=0)', 'FeatureSelector': 'Passthrough(None)', 'Estimator__LogisticRegression__C': 1.0, 'Estimator__LogisticRegression__l1_ratio': 1, 'Estimator__LogisticRegression__class_weight': 'balanced', 'Imputer__CombinedSimpleImputer__categorical_strategy': 'most_frequent', 'Imputer': 'CombinedSimpleImputer(numeric_strategy=median, numeric_fill_value=0, categorical_strategy=most_frequent, categorical_fill_value=missing_value, verbose=0, copy=True, n_jobs=1, transformer_weights=None)', 'Imbalance': 'Passthrough(None)', 'ColumnOrdinal__OrdinalEncoder': 'passthrough', 'ColumnEncoding__BinaryEncoder': \"BinaryEncoder(categories=auto, handle_unknown=use_encoded_value, dtype=<class 'bool'>, unknown_value=None)\", 'ColumnEncoding__CategoricalEncoder': 'CatBoostEncoderBinary(base_transformer=CatBoostEncoder(cols=[], random_state=0), cv=5, return_same_type=True, is_classification=True, random_state=None)', 'SVMKernelApproximation': 'Passthrough(None)', 'KNNTransformer': 'passthrough'}. This trial completed.\n",
      "suggest 2dfa2e45, 9\n",
      "2dfa2e45 final suggestion by 0: {'ColumnScaling__ScalerNormalizer': 'MinMaxScaler(feature_range=(0, 1), copy=True, clip=False)', 'Estimator': 'KNeighborsClassifier(n_neighbors=5, weights=distance, p=2, metric=precomputed, metric_params=None, n_jobs=None)', 'FeatureSelector': 'Passthrough(None)', 'Estimator__KNeighborsClassifier__n_neighbors': 5, 'Estimator__KNeighborsClassifier__weights': 'distance', 'Imputer__CombinedSimpleImputer__categorical_strategy': 'most_frequent', 'KNNTransformer__KNNTransformer__p': 2, 'Imputer': 'CombinedSimpleImputer(numeric_strategy=median, numeric_fill_value=0, categorical_strategy=most_frequent, categorical_fill_value=missing_value, verbose=0, copy=True, n_jobs=1, transformer_weights=None)', 'Imbalance': 'Passthrough(None)', 'ColumnOrdinal__OrdinalEncoder': 'passthrough', 'ColumnEncoding__BinaryEncoder': \"BinaryEncoder(categories=auto, handle_unknown=use_encoded_value, dtype=<class 'bool'>, unknown_value=None)\", 'ColumnEncoding__CategoricalEncoder': 'CatBoostEncoderBinary(base_transformer=CatBoostEncoder(cols=[], random_state=0), cv=5, return_same_type=True, is_classification=True, random_state=None)', 'SVMKernelApproximation': 'Passthrough(None)', 'KNNTransformer': 'KNNTransformer(mode=distance, n_neighbors=40, algorithm=auto, leaf_size=30, metric=minkowski, p=2, metric_params=None, n_jobs=1)'}\n",
      "\u001b[2m\u001b[36m(pid=4089018)\u001b[0m Index(['age', 'workclass', 'education-num', 'marital-status', 'occupation',\n",
      "\u001b[2m\u001b[36m(pid=4089018)\u001b[0m        'relationship', 'race', 'sex', 'hours-per-week', 'native-country',\n",
      "\u001b[2m\u001b[36m(pid=4089018)\u001b[0m        'capital', 'meta-0_ed312d4a_1', 'meta-0_e9396efb_1',\n",
      "\u001b[2m\u001b[36m(pid=4089018)\u001b[0m        'meta-0_f93b5bbb_1', 'meta-0_e9396efa_1'],\n",
      "\u001b[2m\u001b[36m(pid=4089018)\u001b[0m       dtype='object')\n",
      "\u001b[2m\u001b[36m(pid=4089167)\u001b[0m Index(['age', 'workclass', 'education-num', 'marital-status', 'occupation',\n",
      "\u001b[2m\u001b[36m(pid=4089167)\u001b[0m        'relationship', 'race', 'sex', 'hours-per-week', 'native-country',\n",
      "\u001b[2m\u001b[36m(pid=4089167)\u001b[0m        'capital', 'meta-0_ed312d4a_1', 'meta-0_e9396efb_1',\n",
      "\u001b[2m\u001b[36m(pid=4089167)\u001b[0m        'meta-0_f93b5bbb_1', 'meta-0_e9396efa_1'],\n",
      "\u001b[2m\u001b[36m(pid=4089167)\u001b[0m       dtype='object')\n",
      "\u001b[2m\u001b[36m(pid=4089280)\u001b[0m fitting on train took 4.525404691696167\n",
      "\u001b[2m\u001b[36m(pid=4089280)\u001b[0m scoring took 0.12925934791564941\n",
      "Trial SklearnTrainable_2dfa2e44 reported mean_validation_score=0.8124182956514066,estimator_fit_time=19.409541606903076,metrics={'accuracy': 0.8270679770679771, 'balanced_accuracy': 0.833396522619702, 'roc_auc': 0.9210498497051887, 'precision': 0.6000551074631764, 'recall': 0.8456055161697582, 'specificity': 0.8211875290696455, 'f1': 0.7019659408837996, 'matthews_corrcoef': 0.6021468873742307, 'optimized_precision': 0.8124182956514066},test_metrics={'accuracy': 0.8296278098513696, 'balanced_accuracy': 0.8454685441560543, 'roc_auc': 0.9308308212461492, 'precision': 0.600139811254806, 'recall': 0.8760204081632653, 'specificity': 0.8149166801488432, 'f1': 0.7123003526239369, 'matthews_corrcoef': 0.6187568541766415, 'optimized_precision': 0.7934917948353315} with parameters={'Estimator': 'CatBoostClassifierBinary(n_estimators=200, learning_rate=None, max_depth=6, task_type=CPU, verbose=False, random_state=None, auto_class_weights=Balanced)', 'FeatureSelector': 'Passthrough(None)', 'Estimator__CatBoostClassifierBinary__n_estimators': 200, 'Estimator__CatBoostClassifierBinary__max_depth': 6, 'Estimator__CatBoostClassifierBinary__auto_class_weights': 'Balanced', 'Imputer__CombinedSimpleImputer__categorical_strategy': 'most_frequent', 'ColumnScaling__ScalerNormalizer': 'passthrough', 'Imputer': 'CombinedSimpleImputer(numeric_strategy=median, numeric_fill_value=0, categorical_strategy=most_frequent, categorical_fill_value=missing_value, verbose=0, copy=True, n_jobs=1, transformer_weights=None)', 'Imbalance': 'Passthrough(None)', 'ColumnOrdinal__OrdinalEncoder': \"OrdinalEncoder(categories=auto, handle_unknown=use_encoded_value, dtype=<class 'numpy.uint16'>, unknown_value=None)\", 'ColumnEncoding__BinaryEncoder': 'passthrough', 'ColumnEncoding__CategoricalEncoder': 'passthrough', 'SVMKernelApproximation': 'Passthrough(None)', 'KNNTransformer': 'passthrough'}. This trial completed.\n"
     ]
    },
    {
     "name": "stderr",
     "output_type": "stream",
     "text": [
      "2021-08-18 20:31:16,852\tINFO stopper.py:348 -- Reached timeout of 30 seconds. Stopping all trials.\n"
     ]
    },
    {
     "data": {
      "text/html": [
       "== Status ==<br>Memory usage on this node: 6.4/31.0 GiB<br>Using FIFO scheduling algorithm.<br>Resources requested: 0/8 CPUs, 0/0 GPUs, 0.0/16.46 GiB heap, 0.0/8.23 GiB objects (0.0/1.0 CPU_group_3_5f7f07881370aeb6e6db15eac942931c, 0.0/1.0 CPU_group_3_516f512a950ebab1e353d6977b585508, 0.0/4.0 CPU_group_516f512a950ebab1e353d6977b585508, 0.0/4.0 CPU_group_5f7f07881370aeb6e6db15eac942931c, 0.0/1.0 CPU_group_2_516f512a950ebab1e353d6977b585508, 0.0/1.0 CPU_group_0_5f7f07881370aeb6e6db15eac942931c, 0.0/1.0 CPU_group_2_5f7f07881370aeb6e6db15eac942931c, 0.0/1.0 CPU_group_1_5f7f07881370aeb6e6db15eac942931c, 0.0/1.0 CPU_group_0_516f512a950ebab1e353d6977b585508, 0.0/1.0 CPU_group_1_516f512a950ebab1e353d6977b585508)<br>Result logdir: /home/ubuntu/ray_results/SklearnTrainable_2021-08-18_20-30-40<br>Number of trials: 4/infinite (4 TERMINATED)<br><br>"
      ],
      "text/plain": [
       "<IPython.core.display.HTML object>"
      ]
     },
     "metadata": {},
     "output_type": "display_data"
    },
    {
     "data": {
      "text/html": [
       "== Status ==<br>Memory usage on this node: 6.4/31.0 GiB<br>Using FIFO scheduling algorithm.<br>Resources requested: 0/8 CPUs, 0/0 GPUs, 0.0/16.46 GiB heap, 0.0/8.23 GiB objects (0.0/1.0 CPU_group_3_5f7f07881370aeb6e6db15eac942931c, 0.0/1.0 CPU_group_3_516f512a950ebab1e353d6977b585508, 0.0/4.0 CPU_group_516f512a950ebab1e353d6977b585508, 0.0/4.0 CPU_group_5f7f07881370aeb6e6db15eac942931c, 0.0/1.0 CPU_group_2_516f512a950ebab1e353d6977b585508, 0.0/1.0 CPU_group_0_5f7f07881370aeb6e6db15eac942931c, 0.0/1.0 CPU_group_2_5f7f07881370aeb6e6db15eac942931c, 0.0/1.0 CPU_group_1_5f7f07881370aeb6e6db15eac942931c, 0.0/1.0 CPU_group_0_516f512a950ebab1e353d6977b585508, 0.0/1.0 CPU_group_1_516f512a950ebab1e353d6977b585508)<br>Result logdir: /home/ubuntu/ray_results/SklearnTrainable_2021-08-18_20-30-40<br>Number of trials: 4/infinite (4 TERMINATED)<br><table>\n",
       "<thead>\n",
       "<tr><th>Trial name               </th><th>status    </th><th>loc  </th><th>ColumnEncoding__BinaryEncoder                                                                             </th><th>ColumnEncoding__CategoricalEncoder                                                                                                                      </th><th>ColumnOrdinal__OrdinalEncoder                                                                                      </th><th>ColumnScaling__ScalerNormalizer                                                                   </th><th>Estimator                                                                                                                                                                                                                                               </th><th>Estimator__CatBoostClassifierBinary__auto_class_weights  </th><th style=\"text-align: right;\">  Estimator__CatBoostClassifierBinary__max_depth</th><th style=\"text-align: right;\">  Estimator__CatBoostClassifierBinary__n_estimators</th><th style=\"text-align: right;\">  Estimator__KNeighborsClassifier__n_neighbors</th><th>Estimator__KNeighborsClassifier__weights  </th><th style=\"text-align: right;\">  Estimator__LogisticRegression__C</th><th>Estimator__LogisticRegression__class_weight  </th><th style=\"text-align: right;\">  Estimator__LogisticRegression__l1_ratio</th><th>FeatureSelector  </th><th>Imbalance        </th><th>Imputer                                                                                                                                                                                                 </th><th>Imputer__CombinedSimpleImputer__categorical_strategy  </th><th>KNNTransformer                                                                                                                  </th><th style=\"text-align: right;\">  KNNTransformer__KNNTransformer__p</th><th>SVMKernelApproximation  </th><th style=\"text-align: right;\">  iter</th><th style=\"text-align: right;\">  total time (s)</th><th style=\"text-align: right;\">  mean_validation_score</th><th style=\"text-align: right;\">  estimator_fit_time</th></tr>\n",
       "</thead>\n",
       "<tbody>\n",
       "<tr><td>SklearnTrainable_2750cad0</td><td>TERMINATED</td><td>     </td><td>BinaryEncoder(categories=auto, handle_unknown=use_encoded_value, dtype=&lt;class &#x27;bool&#x27;&gt;, unknown_value=None)</td><td>CatBoostEncoderBinary(base_transformer=CatBoostEncoder(cols=[], random_state=0), cv=5, return_same_type=True, is_classification=True, random_state=None)</td><td>passthrough                                                                                                        </td><td>CombinedScalerTransformer(sparse_threshold=0.3, n_jobs=1, transformer_weights=None, verbose=False)</td><td>LogisticRegression(penalty=elasticnet, dual=False, tol=0.0001, C=1.0, fit_intercept=True, intercept_scaling=1, class_weight=balanced, random_state=0, solver=saga, max_iter=200, multi_class=auto, verbose=0, warm_start=False, n_jobs=None, l1_ratio=0)</td><td>                                                         </td><td style=\"text-align: right;\">                                                </td><td style=\"text-align: right;\">                                                   </td><td style=\"text-align: right;\">                                              </td><td>                                          </td><td style=\"text-align: right;\">                                 1</td><td>balanced                                     </td><td style=\"text-align: right;\">                                     1   </td><td>Passthrough(None)</td><td>Passthrough(None)</td><td>CombinedSimpleImputer(numeric_strategy=median, numeric_fill_value=0, categorical_strategy=most_frequent, categorical_fill_value=missing_value, verbose=0, copy=True, n_jobs=1, transformer_weights=None)</td><td>most_frequent                                         </td><td>passthrough                                                                                                                     </td><td style=\"text-align: right;\">                                   </td><td>Passthrough(None)       </td><td style=\"text-align: right;\">     1</td><td style=\"text-align: right;\">        12.0442 </td><td style=\"text-align: right;\">               0.807207</td><td style=\"text-align: right;\">             9.19211</td></tr>\n",
       "<tr><td>SklearnTrainable_2750cad1</td><td>TERMINATED</td><td>     </td><td>BinaryEncoder(categories=auto, handle_unknown=use_encoded_value, dtype=&lt;class &#x27;bool&#x27;&gt;, unknown_value=None)</td><td>CatBoostEncoderBinary(base_transformer=CatBoostEncoder(cols=[], random_state=0), cv=5, return_same_type=True, is_classification=True, random_state=None)</td><td>passthrough                                                                                                        </td><td>CombinedScalerTransformer(sparse_threshold=0.3, n_jobs=1, transformer_weights=None, verbose=False)</td><td>LogisticRegression(penalty=elasticnet, dual=False, tol=0.0001, C=1.0, fit_intercept=True, intercept_scaling=1, class_weight=balanced, random_state=0, solver=saga, max_iter=200, multi_class=auto, verbose=0, warm_start=False, n_jobs=None, l1_ratio=0)</td><td>                                                         </td><td style=\"text-align: right;\">                                                </td><td style=\"text-align: right;\">                                                   </td><td style=\"text-align: right;\">                                              </td><td>                                          </td><td style=\"text-align: right;\">                                 1</td><td>balanced                                     </td><td style=\"text-align: right;\">                                     0.15</td><td>Passthrough(None)</td><td>Passthrough(None)</td><td>CombinedSimpleImputer(numeric_strategy=median, numeric_fill_value=0, categorical_strategy=most_frequent, categorical_fill_value=missing_value, verbose=0, copy=True, n_jobs=1, transformer_weights=None)</td><td>most_frequent                                         </td><td>passthrough                                                                                                                     </td><td style=\"text-align: right;\">                                   </td><td>Passthrough(None)       </td><td style=\"text-align: right;\">     1</td><td style=\"text-align: right;\">         6.65591</td><td style=\"text-align: right;\">               0.807001</td><td style=\"text-align: right;\">             5.00982</td></tr>\n",
       "<tr><td>SklearnTrainable_2dfa2e44</td><td>TERMINATED</td><td>     </td><td>passthrough                                                                                               </td><td>passthrough                                                                                                                                             </td><td>OrdinalEncoder(categories=auto, handle_unknown=use_encoded_value, dtype=&lt;class &#x27;numpy.uint16&#x27;&gt;, unknown_value=None)</td><td>passthrough                                                                                       </td><td>CatBoostClassifierBinary(n_estimators=200, learning_rate=None, max_depth=6, task_type=CPU, verbose=False, random_state=None, auto_class_weights=Balanced)                                                                                               </td><td>Balanced                                                 </td><td style=\"text-align: right;\">                                               6</td><td style=\"text-align: right;\">                                                200</td><td style=\"text-align: right;\">                                              </td><td>                                          </td><td style=\"text-align: right;\">                                  </td><td>                                             </td><td style=\"text-align: right;\">                                         </td><td>Passthrough(None)</td><td>Passthrough(None)</td><td>CombinedSimpleImputer(numeric_strategy=median, numeric_fill_value=0, categorical_strategy=most_frequent, categorical_fill_value=missing_value, verbose=0, copy=True, n_jobs=1, transformer_weights=None)</td><td>most_frequent                                         </td><td>passthrough                                                                                                                     </td><td style=\"text-align: right;\">                                   </td><td>Passthrough(None)       </td><td style=\"text-align: right;\">     1</td><td style=\"text-align: right;\">        24.2168 </td><td style=\"text-align: right;\">               0.812418</td><td style=\"text-align: right;\">            19.4095 </td></tr>\n",
       "<tr><td>SklearnTrainable_2dfa2e45</td><td>TERMINATED</td><td>     </td><td>BinaryEncoder(categories=auto, handle_unknown=use_encoded_value, dtype=&lt;class &#x27;bool&#x27;&gt;, unknown_value=None)</td><td>CatBoostEncoderBinary(base_transformer=CatBoostEncoder(cols=[], random_state=0), cv=5, return_same_type=True, is_classification=True, random_state=None)</td><td>passthrough                                                                                                        </td><td>MinMaxScaler(feature_range=(0, 1), copy=True, clip=False)                                         </td><td>KNeighborsClassifier(n_neighbors=5, weights=distance, p=2, metric=precomputed, metric_params=None, n_jobs=None)                                                                                                                                         </td><td>                                                         </td><td style=\"text-align: right;\">                                                </td><td style=\"text-align: right;\">                                                   </td><td style=\"text-align: right;\">                                             5</td><td>distance                                  </td><td style=\"text-align: right;\">                                  </td><td>                                             </td><td style=\"text-align: right;\">                                         </td><td>Passthrough(None)</td><td>Passthrough(None)</td><td>CombinedSimpleImputer(numeric_strategy=median, numeric_fill_value=0, categorical_strategy=most_frequent, categorical_fill_value=missing_value, verbose=0, copy=True, n_jobs=1, transformer_weights=None)</td><td>most_frequent                                         </td><td>KNNTransformer(mode=distance, n_neighbors=40, algorithm=auto, leaf_size=30, metric=minkowski, p=2, metric_params=None, n_jobs=1)</td><td style=\"text-align: right;\">                                  2</td><td>Passthrough(None)       </td><td style=\"text-align: right;\">      </td><td style=\"text-align: right;\">                </td><td style=\"text-align: right;\">                       </td><td style=\"text-align: right;\">                    </td></tr>\n",
       "</tbody>\n",
       "</table><br><br>"
      ],
      "text/plain": [
       "<IPython.core.display.HTML object>"
      ]
     },
     "metadata": {},
     "output_type": "display_data"
    },
    {
     "name": "stderr",
     "output_type": "stream",
     "text": [
      "\u001b[2m\u001b[36m(pid=4089375)\u001b[0m is_categorical is deprecated and will be removed in a future version.  Use is_categorical_dtype instead\n",
      "\u001b[2m\u001b[36m(pid=4089375)\u001b[0m is_categorical is deprecated and will be removed in a future version.  Use is_categorical_dtype instead\n",
      "\u001b[2m\u001b[36m(pid=4089375)\u001b[0m is_categorical is deprecated and will be removed in a future version.  Use is_categorical_dtype instead\n",
      "\u001b[2m\u001b[36m(pid=4089375)\u001b[0m is_categorical is deprecated and will be removed in a future version.  Use is_categorical_dtype instead\n",
      "\u001b[2m\u001b[36m(pid=4089375)\u001b[0m is_categorical is deprecated and will be removed in a future version.  Use is_categorical_dtype instead\n",
      "\u001b[2m\u001b[36m(pid=4089375)\u001b[0m is_categorical is deprecated and will be removed in a future version.  Use is_categorical_dtype instead\n"
     ]
    },
    {
     "name": "stdout",
     "output_type": "stream",
     "text": [
      "\u001b[2m\u001b[36m(pid=4089375)\u001b[0m fitting on train took 5.958988666534424\n",
      "\u001b[2m\u001b[36m(pid=4089375)\u001b[0m scoring took 3.471554756164551\n"
     ]
    },
    {
     "name": "stderr",
     "output_type": "stream",
     "text": [
      "2021-08-18 20:31:30,381\tINFO tune.py:550 -- Total run time: 50.08 seconds (36.57 seconds for the tuning loop).\n"
     ]
    },
    {
     "name": "stdout",
     "output_type": "stream",
     "text": [
      "\u001b[2m\u001b[36m(pid=4089374)\u001b[0m fitting ensemble\n",
      "\u001b[2m\u001b[36m(pid=4089374)\u001b[0m 'max_features' should be 0 and 2 features.Got 10 instead.\n",
      "\u001b[2m\u001b[36m(pid=4089374)\u001b[0m Setting max_features to 2\n"
     ]
    },
    {
     "name": "stderr",
     "output_type": "stream",
     "text": [
      "\u001b[2m\u001b[36m(pid=4089021)\u001b[0m elementwise comparison failed; returning scalar instead, but in the future will perform elementwise comparison\n"
     ]
    },
    {
     "name": "stdout",
     "output_type": "stream",
     "text": [
      "\u001b[2m\u001b[36m(pid=4089021)\u001b[0m fitting ensemble\n",
      "\u001b[2m\u001b[36m(pid=4089021)\u001b[0m estimator PandasVotingClassifier n_jobs: 1\n",
      "\u001b[2m\u001b[36m(pid=4089375)\u001b[0m fitting ensemble\n",
      "\u001b[2m\u001b[36m(pid=4089280)\u001b[0m fitting ensemble\n",
      "\u001b[2m\u001b[36m(pid=4089373)\u001b[0m fitting ensemble\n",
      "\u001b[2m\u001b[36m(pid=4089373)\u001b[0m estimator PandasVotingClassifier n_jobs: 1\n",
      "\u001b[2m\u001b[36m(pid=4089280)\u001b[0m estimator PandasVotingClassifier n_jobs: 1\n"
     ]
    },
    {
     "name": "stderr",
     "output_type": "stream",
     "text": [
      "\u001b[2m\u001b[36m(pid=4089021)\u001b[0m 2021-08-18 20:31:32,526\tWARNING pool.py:470 -- The 'context' argument is not supported using ray. Please refer to the documentation for how to control ray initialization.\n"
     ]
    },
    {
     "name": "stdout",
     "output_type": "stream",
     "text": [
      "\u001b[2m\u001b[36m(pid=4089373)\u001b[0m scoring took 0.27425122261047363\n",
      "\u001b[2m\u001b[36m(pid=4089373)\u001b[0m {'accuracy': 0.831101830241985, 'balanced_accuracy': 0.8481813506829685, 'roc_auc': nan, 'precision': 0.6019518996165911, 'recall': 0.8811224489795918, 'specificity': 0.8152402523863452, 'f1': 0.715261958997722, 'matthews_corrcoef': 0.6232179219646617}\n",
      "\u001b[2m\u001b[36m(pid=4089280)\u001b[0m scoring took 0.27780795097351074\n",
      "\u001b[2m\u001b[36m(pid=4089280)\u001b[0m {'accuracy': 0.831101830241985, 'balanced_accuracy': 0.8481813506829685, 'roc_auc': nan, 'precision': 0.6019518996165911, 'recall': 0.8811224489795918, 'specificity': 0.8152402523863452, 'f1': 0.715261958997722, 'matthews_corrcoef': 0.6232179219646617}\n"
     ]
    },
    {
     "name": "stderr",
     "output_type": "stream",
     "text": [
      "\u001b[2m\u001b[36m(pid=4089375)\u001b[0m 2021-08-18 20:31:32,786\tWARNING pool.py:470 -- The 'context' argument is not supported using ray. Please refer to the documentation for how to control ray initialization.\n",
      "\u001b[2m\u001b[36m(pid=4089374)\u001b[0m 2021-08-18 20:31:35,426\tWARNING pool.py:470 -- The 'context' argument is not supported using ray. Please refer to the documentation for how to control ray initialization.\n"
     ]
    },
    {
     "name": "stdout",
     "output_type": "stream",
     "text": [
      "\u001b[2m\u001b[36m(pid=4089954)\u001b[0m fitting ensemble\n",
      "\u001b[2m\u001b[36m(pid=4089954)\u001b[0m estimator PandasVotingClassifier n_jobs: 1\n"
     ]
    },
    {
     "name": "stderr",
     "output_type": "stream",
     "text": [
      "\u001b[2m\u001b[36m(pid=4089954)\u001b[0m elementwise comparison failed; returning scalar instead, but in the future will perform elementwise comparison\n",
      "\u001b[2m\u001b[36m(pid=4089954)\u001b[0m 2021-08-18 20:31:36,902\tWARNING pool.py:470 -- The 'context' argument is not supported using ray. Please refer to the documentation for how to control ray initialization.\n",
      "\u001b[2m\u001b[36m(pid=4089021)\u001b[0m elementwise comparison failed; returning scalar instead, but in the future will perform elementwise comparison\n"
     ]
    },
    {
     "name": "stdout",
     "output_type": "stream",
     "text": [
      "\u001b[2m\u001b[36m(pid=4089374)\u001b[0m Index(['age', 'workclass', 'education-num', 'marital-status', 'occupation',\n",
      "\u001b[2m\u001b[36m(pid=4089374)\u001b[0m        'relationship', 'race', 'sex', 'hours-per-week', 'native-country',\n",
      "\u001b[2m\u001b[36m(pid=4089374)\u001b[0m        'capital', 'meta-0_ed312d4a_1', 'meta-0_e9396efb_1',\n",
      "\u001b[2m\u001b[36m(pid=4089374)\u001b[0m        'meta-0_f93b5bbb_1', 'meta-0_e9396efa_1'],\n",
      "\u001b[2m\u001b[36m(pid=4089374)\u001b[0m       dtype='object')\n"
     ]
    },
    {
     "name": "stderr",
     "output_type": "stream",
     "text": [
      "\u001b[2m\u001b[36m(pid=4089954)\u001b[0m elementwise comparison failed; returning scalar instead, but in the future will perform elementwise comparison\n",
      "\u001b[2m\u001b[36m(pid=4089021)\u001b[0m elementwise comparison failed; returning scalar instead, but in the future will perform elementwise comparison\n",
      "\u001b[2m\u001b[36m(pid=4089954)\u001b[0m elementwise comparison failed; returning scalar instead, but in the future will perform elementwise comparison\n",
      "\u001b[2m\u001b[36m(pid=4089021)\u001b[0m elementwise comparison failed; returning scalar instead, but in the future will perform elementwise comparison\n"
     ]
    },
    {
     "name": "stdout",
     "output_type": "stream",
     "text": [
      "\u001b[2m\u001b[36m(pid=4089021)\u001b[0m scoring took 65.78763103485107\n",
      "\u001b[2m\u001b[36m(pid=4089021)\u001b[0m {'accuracy': 0.8334356958604594, 'balanced_accuracy': 0.8511119906626297, 'roc_auc': 0.931249649188263, 'precision': 0.6053733426378227, 'recall': 0.8852040816326531, 'specificity': 0.8170198996926064, 'f1': 0.7190219643597182, 'matthews_corrcoef': 0.6286135515461071}\n"
     ]
    },
    {
     "name": "stderr",
     "output_type": "stream",
     "text": [
      "\u001b[2m\u001b[36m(pid=4089375)\u001b[0m elementwise comparison failed; returning scalar instead, but in the future will perform elementwise comparison\n"
     ]
    },
    {
     "name": "stdout",
     "output_type": "stream",
     "text": [
      "\u001b[2m\u001b[36m(pid=4089375)\u001b[0m estimator PandasStackingClassifier n_jobs: 1\n",
      "\u001b[2m\u001b[36m(pid=4089374)\u001b[0m {1}\n",
      "\u001b[2m\u001b[36m(pid=4089374)\u001b[0m {'meta-1_2dfa2e44'}\n",
      "\u001b[2m\u001b[36m(pid=4089374)\u001b[0m estimator PandasStackingClassifier n_jobs: 1\n"
     ]
    },
    {
     "name": "stderr",
     "output_type": "stream",
     "text": [
      "\u001b[2m\u001b[36m(pid=4089374)\u001b[0m elementwise comparison failed; returning scalar instead, but in the future will perform elementwise comparison\n",
      "\u001b[2m\u001b[36m(pid=4089954)\u001b[0m elementwise comparison failed; returning scalar instead, but in the future will perform elementwise comparison\n"
     ]
    },
    {
     "name": "stdout",
     "output_type": "stream",
     "text": [
      "\u001b[2m\u001b[36m(pid=4089954)\u001b[0m scoring took 84.03049802780151\n",
      "\u001b[2m\u001b[36m(pid=4089954)\u001b[0m {'accuracy': 0.8334356958604594, 'balanced_accuracy': 0.8511119906626297, 'roc_auc': 0.9312522905942833, 'precision': 0.6053733426378227, 'recall': 0.8852040816326531, 'specificity': 0.8170198996926064, 'f1': 0.7190219643597182, 'matthews_corrcoef': 0.6286135515461071}\n"
     ]
    },
    {
     "name": "stderr",
     "output_type": "stream",
     "text": [
      "\u001b[2m\u001b[36m(pid=4089375)\u001b[0m elementwise comparison failed; returning scalar instead, but in the future will perform elementwise comparison\n"
     ]
    },
    {
     "name": "stdout",
     "output_type": "stream",
     "text": [
      "\u001b[2m\u001b[36m(pid=4089374)\u001b[0m scoring took 22.606647729873657\n",
      "\u001b[2m\u001b[36m(pid=4089374)\u001b[0m {'accuracy': 0.8335585308930107, 'balanced_accuracy': 0.8487539579818337, 'roc_auc': 0.929609253505641, 'precision': 0.6066267183644695, 'recall': 0.878061224489796, 'specificity': 0.8194466914738715, 'f1': 0.7175317907025224, 'matthews_corrcoef': 0.625857012384112}\n"
     ]
    },
    {
     "name": "stderr",
     "output_type": "stream",
     "text": [
      "\u001b[2m\u001b[36m(pid=4089374)\u001b[0m elementwise comparison failed; returning scalar instead, but in the future will perform elementwise comparison\n",
      "\u001b[2m\u001b[36m(pid=4089375)\u001b[0m elementwise comparison failed; returning scalar instead, but in the future will perform elementwise comparison\n",
      "\u001b[2m\u001b[36m(pid=4089375)\u001b[0m elementwise comparison failed; returning scalar instead, but in the future will perform elementwise comparison\n"
     ]
    },
    {
     "name": "stdout",
     "output_type": "stream",
     "text": [
      "\u001b[2m\u001b[36m(pid=4089375)\u001b[0m scoring took 43.69008708000183\n",
      "\u001b[2m\u001b[36m(pid=4089375)\u001b[0m {'accuracy': 0.833681365925562, 'balanced_accuracy': 0.8497058959484134, 'roc_auc': 0.9313743318068208, 'precision': 0.60646521433591, 'recall': 0.8806122448979592, 'specificity': 0.8187995469988675, 'f1': 0.7182688306283812, 'matthews_corrcoef': 0.6271045148576804}\n"
     ]
    },
    {
     "data": {
      "text/html": [
       "<div>\n",
       "<style scoped>\n",
       "    .dataframe tbody tr th:only-of-type {\n",
       "        vertical-align: middle;\n",
       "    }\n",
       "\n",
       "    .dataframe tbody tr th {\n",
       "        vertical-align: top;\n",
       "    }\n",
       "\n",
       "    .dataframe thead th {\n",
       "        text-align: right;\n",
       "    }\n",
       "</style>\n",
       "<table border=\"1\" class=\"dataframe\">\n",
       "  <thead>\n",
       "    <tr style=\"text-align: right;\">\n",
       "      <th></th>\n",
       "      <th>Pipeline</th>\n",
       "      <th>Test accuracy</th>\n",
       "      <th>Test balanced_accuracy</th>\n",
       "      <th>Test roc_auc</th>\n",
       "      <th>Test precision</th>\n",
       "      <th>Test recall</th>\n",
       "      <th>Test specificity</th>\n",
       "      <th>Test f1</th>\n",
       "      <th>Test matthews_corrcoef</th>\n",
       "      <th>Test optimized_precision</th>\n",
       "      <th>...</th>\n",
       "      <th>Validation precision</th>\n",
       "      <th>Validation recall</th>\n",
       "      <th>Validation specificity</th>\n",
       "      <th>Validation f1</th>\n",
       "      <th>Validation matthews_corrcoef</th>\n",
       "      <th>Validation optimized_precision</th>\n",
       "      <th>Stacking Level</th>\n",
       "      <th>Total Time (s)</th>\n",
       "      <th>Estimator Fit Time (s)</th>\n",
       "      <th>Dataset Fraction</th>\n",
       "    </tr>\n",
       "    <tr>\n",
       "      <th>Id</th>\n",
       "      <th></th>\n",
       "      <th></th>\n",
       "      <th></th>\n",
       "      <th></th>\n",
       "      <th></th>\n",
       "      <th></th>\n",
       "      <th></th>\n",
       "      <th></th>\n",
       "      <th></th>\n",
       "      <th></th>\n",
       "      <th></th>\n",
       "      <th></th>\n",
       "      <th></th>\n",
       "      <th></th>\n",
       "      <th></th>\n",
       "      <th></th>\n",
       "      <th></th>\n",
       "      <th></th>\n",
       "      <th></th>\n",
       "      <th></th>\n",
       "      <th></th>\n",
       "    </tr>\n",
       "  </thead>\n",
       "  <tbody>\n",
       "    <tr>\n",
       "      <th>0_StackFSSelectFromModel</th>\n",
       "      <td>PandasStackingClassifier</td>\n",
       "      <td>0.833927</td>\n",
       "      <td>0.848648</td>\n",
       "      <td>0.930964</td>\n",
       "      <td>0.607420</td>\n",
       "      <td>0.877041</td>\n",
       "      <td>0.820256</td>\n",
       "      <td>0.717745</td>\n",
       "      <td>0.626028</td>\n",
       "      <td>0.800471</td>\n",
       "      <td>...</td>\n",
       "      <td>NaN</td>\n",
       "      <td>NaN</td>\n",
       "      <td>NaN</td>\n",
       "      <td>NaN</td>\n",
       "      <td>NaN</td>\n",
       "      <td>NaN</td>\n",
       "      <td>0</td>\n",
       "      <td>NaN</td>\n",
       "      <td>NaN</td>\n",
       "      <td>1.0</td>\n",
       "    </tr>\n",
       "    <tr>\n",
       "      <th>0_Stack</th>\n",
       "      <td>PandasStackingClassifier</td>\n",
       "      <td>0.834173</td>\n",
       "      <td>0.849507</td>\n",
       "      <td>0.930545</td>\n",
       "      <td>0.607546</td>\n",
       "      <td>0.879082</td>\n",
       "      <td>0.819932</td>\n",
       "      <td>0.718515</td>\n",
       "      <td>0.627260</td>\n",
       "      <td>0.799359</td>\n",
       "      <td>...</td>\n",
       "      <td>NaN</td>\n",
       "      <td>NaN</td>\n",
       "      <td>NaN</td>\n",
       "      <td>NaN</td>\n",
       "      <td>NaN</td>\n",
       "      <td>NaN</td>\n",
       "      <td>0</td>\n",
       "      <td>NaN</td>\n",
       "      <td>NaN</td>\n",
       "      <td>1.0</td>\n",
       "    </tr>\n",
       "    <tr>\n",
       "      <th>1_StackFSSelectFromModel</th>\n",
       "      <td>PandasStackingClassifier</td>\n",
       "      <td>0.833559</td>\n",
       "      <td>0.848754</td>\n",
       "      <td>0.929609</td>\n",
       "      <td>0.606627</td>\n",
       "      <td>0.878061</td>\n",
       "      <td>0.819447</td>\n",
       "      <td>0.717532</td>\n",
       "      <td>0.625857</td>\n",
       "      <td>0.799029</td>\n",
       "      <td>...</td>\n",
       "      <td>NaN</td>\n",
       "      <td>NaN</td>\n",
       "      <td>NaN</td>\n",
       "      <td>NaN</td>\n",
       "      <td>NaN</td>\n",
       "      <td>NaN</td>\n",
       "      <td>1</td>\n",
       "      <td>NaN</td>\n",
       "      <td>NaN</td>\n",
       "      <td>1.0</td>\n",
       "    </tr>\n",
       "    <tr>\n",
       "      <th>ed312d4a</th>\n",
       "      <td>CatBoostClassifierWithAutoCatFeatures w/ PandasSimpleCategoricalImputer, PandasSimpleImputer, PandasOrdinalEncoder</td>\n",
       "      <td>0.833067</td>\n",
       "      <td>0.848256</td>\n",
       "      <td>0.930964</td>\n",
       "      <td>0.605847</td>\n",
       "      <td>0.877551</td>\n",
       "      <td>0.818961</td>\n",
       "      <td>0.716816</td>\n",
       "      <td>0.624861</td>\n",
       "      <td>0.798532</td>\n",
       "      <td>...</td>\n",
       "      <td>0.604571</td>\n",
       "      <td>0.859209</td>\n",
       "      <td>0.821727</td>\n",
       "      <td>0.709741</td>\n",
       "      <td>0.613655</td>\n",
       "      <td>0.808456</td>\n",
       "      <td>0</td>\n",
       "      <td>20.371470</td>\n",
       "      <td>16.857204</td>\n",
       "      <td>1.0</td>\n",
       "    </tr>\n",
       "    <tr>\n",
       "      <th>1_Stack</th>\n",
       "      <td>PandasStackingClassifier</td>\n",
       "      <td>0.833681</td>\n",
       "      <td>0.849706</td>\n",
       "      <td>0.931374</td>\n",
       "      <td>0.606465</td>\n",
       "      <td>0.880612</td>\n",
       "      <td>0.818800</td>\n",
       "      <td>0.718269</td>\n",
       "      <td>0.627105</td>\n",
       "      <td>0.797308</td>\n",
       "      <td>...</td>\n",
       "      <td>NaN</td>\n",
       "      <td>NaN</td>\n",
       "      <td>NaN</td>\n",
       "      <td>NaN</td>\n",
       "      <td>NaN</td>\n",
       "      <td>NaN</td>\n",
       "      <td>1</td>\n",
       "      <td>NaN</td>\n",
       "      <td>NaN</td>\n",
       "      <td>1.0</td>\n",
       "    </tr>\n",
       "    <tr>\n",
       "      <th>2dfa2e44</th>\n",
       "      <td>CatBoostClassifierWithAutoCatFeatures w/ PandasSimpleCategoricalImputer, PandasSimpleImputer, PandasOrdinalEncoder</td>\n",
       "      <td>0.829628</td>\n",
       "      <td>0.845469</td>\n",
       "      <td>0.930831</td>\n",
       "      <td>0.600140</td>\n",
       "      <td>0.876020</td>\n",
       "      <td>0.814917</td>\n",
       "      <td>0.712300</td>\n",
       "      <td>0.618757</td>\n",
       "      <td>0.793492</td>\n",
       "      <td>...</td>\n",
       "      <td>0.600055</td>\n",
       "      <td>0.845606</td>\n",
       "      <td>0.821188</td>\n",
       "      <td>0.701966</td>\n",
       "      <td>0.602147</td>\n",
       "      <td>0.812418</td>\n",
       "      <td>1</td>\n",
       "      <td>24.216765</td>\n",
       "      <td>19.409542</td>\n",
       "      <td>1.0</td>\n",
       "    </tr>\n",
       "    <tr>\n",
       "      <th>1_VotingSoft</th>\n",
       "      <td>PandasVotingClassifier</td>\n",
       "      <td>0.833436</td>\n",
       "      <td>0.851112</td>\n",
       "      <td>0.931250</td>\n",
       "      <td>0.605373</td>\n",
       "      <td>0.885204</td>\n",
       "      <td>0.817020</td>\n",
       "      <td>0.719022</td>\n",
       "      <td>0.628614</td>\n",
       "      <td>0.793380</td>\n",
       "      <td>...</td>\n",
       "      <td>NaN</td>\n",
       "      <td>NaN</td>\n",
       "      <td>NaN</td>\n",
       "      <td>NaN</td>\n",
       "      <td>NaN</td>\n",
       "      <td>NaN</td>\n",
       "      <td>1</td>\n",
       "      <td>NaN</td>\n",
       "      <td>NaN</td>\n",
       "      <td>1.0</td>\n",
       "    </tr>\n",
       "    <tr>\n",
       "      <th>1_VotingSoftByMetric</th>\n",
       "      <td>PandasVotingClassifier</td>\n",
       "      <td>0.833436</td>\n",
       "      <td>0.851112</td>\n",
       "      <td>0.931252</td>\n",
       "      <td>0.605373</td>\n",
       "      <td>0.885204</td>\n",
       "      <td>0.817020</td>\n",
       "      <td>0.719022</td>\n",
       "      <td>0.628614</td>\n",
       "      <td>0.793380</td>\n",
       "      <td>...</td>\n",
       "      <td>NaN</td>\n",
       "      <td>NaN</td>\n",
       "      <td>NaN</td>\n",
       "      <td>NaN</td>\n",
       "      <td>NaN</td>\n",
       "      <td>NaN</td>\n",
       "      <td>1</td>\n",
       "      <td>NaN</td>\n",
       "      <td>NaN</td>\n",
       "      <td>1.0</td>\n",
       "    </tr>\n",
       "    <tr>\n",
       "      <th>2750cad0</th>\n",
       "      <td>LogisticRegression w/ PandasSimpleCategoricalImputer, PandasSimpleImputer, PandasOrdinalEncoder, KFoldCatBoostEncoder, PandasStandardScaler, PandasQuantileTransformer</td>\n",
       "      <td>0.831102</td>\n",
       "      <td>0.848181</td>\n",
       "      <td>0.929609</td>\n",
       "      <td>0.601952</td>\n",
       "      <td>0.881122</td>\n",
       "      <td>0.815240</td>\n",
       "      <td>0.715262</td>\n",
       "      <td>0.623218</td>\n",
       "      <td>0.792265</td>\n",
       "      <td>...</td>\n",
       "      <td>0.602420</td>\n",
       "      <td>0.857679</td>\n",
       "      <td>0.820433</td>\n",
       "      <td>0.707727</td>\n",
       "      <td>0.610853</td>\n",
       "      <td>0.807207</td>\n",
       "      <td>1</td>\n",
       "      <td>12.044163</td>\n",
       "      <td>9.192110</td>\n",
       "      <td>1.0</td>\n",
       "    </tr>\n",
       "    <tr>\n",
       "      <th>1_VotingUniform</th>\n",
       "      <td>PandasVotingClassifier</td>\n",
       "      <td>0.831102</td>\n",
       "      <td>0.848181</td>\n",
       "      <td>NaN</td>\n",
       "      <td>0.601952</td>\n",
       "      <td>0.881122</td>\n",
       "      <td>0.815240</td>\n",
       "      <td>0.715262</td>\n",
       "      <td>0.623218</td>\n",
       "      <td>0.792265</td>\n",
       "      <td>...</td>\n",
       "      <td>NaN</td>\n",
       "      <td>NaN</td>\n",
       "      <td>NaN</td>\n",
       "      <td>NaN</td>\n",
       "      <td>NaN</td>\n",
       "      <td>NaN</td>\n",
       "      <td>1</td>\n",
       "      <td>NaN</td>\n",
       "      <td>NaN</td>\n",
       "      <td>1.0</td>\n",
       "    </tr>\n",
       "    <tr>\n",
       "      <th>1_VotingByMetric</th>\n",
       "      <td>PandasVotingClassifier</td>\n",
       "      <td>0.831102</td>\n",
       "      <td>0.848181</td>\n",
       "      <td>NaN</td>\n",
       "      <td>0.601952</td>\n",
       "      <td>0.881122</td>\n",
       "      <td>0.815240</td>\n",
       "      <td>0.715262</td>\n",
       "      <td>0.623218</td>\n",
       "      <td>0.792265</td>\n",
       "      <td>...</td>\n",
       "      <td>NaN</td>\n",
       "      <td>NaN</td>\n",
       "      <td>NaN</td>\n",
       "      <td>NaN</td>\n",
       "      <td>NaN</td>\n",
       "      <td>NaN</td>\n",
       "      <td>1</td>\n",
       "      <td>NaN</td>\n",
       "      <td>NaN</td>\n",
       "      <td>1.0</td>\n",
       "    </tr>\n",
       "    <tr>\n",
       "      <th>2750cad1</th>\n",
       "      <td>LogisticRegression w/ PandasSimpleCategoricalImputer, PandasSimpleImputer, PandasOrdinalEncoder, KFoldCatBoostEncoder, PandasStandardScaler, PandasQuantileTransformer</td>\n",
       "      <td>0.830979</td>\n",
       "      <td>0.848100</td>\n",
       "      <td>0.929593</td>\n",
       "      <td>0.601742</td>\n",
       "      <td>0.881122</td>\n",
       "      <td>0.815078</td>\n",
       "      <td>0.715114</td>\n",
       "      <td>0.623024</td>\n",
       "      <td>0.792043</td>\n",
       "      <td>...</td>\n",
       "      <td>0.602325</td>\n",
       "      <td>0.857849</td>\n",
       "      <td>0.820325</td>\n",
       "      <td>0.707719</td>\n",
       "      <td>0.610857</td>\n",
       "      <td>0.807001</td>\n",
       "      <td>1</td>\n",
       "      <td>6.655913</td>\n",
       "      <td>5.009819</td>\n",
       "      <td>1.0</td>\n",
       "    </tr>\n",
       "    <tr>\n",
       "      <th>0_VotingSoftByMetric</th>\n",
       "      <td>PandasVotingClassifier</td>\n",
       "      <td>0.807518</td>\n",
       "      <td>0.828120</td>\n",
       "      <td>0.910891</td>\n",
       "      <td>0.565304</td>\n",
       "      <td>0.867857</td>\n",
       "      <td>0.788384</td>\n",
       "      <td>0.684645</td>\n",
       "      <td>0.581254</td>\n",
       "      <td>0.759533</td>\n",
       "      <td>...</td>\n",
       "      <td>NaN</td>\n",
       "      <td>NaN</td>\n",
       "      <td>NaN</td>\n",
       "      <td>NaN</td>\n",
       "      <td>NaN</td>\n",
       "      <td>NaN</td>\n",
       "      <td>0</td>\n",
       "      <td>NaN</td>\n",
       "      <td>NaN</td>\n",
       "      <td>1.0</td>\n",
       "    </tr>\n",
       "    <tr>\n",
       "      <th>0_VotingSoft</th>\n",
       "      <td>PandasVotingClassifier</td>\n",
       "      <td>0.807272</td>\n",
       "      <td>0.827959</td>\n",
       "      <td>0.910414</td>\n",
       "      <td>0.564929</td>\n",
       "      <td>0.867857</td>\n",
       "      <td>0.788060</td>\n",
       "      <td>0.684369</td>\n",
       "      <td>0.580888</td>\n",
       "      <td>0.759083</td>\n",
       "      <td>...</td>\n",
       "      <td>NaN</td>\n",
       "      <td>NaN</td>\n",
       "      <td>NaN</td>\n",
       "      <td>NaN</td>\n",
       "      <td>NaN</td>\n",
       "      <td>NaN</td>\n",
       "      <td>0</td>\n",
       "      <td>NaN</td>\n",
       "      <td>NaN</td>\n",
       "      <td>1.0</td>\n",
       "    </tr>\n",
       "    <tr>\n",
       "      <th>e9396efb</th>\n",
       "      <td>LogisticRegression w/ PandasSimpleCategoricalImputer, PandasSimpleImputer, PandasOrdinalEncoder, KFoldCatBoostEncoder, PandasStandardScaler, PandasQuantileTransformer</td>\n",
       "      <td>0.792654</td>\n",
       "      <td>0.809970</td>\n",
       "      <td>0.894218</td>\n",
       "      <td>0.544825</td>\n",
       "      <td>0.843367</td>\n",
       "      <td>0.776573</td>\n",
       "      <td>0.661994</td>\n",
       "      <td>0.548172</td>\n",
       "      <td>0.751422</td>\n",
       "      <td>...</td>\n",
       "      <td>0.556356</td>\n",
       "      <td>0.836593</td>\n",
       "      <td>0.788284</td>\n",
       "      <td>0.668249</td>\n",
       "      <td>0.555963</td>\n",
       "      <td>0.770187</td>\n",
       "      <td>0</td>\n",
       "      <td>4.491900</td>\n",
       "      <td>3.882941</td>\n",
       "      <td>1.0</td>\n",
       "    </tr>\n",
       "    <tr>\n",
       "      <th>f93b5bbb</th>\n",
       "      <td>LogisticRegression w/ PandasSimpleCategoricalImputer, PandasSimpleImputer, PandasOrdinalEncoder, KFoldCatBoostEncoder, PandasStandardScaler, PandasQuantileTransformer</td>\n",
       "      <td>0.792654</td>\n",
       "      <td>0.809970</td>\n",
       "      <td>0.894217</td>\n",
       "      <td>0.544825</td>\n",
       "      <td>0.843367</td>\n",
       "      <td>0.776573</td>\n",
       "      <td>0.661994</td>\n",
       "      <td>0.548172</td>\n",
       "      <td>0.751422</td>\n",
       "      <td>...</td>\n",
       "      <td>0.556356</td>\n",
       "      <td>0.836593</td>\n",
       "      <td>0.788284</td>\n",
       "      <td>0.668249</td>\n",
       "      <td>0.555963</td>\n",
       "      <td>0.770187</td>\n",
       "      <td>0</td>\n",
       "      <td>1.585602</td>\n",
       "      <td>0.992059</td>\n",
       "      <td>1.0</td>\n",
       "    </tr>\n",
       "    <tr>\n",
       "      <th>0_VotingUniform</th>\n",
       "      <td>PandasVotingClassifier</td>\n",
       "      <td>0.792654</td>\n",
       "      <td>0.809970</td>\n",
       "      <td>NaN</td>\n",
       "      <td>0.544825</td>\n",
       "      <td>0.843367</td>\n",
       "      <td>0.776573</td>\n",
       "      <td>0.661994</td>\n",
       "      <td>0.548172</td>\n",
       "      <td>0.751422</td>\n",
       "      <td>...</td>\n",
       "      <td>NaN</td>\n",
       "      <td>NaN</td>\n",
       "      <td>NaN</td>\n",
       "      <td>NaN</td>\n",
       "      <td>NaN</td>\n",
       "      <td>NaN</td>\n",
       "      <td>0</td>\n",
       "      <td>NaN</td>\n",
       "      <td>NaN</td>\n",
       "      <td>1.0</td>\n",
       "    </tr>\n",
       "    <tr>\n",
       "      <th>e9396efa</th>\n",
       "      <td>LogisticRegression w/ PandasSimpleCategoricalImputer, PandasSimpleImputer, PandasOrdinalEncoder, KFoldCatBoostEncoder, PandasStandardScaler, PandasQuantileTransformer</td>\n",
       "      <td>0.792777</td>\n",
       "      <td>0.810225</td>\n",
       "      <td>0.894222</td>\n",
       "      <td>0.544975</td>\n",
       "      <td>0.843878</td>\n",
       "      <td>0.776573</td>\n",
       "      <td>0.662262</td>\n",
       "      <td>0.548586</td>\n",
       "      <td>0.751243</td>\n",
       "      <td>...</td>\n",
       "      <td>0.556407</td>\n",
       "      <td>0.836763</td>\n",
       "      <td>0.788284</td>\n",
       "      <td>0.668340</td>\n",
       "      <td>0.556101</td>\n",
       "      <td>0.770126</td>\n",
       "      <td>0</td>\n",
       "      <td>4.395032</td>\n",
       "      <td>3.689556</td>\n",
       "      <td>1.0</td>\n",
       "    </tr>\n",
       "    <tr>\n",
       "      <th>0_VotingByMetric</th>\n",
       "      <td>PandasVotingClassifier</td>\n",
       "      <td>0.792777</td>\n",
       "      <td>0.810225</td>\n",
       "      <td>NaN</td>\n",
       "      <td>0.544975</td>\n",
       "      <td>0.843878</td>\n",
       "      <td>0.776573</td>\n",
       "      <td>0.662262</td>\n",
       "      <td>0.548586</td>\n",
       "      <td>0.751243</td>\n",
       "      <td>...</td>\n",
       "      <td>NaN</td>\n",
       "      <td>NaN</td>\n",
       "      <td>NaN</td>\n",
       "      <td>NaN</td>\n",
       "      <td>NaN</td>\n",
       "      <td>NaN</td>\n",
       "      <td>0</td>\n",
       "      <td>NaN</td>\n",
       "      <td>NaN</td>\n",
       "      <td>1.0</td>\n",
       "    </tr>\n",
       "    <tr>\n",
       "      <th>ed312d4b</th>\n",
       "      <td>KNeighborsClassifier w/ PandasSimpleCategoricalImputer, PandasSimpleImputer, PandasOrdinalEncoder, KFoldCatBoostEncoder, PandasMinMaxScaler, KNeighborsTransformer</td>\n",
       "      <td>0.823363</td>\n",
       "      <td>0.741347</td>\n",
       "      <td>0.853201</td>\n",
       "      <td>0.647959</td>\n",
       "      <td>0.583163</td>\n",
       "      <td>0.899531</td>\n",
       "      <td>0.613856</td>\n",
       "      <td>0.500924</td>\n",
       "      <td>0.609990</td>\n",
       "      <td>...</td>\n",
       "      <td>0.648631</td>\n",
       "      <td>0.557897</td>\n",
       "      <td>0.904148</td>\n",
       "      <td>0.599849</td>\n",
       "      <td>0.487496</td>\n",
       "      <td>0.583935</td>\n",
       "      <td>0</td>\n",
       "      <td>17.501157</td>\n",
       "      <td>12.876189</td>\n",
       "      <td>1.0</td>\n",
       "    </tr>\n",
       "  </tbody>\n",
       "</table>\n",
       "<p>20 rows × 23 columns</p>\n",
       "</div>"
      ],
      "text/plain": [
       "                                                                                                                                                                                        Pipeline  \\\n",
       "Id                                                                                                                                                                                                 \n",
       "0_StackFSSelectFromModel                                                                                                                                                PandasStackingClassifier   \n",
       "0_Stack                                                                                                                                                                 PandasStackingClassifier   \n",
       "1_StackFSSelectFromModel                                                                                                                                                PandasStackingClassifier   \n",
       "ed312d4a                                                                      CatBoostClassifierWithAutoCatFeatures w/ PandasSimpleCategoricalImputer, PandasSimpleImputer, PandasOrdinalEncoder   \n",
       "1_Stack                                                                                                                                                                 PandasStackingClassifier   \n",
       "2dfa2e44                                                                      CatBoostClassifierWithAutoCatFeatures w/ PandasSimpleCategoricalImputer, PandasSimpleImputer, PandasOrdinalEncoder   \n",
       "1_VotingSoft                                                                                                                                                              PandasVotingClassifier   \n",
       "1_VotingSoftByMetric                                                                                                                                                      PandasVotingClassifier   \n",
       "2750cad0                  LogisticRegression w/ PandasSimpleCategoricalImputer, PandasSimpleImputer, PandasOrdinalEncoder, KFoldCatBoostEncoder, PandasStandardScaler, PandasQuantileTransformer   \n",
       "1_VotingUniform                                                                                                                                                           PandasVotingClassifier   \n",
       "1_VotingByMetric                                                                                                                                                          PandasVotingClassifier   \n",
       "2750cad1                  LogisticRegression w/ PandasSimpleCategoricalImputer, PandasSimpleImputer, PandasOrdinalEncoder, KFoldCatBoostEncoder, PandasStandardScaler, PandasQuantileTransformer   \n",
       "0_VotingSoftByMetric                                                                                                                                                      PandasVotingClassifier   \n",
       "0_VotingSoft                                                                                                                                                              PandasVotingClassifier   \n",
       "e9396efb                  LogisticRegression w/ PandasSimpleCategoricalImputer, PandasSimpleImputer, PandasOrdinalEncoder, KFoldCatBoostEncoder, PandasStandardScaler, PandasQuantileTransformer   \n",
       "f93b5bbb                  LogisticRegression w/ PandasSimpleCategoricalImputer, PandasSimpleImputer, PandasOrdinalEncoder, KFoldCatBoostEncoder, PandasStandardScaler, PandasQuantileTransformer   \n",
       "0_VotingUniform                                                                                                                                                           PandasVotingClassifier   \n",
       "e9396efa                  LogisticRegression w/ PandasSimpleCategoricalImputer, PandasSimpleImputer, PandasOrdinalEncoder, KFoldCatBoostEncoder, PandasStandardScaler, PandasQuantileTransformer   \n",
       "0_VotingByMetric                                                                                                                                                          PandasVotingClassifier   \n",
       "ed312d4b                      KNeighborsClassifier w/ PandasSimpleCategoricalImputer, PandasSimpleImputer, PandasOrdinalEncoder, KFoldCatBoostEncoder, PandasMinMaxScaler, KNeighborsTransformer   \n",
       "\n",
       "                          Test accuracy  Test balanced_accuracy  Test roc_auc  \\\n",
       "Id                                                                              \n",
       "0_StackFSSelectFromModel       0.833927                0.848648      0.930964   \n",
       "0_Stack                        0.834173                0.849507      0.930545   \n",
       "1_StackFSSelectFromModel       0.833559                0.848754      0.929609   \n",
       "ed312d4a                       0.833067                0.848256      0.930964   \n",
       "1_Stack                        0.833681                0.849706      0.931374   \n",
       "2dfa2e44                       0.829628                0.845469      0.930831   \n",
       "1_VotingSoft                   0.833436                0.851112      0.931250   \n",
       "1_VotingSoftByMetric           0.833436                0.851112      0.931252   \n",
       "2750cad0                       0.831102                0.848181      0.929609   \n",
       "1_VotingUniform                0.831102                0.848181           NaN   \n",
       "1_VotingByMetric               0.831102                0.848181           NaN   \n",
       "2750cad1                       0.830979                0.848100      0.929593   \n",
       "0_VotingSoftByMetric           0.807518                0.828120      0.910891   \n",
       "0_VotingSoft                   0.807272                0.827959      0.910414   \n",
       "e9396efb                       0.792654                0.809970      0.894218   \n",
       "f93b5bbb                       0.792654                0.809970      0.894217   \n",
       "0_VotingUniform                0.792654                0.809970           NaN   \n",
       "e9396efa                       0.792777                0.810225      0.894222   \n",
       "0_VotingByMetric               0.792777                0.810225           NaN   \n",
       "ed312d4b                       0.823363                0.741347      0.853201   \n",
       "\n",
       "                          Test precision  Test recall  Test specificity  \\\n",
       "Id                                                                        \n",
       "0_StackFSSelectFromModel        0.607420     0.877041          0.820256   \n",
       "0_Stack                         0.607546     0.879082          0.819932   \n",
       "1_StackFSSelectFromModel        0.606627     0.878061          0.819447   \n",
       "ed312d4a                        0.605847     0.877551          0.818961   \n",
       "1_Stack                         0.606465     0.880612          0.818800   \n",
       "2dfa2e44                        0.600140     0.876020          0.814917   \n",
       "1_VotingSoft                    0.605373     0.885204          0.817020   \n",
       "1_VotingSoftByMetric            0.605373     0.885204          0.817020   \n",
       "2750cad0                        0.601952     0.881122          0.815240   \n",
       "1_VotingUniform                 0.601952     0.881122          0.815240   \n",
       "1_VotingByMetric                0.601952     0.881122          0.815240   \n",
       "2750cad1                        0.601742     0.881122          0.815078   \n",
       "0_VotingSoftByMetric            0.565304     0.867857          0.788384   \n",
       "0_VotingSoft                    0.564929     0.867857          0.788060   \n",
       "e9396efb                        0.544825     0.843367          0.776573   \n",
       "f93b5bbb                        0.544825     0.843367          0.776573   \n",
       "0_VotingUniform                 0.544825     0.843367          0.776573   \n",
       "e9396efa                        0.544975     0.843878          0.776573   \n",
       "0_VotingByMetric                0.544975     0.843878          0.776573   \n",
       "ed312d4b                        0.647959     0.583163          0.899531   \n",
       "\n",
       "                           Test f1  Test matthews_corrcoef  \\\n",
       "Id                                                           \n",
       "0_StackFSSelectFromModel  0.717745                0.626028   \n",
       "0_Stack                   0.718515                0.627260   \n",
       "1_StackFSSelectFromModel  0.717532                0.625857   \n",
       "ed312d4a                  0.716816                0.624861   \n",
       "1_Stack                   0.718269                0.627105   \n",
       "2dfa2e44                  0.712300                0.618757   \n",
       "1_VotingSoft              0.719022                0.628614   \n",
       "1_VotingSoftByMetric      0.719022                0.628614   \n",
       "2750cad0                  0.715262                0.623218   \n",
       "1_VotingUniform           0.715262                0.623218   \n",
       "1_VotingByMetric          0.715262                0.623218   \n",
       "2750cad1                  0.715114                0.623024   \n",
       "0_VotingSoftByMetric      0.684645                0.581254   \n",
       "0_VotingSoft              0.684369                0.580888   \n",
       "e9396efb                  0.661994                0.548172   \n",
       "f93b5bbb                  0.661994                0.548172   \n",
       "0_VotingUniform           0.661994                0.548172   \n",
       "e9396efa                  0.662262                0.548586   \n",
       "0_VotingByMetric          0.662262                0.548586   \n",
       "ed312d4b                  0.613856                0.500924   \n",
       "\n",
       "                          Test optimized_precision  ...  Validation precision  \\\n",
       "Id                                                  ...                         \n",
       "0_StackFSSelectFromModel                  0.800471  ...                   NaN   \n",
       "0_Stack                                   0.799359  ...                   NaN   \n",
       "1_StackFSSelectFromModel                  0.799029  ...                   NaN   \n",
       "ed312d4a                                  0.798532  ...              0.604571   \n",
       "1_Stack                                   0.797308  ...                   NaN   \n",
       "2dfa2e44                                  0.793492  ...              0.600055   \n",
       "1_VotingSoft                              0.793380  ...                   NaN   \n",
       "1_VotingSoftByMetric                      0.793380  ...                   NaN   \n",
       "2750cad0                                  0.792265  ...              0.602420   \n",
       "1_VotingUniform                           0.792265  ...                   NaN   \n",
       "1_VotingByMetric                          0.792265  ...                   NaN   \n",
       "2750cad1                                  0.792043  ...              0.602325   \n",
       "0_VotingSoftByMetric                      0.759533  ...                   NaN   \n",
       "0_VotingSoft                              0.759083  ...                   NaN   \n",
       "e9396efb                                  0.751422  ...              0.556356   \n",
       "f93b5bbb                                  0.751422  ...              0.556356   \n",
       "0_VotingUniform                           0.751422  ...                   NaN   \n",
       "e9396efa                                  0.751243  ...              0.556407   \n",
       "0_VotingByMetric                          0.751243  ...                   NaN   \n",
       "ed312d4b                                  0.609990  ...              0.648631   \n",
       "\n",
       "                          Validation recall  Validation specificity  \\\n",
       "Id                                                                    \n",
       "0_StackFSSelectFromModel                NaN                     NaN   \n",
       "0_Stack                                 NaN                     NaN   \n",
       "1_StackFSSelectFromModel                NaN                     NaN   \n",
       "ed312d4a                           0.859209                0.821727   \n",
       "1_Stack                                 NaN                     NaN   \n",
       "2dfa2e44                           0.845606                0.821188   \n",
       "1_VotingSoft                            NaN                     NaN   \n",
       "1_VotingSoftByMetric                    NaN                     NaN   \n",
       "2750cad0                           0.857679                0.820433   \n",
       "1_VotingUniform                         NaN                     NaN   \n",
       "1_VotingByMetric                        NaN                     NaN   \n",
       "2750cad1                           0.857849                0.820325   \n",
       "0_VotingSoftByMetric                    NaN                     NaN   \n",
       "0_VotingSoft                            NaN                     NaN   \n",
       "e9396efb                           0.836593                0.788284   \n",
       "f93b5bbb                           0.836593                0.788284   \n",
       "0_VotingUniform                         NaN                     NaN   \n",
       "e9396efa                           0.836763                0.788284   \n",
       "0_VotingByMetric                        NaN                     NaN   \n",
       "ed312d4b                           0.557897                0.904148   \n",
       "\n",
       "                          Validation f1  Validation matthews_corrcoef  \\\n",
       "Id                                                                      \n",
       "0_StackFSSelectFromModel            NaN                           NaN   \n",
       "0_Stack                             NaN                           NaN   \n",
       "1_StackFSSelectFromModel            NaN                           NaN   \n",
       "ed312d4a                       0.709741                      0.613655   \n",
       "1_Stack                             NaN                           NaN   \n",
       "2dfa2e44                       0.701966                      0.602147   \n",
       "1_VotingSoft                        NaN                           NaN   \n",
       "1_VotingSoftByMetric                NaN                           NaN   \n",
       "2750cad0                       0.707727                      0.610853   \n",
       "1_VotingUniform                     NaN                           NaN   \n",
       "1_VotingByMetric                    NaN                           NaN   \n",
       "2750cad1                       0.707719                      0.610857   \n",
       "0_VotingSoftByMetric                NaN                           NaN   \n",
       "0_VotingSoft                        NaN                           NaN   \n",
       "e9396efb                       0.668249                      0.555963   \n",
       "f93b5bbb                       0.668249                      0.555963   \n",
       "0_VotingUniform                     NaN                           NaN   \n",
       "e9396efa                       0.668340                      0.556101   \n",
       "0_VotingByMetric                    NaN                           NaN   \n",
       "ed312d4b                       0.599849                      0.487496   \n",
       "\n",
       "                          Validation optimized_precision  Stacking Level  \\\n",
       "Id                                                                         \n",
       "0_StackFSSelectFromModel                             NaN               0   \n",
       "0_Stack                                              NaN               0   \n",
       "1_StackFSSelectFromModel                             NaN               1   \n",
       "ed312d4a                                        0.808456               0   \n",
       "1_Stack                                              NaN               1   \n",
       "2dfa2e44                                        0.812418               1   \n",
       "1_VotingSoft                                         NaN               1   \n",
       "1_VotingSoftByMetric                                 NaN               1   \n",
       "2750cad0                                        0.807207               1   \n",
       "1_VotingUniform                                      NaN               1   \n",
       "1_VotingByMetric                                     NaN               1   \n",
       "2750cad1                                        0.807001               1   \n",
       "0_VotingSoftByMetric                                 NaN               0   \n",
       "0_VotingSoft                                         NaN               0   \n",
       "e9396efb                                        0.770187               0   \n",
       "f93b5bbb                                        0.770187               0   \n",
       "0_VotingUniform                                      NaN               0   \n",
       "e9396efa                                        0.770126               0   \n",
       "0_VotingByMetric                                     NaN               0   \n",
       "ed312d4b                                        0.583935               0   \n",
       "\n",
       "                          Total Time (s)  Estimator Fit Time (s)  \\\n",
       "Id                                                                 \n",
       "0_StackFSSelectFromModel             NaN                     NaN   \n",
       "0_Stack                              NaN                     NaN   \n",
       "1_StackFSSelectFromModel             NaN                     NaN   \n",
       "ed312d4a                       20.371470               16.857204   \n",
       "1_Stack                              NaN                     NaN   \n",
       "2dfa2e44                       24.216765               19.409542   \n",
       "1_VotingSoft                         NaN                     NaN   \n",
       "1_VotingSoftByMetric                 NaN                     NaN   \n",
       "2750cad0                       12.044163                9.192110   \n",
       "1_VotingUniform                      NaN                     NaN   \n",
       "1_VotingByMetric                     NaN                     NaN   \n",
       "2750cad1                        6.655913                5.009819   \n",
       "0_VotingSoftByMetric                 NaN                     NaN   \n",
       "0_VotingSoft                         NaN                     NaN   \n",
       "e9396efb                        4.491900                3.882941   \n",
       "f93b5bbb                        1.585602                0.992059   \n",
       "0_VotingUniform                      NaN                     NaN   \n",
       "e9396efa                        4.395032                3.689556   \n",
       "0_VotingByMetric                     NaN                     NaN   \n",
       "ed312d4b                       17.501157               12.876189   \n",
       "\n",
       "                          Dataset Fraction  \n",
       "Id                                          \n",
       "0_StackFSSelectFromModel               1.0  \n",
       "0_Stack                                1.0  \n",
       "1_StackFSSelectFromModel               1.0  \n",
       "ed312d4a                               1.0  \n",
       "1_Stack                                1.0  \n",
       "2dfa2e44                               1.0  \n",
       "1_VotingSoft                           1.0  \n",
       "1_VotingSoftByMetric                   1.0  \n",
       "2750cad0                               1.0  \n",
       "1_VotingUniform                        1.0  \n",
       "1_VotingByMetric                       1.0  \n",
       "2750cad1                               1.0  \n",
       "0_VotingSoftByMetric                   1.0  \n",
       "0_VotingSoft                           1.0  \n",
       "e9396efb                               1.0  \n",
       "f93b5bbb                               1.0  \n",
       "0_VotingUniform                        1.0  \n",
       "e9396efa                               1.0  \n",
       "0_VotingByMetric                       1.0  \n",
       "ed312d4b                               1.0  \n",
       "\n",
       "[20 rows x 23 columns]"
      ]
     },
     "metadata": {},
     "output_type": "display_data"
    }
   ],
   "source": [
    "t_s = time()\n",
    "am.fit(data.drop(\"income >50K\", axis=1), data[\"income >50K\"], ordinal_columns={\"education\":ordinal_columns})\n",
    "#am.fit(data.drop(\"Purchase\", axis=1), data[\"Purchase\"])\n",
    "#am.fit(data.drop(\"default\", axis=1), data[\"default\"], ordinal_columns={\"EDUCATION\": list(sorted(data[\"EDUCATION\"].unique()))})\n",
    "#am.fit(data.drop(\"quality\", axis=1), data[\"quality\"]>=6)\n",
    "#am.fit(data.drop(\"target\", axis=1), data[\"target\"])\n",
    "#am.fit(data.drop(\"target\", axis=1), data[\"target\"], ordinal_columns=ordinal_columns)\n",
    "#am.fit(X_train, y_train, X_test=X_test, y_test=y_test)\n",
    "t_end = time() - t_s"
   ]
  },
  {
   "cell_type": "code",
   "execution_count": 8,
   "metadata": {},
   "outputs": [],
   "source": [
    "a = am.get_pipeline_by_id(\"1_StackFSSelectFromModel\")"
   ]
  },
  {
   "cell_type": "code",
   "execution_count": 9,
   "metadata": {},
   "outputs": [
    {
     "data": {
      "text/plain": [
       "Pipeline(steps=[('PrepareData',\n",
       "                 PrepareDataFrame(ordinal_columns={'education': {'education': ['dropout',\n",
       "                                                                               'HighGrad',\n",
       "                                                                               'CommunityCollege',\n",
       "                                                                               'Bachelors',\n",
       "                                                                               'Masters',\n",
       "                                                                               'Doctorate']}})),\n",
       "                ('Ensemble',\n",
       "                 PandasStackingClassifier(cv=StratifiedKFold(n_splits=4,\n",
       "        random_state=RandomState(MT19937) at 0x7F838E61A440, shuffle=False),\n",
       "                                          estimators=[('meta-1_2750cad0',\n",
       "                                                       PandasStackingCla...\n",
       "                                                                                                                                        max_iter=200,\n",
       "                                                                                                                                        penalty='elasticnet',\n",
       "                                                                                                                                        random_state=42,\n",
       "                                                                                                                                        solver='saga'))]),\n",
       "                                                                                passthrough=True))],\n",
       "                                          final_estimator=BasePipeline(steps=[('SelectEstimators',\n",
       "                                                                               PandasSelectColumns(columns_to_select=Index(['meta-1_2750cad0_1'], dtype='object'))),\n",
       "                                                                              ('FinalEstimator',\n",
       "                                                                               LogisticRegression(class_weight='balanced',\n",
       "                                                                                                  l1_ratio=0,\n",
       "                                                                                                  max_iter=200,\n",
       "                                                                                                  penalty='elasticnet',\n",
       "                                                                                                  solver='saga'))])))])"
      ]
     },
     "execution_count": 9,
     "metadata": {},
     "output_type": "execute_result"
    }
   ],
   "source": [
    "a"
   ]
  },
  {
   "cell_type": "code",
   "execution_count": null,
   "metadata": {},
   "outputs": [],
   "source": [
    "x = a.fit_transform(am.X_, am.y_)"
   ]
  },
  {
   "cell_type": "code",
   "execution_count": null,
   "metadata": {},
   "outputs": [],
   "source": [
    "x"
   ]
  },
  {
   "cell_type": "code",
   "execution_count": null,
   "metadata": {},
   "outputs": [],
   "source": [
    "x.dtypes"
   ]
  },
  {
   "cell_type": "code",
   "execution_count": null,
   "metadata": {},
   "outputs": [],
   "source": [
    "am.X_test_"
   ]
  },
  {
   "cell_type": "code",
   "execution_count": null,
   "metadata": {},
   "outputs": [],
   "source": [
    "a.named_steps[\"ColumnEncodingScaling\"].transformers[0][1].transformers_"
   ]
  },
  {
   "cell_type": "code",
   "execution_count": null,
   "metadata": {},
   "outputs": [],
   "source": [
    "a.named_steps[\"ColumnEncodingScaling\"].transformers[0][1].transformers_"
   ]
  },
  {
   "cell_type": "code",
   "execution_count": null,
   "metadata": {},
   "outputs": [],
   "source": [
    "a.score(am.X_test_, am.y_test_)"
   ]
  },
  {
   "cell_type": "code",
   "execution_count": null,
   "metadata": {},
   "outputs": [],
   "source": [
    "am.visualize_pipeline(\"65a71b94\")"
   ]
  },
  {
   "cell_type": "code",
   "execution_count": null,
   "metadata": {},
   "outputs": [],
   "source": [
    "am.results_.sort_values(\"Test accuracy\", ascending=False)[:60]"
   ]
  },
  {
   "cell_type": "code",
   "execution_count": null,
   "metadata": {},
   "outputs": [],
   "source": [
    "from sklearn.linear_model import LogisticRegression\n",
    "from sklearn.tree import DecisionTreeClassifier\n",
    "from sklearn.datasets import load_digits\n",
    "from sklearn.model_selection import train_test_split\n",
    "X, y = load_digits(return_X_y=True)\n",
    "X_train, X_test, y_train, y_test = train_test_split(X, y)\n",
    "\n",
    "lr = LogisticRegression(random_state=42).fit(X_train, y_train)\n",
    "dt = DecisionTreeClassifier(random_state=42).fit(X_train, y_train)"
   ]
  },
  {
   "cell_type": "code",
   "execution_count": null,
   "metadata": {},
   "outputs": [],
   "source": [
    "predictions = [lr.predict_proba(X_train), dt.predict_proba(X_train)]"
   ]
  },
  {
   "cell_type": "code",
   "execution_count": null,
   "metadata": {},
   "outputs": [],
   "source": [
    "from automl_models.components.estimators.ensemble import PandasStackingClassifier\n",
    "stack = PandasStackingClassifier(estimators=[(\"lr\", lr), (\"dt\", dt)], final_estimator=LogisticRegression(random_state=42)).fit(X_train, y_train)"
   ]
  },
  {
   "cell_type": "code",
   "execution_count": null,
   "metadata": {},
   "outputs": [],
   "source": [
    "p = stack.predict_proba(X_test)"
   ]
  },
  {
   "cell_type": "code",
   "execution_count": null,
   "metadata": {},
   "outputs": [],
   "source": [
    "stack._saved_test_predictions=predictions\n",
    "pp = stack.predict_proba(X_test)"
   ]
  },
  {
   "cell_type": "code",
   "execution_count": null,
   "metadata": {},
   "outputs": [],
   "source": [
    "p == pp"
   ]
  },
  {
   "cell_type": "code",
   "execution_count": null,
   "metadata": {},
   "outputs": [],
   "source": [
    "am.results_.loc[\"0_VotingUniform\"]"
   ]
  },
  {
   "cell_type": "code",
   "execution_count": null,
   "metadata": {},
   "outputs": [],
   "source": [
    "p = am.get_pipeline_by_id(\"0_VotingUniform\")"
   ]
  },
  {
   "cell_type": "code",
   "execution_count": null,
   "metadata": {},
   "outputs": [],
   "source": [
    "p.score(am.X_test_, am.y_test_)"
   ]
  },
  {
   "cell_type": "code",
   "execution_count": null,
   "metadata": {},
   "outputs": [],
   "source": [
    "p._final_estimator"
   ]
  },
  {
   "cell_type": "code",
   "execution_count": null,
   "metadata": {},
   "outputs": [],
   "source": [
    "from sklearn.ensemble import RandomForestClassifier\n",
    "from sklearn.datasets import load_breast_cancer, load_iris, make_classification\n",
    "from sklearn.model_selection import train_test_split, cross_val_score, cross_validate, StratifiedKFold\n",
    "from sklearn.metrics import f1_score, roc_auc_score\n",
    "from sklearn.ensemble import VotingClassifier\n",
    "from sklearn.base import BaseEstimator, clone, ClassifierMixin\n",
    "from sklearn.preprocessing import LabelEncoder\n",
    "from deslib.des import KNORAE, METADES, KNORAU\n",
    "import numpy as np"
   ]
  },
  {
   "cell_type": "code",
   "execution_count": null,
   "metadata": {},
   "outputs": [],
   "source": [
    "rfc = RandomForestClassifier(random_state=42, oob_score=True, bootstrap=True)\n",
    "X, y = load_breast_cancer(return_X_y=True)\n"
   ]
  },
  {
   "cell_type": "code",
   "execution_count": null,
   "metadata": {},
   "outputs": [],
   "source": [
    "data = pd.read_csv(\"datasets/wine.csv\")"
   ]
  },
  {
   "cell_type": "code",
   "execution_count": null,
   "metadata": {},
   "outputs": [],
   "source": [
    "X = data.drop(\"type\", axis=1).to_numpy()\n",
    "y = LabelEncoder().fit_transform(data[\"type\"].to_numpy())"
   ]
  },
  {
   "cell_type": "code",
   "execution_count": null,
   "metadata": {},
   "outputs": [],
   "source": [
    "cv = StratifiedKFold(n_splits=4, shuffle=True, random_state=42)"
   ]
  },
  {
   "cell_type": "code",
   "execution_count": null,
   "metadata": {},
   "outputs": [],
   "source": [
    "class DESCV(ClassifierMixin, BaseEstimator):\n",
    "    def __init__(self, des, classifier_pool, cv):\n",
    "        self.des = des\n",
    "        self.classifier_pool = classifier_pool\n",
    "        self.cv = cv\n",
    "    def fit(self, X, y):\n",
    "        self.le_ = LabelEncoder().fit(y)\n",
    "        self.classes_ = self.le_.classes_\n",
    "        transformed_y = self.le_.transform(y)\n",
    "\n",
    "        des = []\n",
    "        for train_ind, test_ind in self.cv.split(X, y):\n",
    "            rfc_ = clone(self.classifier_pool).fit(X[train_ind], y[train_ind])\n",
    "            des_ = clone(self.des)\n",
    "            des_.set_params(pool_classifiers=rfc_)\n",
    "            des_.fit(X[test_ind], y[test_ind])\n",
    "            des.append(des_)\n",
    "        self.estimators_ = des\n",
    "\n",
    "    def _predict(self, X):\n",
    "        \"\"\"Collect results from clf.predict calls.\"\"\"\n",
    "        return np.asarray([est.predict(X) for est in self.estimators_]).T\n",
    "\n",
    "    def _collect_probas(self, X):\n",
    "        \"\"\"Collect results from clf.predict calls.\"\"\"\n",
    "        return np.asarray([clf.predict_proba(X) for clf in self.estimators_])\n",
    "\n",
    "    def predict(self, X):\n",
    "        maj = np.argmax(self.predict_proba(X), axis=1)\n",
    "        maj = self.le_.inverse_transform(maj)\n",
    "\n",
    "        return maj\n",
    "\n",
    "    def predict_proba(self, X):\n",
    "        \"\"\"Predict class probabilities for X in 'soft' voting.\"\"\"\n",
    "        #check_is_fitted(self)\n",
    "        avg = np.average(self._collect_probas(X), axis=0)\n",
    "        return avg"
   ]
  },
  {
   "cell_type": "code",
   "execution_count": null,
   "metadata": {},
   "outputs": [],
   "source": [
    "X, y = make_classification(n_samples=7000, random_state=42)"
   ]
  },
  {
   "cell_type": "code",
   "execution_count": null,
   "metadata": {},
   "outputs": [],
   "source": [
    "descv = DESCV(KNORAE(None, DFP=True, random_state=42), RandomForestClassifier(random_state=42, oob_score=True, bootstrap=True), cv)"
   ]
  },
  {
   "cell_type": "code",
   "execution_count": null,
   "metadata": {},
   "outputs": [],
   "source": [
    "desucv = DESCV(KNORAU(None, DFP=True, random_state=42), RandomForestClassifier(random_state=42, oob_score=True, bootstrap=True), cv)"
   ]
  },
  {
   "cell_type": "code",
   "execution_count": null,
   "metadata": {},
   "outputs": [],
   "source": [
    "metadescv = DESCV(METADES(None, DFP=True, random_state=42), RandomForestClassifier(random_state=42, oob_score=True, bootstrap=True), cv)"
   ]
  },
  {
   "cell_type": "code",
   "execution_count": null,
   "metadata": {},
   "outputs": [],
   "source": [
    "%%time\n",
    "np.mean(cross_val_score(rfc, X, y, scoring=\"roc_auc_ovr_weighted\"))"
   ]
  },
  {
   "cell_type": "code",
   "execution_count": null,
   "metadata": {},
   "outputs": [],
   "source": [
    "np.mean(cross_val_score(rfc, X, y, scoring=\"f1\", error_score=\"raise\"))"
   ]
  },
  {
   "cell_type": "code",
   "execution_count": null,
   "metadata": {},
   "outputs": [],
   "source": [
    "%%time\n",
    "np.mean(cross_val_score(descv, X, y, scoring=\"roc_auc_ovr_weighted\", error_score=\"raise\"))"
   ]
  },
  {
   "cell_type": "code",
   "execution_count": null,
   "metadata": {},
   "outputs": [],
   "source": [
    "np.mean(cross_val_score(descv, X, y, scoring=\"f1\"))"
   ]
  },
  {
   "cell_type": "code",
   "execution_count": null,
   "metadata": {},
   "outputs": [],
   "source": [
    "%%time\n",
    "np.mean(cross_val_score(desucv, X, y, scoring=\"roc_auc_ovr_weighted\", error_score=\"raise\"))"
   ]
  },
  {
   "cell_type": "code",
   "execution_count": null,
   "metadata": {},
   "outputs": [],
   "source": [
    "np.mean(cross_val_score(desucv, X, y, scoring=\"f1\", error_score=\"raise\"))"
   ]
  },
  {
   "cell_type": "code",
   "execution_count": null,
   "metadata": {},
   "outputs": [],
   "source": [
    "%%time\n",
    "np.mean(cross_val_score(metadescv, X, y, scoring=\"roc_auc_ovr_weighted\", error_score=\"raise\"))"
   ]
  },
  {
   "cell_type": "code",
   "execution_count": null,
   "metadata": {},
   "outputs": [],
   "source": [
    "np.mean(cross_val_score(metadescv, X, y, scoring=\"f1\", error_score=\"raise\"))"
   ]
  },
  {
   "cell_type": "code",
   "execution_count": null,
   "metadata": {},
   "outputs": [],
   "source": [
    "rfc.fit(X, y)\n",
    "rfc.oob_decision_function_"
   ]
  },
  {
   "cell_type": "code",
   "execution_count": null,
   "metadata": {},
   "outputs": [],
   "source": [
    "np.argmax(rfc.oob_decision_function_, axis=1)"
   ]
  },
  {
   "cell_type": "code",
   "execution_count": null,
   "metadata": {},
   "outputs": [],
   "source": [
    "rfc.oob_decision_function_.shape"
   ]
  },
  {
   "cell_type": "code",
   "execution_count": null,
   "metadata": {},
   "outputs": [],
   "source": []
  }
 ],
 "metadata": {
  "interpreter": {
   "hash": "13bf977ed70ebd8c67ec8b0f61ca52da9d9f5c8e06b430203c5bac31a23b1df6"
  },
  "kernelspec": {
   "display_name": "Python 3.8.10 64-bit",
   "name": "python3"
  },
  "language_info": {
   "codemirror_mode": {
    "name": "ipython",
    "version": 3
   },
   "file_extension": ".py",
   "mimetype": "text/x-python",
   "name": "python",
   "nbconvert_exporter": "python",
   "pygments_lexer": "ipython3",
   "version": "3.8.10"
  },
  "orig_nbformat": 2
 },
 "nbformat": 4,
 "nbformat_minor": 2
}