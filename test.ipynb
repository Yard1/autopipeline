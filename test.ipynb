{
 "cells": [
  {
   "cell_type": "code",
   "execution_count": null,
   "source": [
    "from sklearnex import patch_sklearn\n",
    "patch_sklearn()"
   ],
   "outputs": [],
   "metadata": {}
  },
  {
   "cell_type": "code",
   "execution_count": null,
   "source": [
    "import pandas as pd\n",
    "import numpy as np\n",
    "from time import time\n",
    "from sklearn.datasets import load_digits"
   ],
   "outputs": [],
   "metadata": {}
  },
  {
   "cell_type": "code",
   "execution_count": null,
   "source": [
    "data = pd.read_csv(\"datasets/income.csv\")\n",
    "data"
   ],
   "outputs": [],
   "metadata": {}
  },
  {
   "cell_type": "code",
   "execution_count": null,
   "source": [
    "data[\"education\"] = data[\"education\"].replace(\n",
    "    {\n",
    "        'Preschool': 'dropout',\n",
    "        '10th': 'dropout',\n",
    "        '11th': 'dropout',\n",
    "        '12th': 'dropout',\n",
    "        '1st-4th': 'dropout',\n",
    "        '5th-6th': 'dropout',\n",
    "        '7th-8th': 'dropout',\n",
    "        '9th': 'dropout',\n",
    "        'HS-Grad': 'HighGrad',\n",
    "        'HS-grad': 'HighGrad',\n",
    "        'Some-college': 'CommunityCollege',\n",
    "        'Assoc-acdm': 'CommunityCollege',\n",
    "        'Assoc-voc': 'CommunityCollege',\n",
    "        'Bachelors': 'Bachelors',\n",
    "        'Masters': 'Masters',\n",
    "        'Prof-school': 'Masters',\n",
    "        'Doctorate': 'Doctorate'\n",
    "    }\n",
    ")\n",
    "data[\"marital-status\"] = data[\"marital-status\"].replace(\n",
    "    {\n",
    "        'Never-married': 'NotMarried',\n",
    "        'Married-AF-spouse': 'Married',\n",
    "        'Married-civ-spouse': 'Married',\n",
    "        'NotMarried': 'NotMarried',\n",
    "        'Separated': 'Separated',\n",
    "        'Divorced': 'Separated',\n",
    "        'Widowed': 'Widowed',\n",
    "    }\n",
    ")\n",
    "ordinal_columns={\n",
    "    \"education\": [\"dropout\", \"HighGrad\", \"CommunityCollege\", \"Bachelors\", \"Masters\", \"Doctorate\"],\n",
    "}\n",
    "data[\"native-country\"] = data[\"native-country\"].replace(\n",
    "{\"Canada\": \"North America\", \"Cuba\": \"South America\", \"Dominican-Republic\": \"South America\", \"El-Salvador\": \"South America\", \"Guatemala\": \"South America\",\n",
    "                   \"Haiti\": \"South America\", \"Honduras\": \"South America\", \"Jamaica\": \"South America\", \"Mexico\": \"South America\", \"Nicaragua\": \"South America\",\n",
    "                   \"Outlying-US(Guam-USVI-etc)\": \"North America\", \"Puerto-Rico\": \"North America\", \"Trinadad&Tobago\": \"South America\",\n",
    "                   \"United-States\": \"North America\", \"Cambodia\": \"Asia\", \"China\": \"Asia\", \"Hong\": \"Asia\", \"India\": \"Asia\", \"Iran\": \"Asia\", \"Japan\": \"Asia\", \"Laos\": \"Asia\",\n",
    "          \"Philippines\": \"Asia\", \"Taiwan\": \"Asia\", \"Thailand\": \"Asia\", \"Vietnam\": \"Asia\", \"Columbia\": \"South America\", \"Ecuador\": \"South America\", \"Peru\": \"South America\", \"England\": \"West Europe\", \"France\": \"West Europe\", \"Germany\": \"West Europe\", \"Greece\": \"West Europe\", \"Holand-Netherlands\": \"West Europe\",\n",
    "            \"Ireland\": \"West Europe\", \"Italy\": \"West Europe\", \"Portugal\": \"West Europe\", \"Scotland\": \"West Europe\", \"Hungary\": \"East Europe\", \"Poland\": \"East Europe\", \"Yugoslavia\": \"East Europe\", \"South\": \"?\"})\n",
    "data[\"capital\"] = data[\"capital-gain\"]-data[\"capital-loss\"]\n",
    "data.drop([\"capital-gain\", \"capital-loss\"], axis=1, inplace=True)\n",
    "data[\"education-num\"] = data[\"education-num\"].astype(float)"
   ],
   "outputs": [],
   "metadata": {}
  },
  {
   "cell_type": "code",
   "execution_count": null,
   "source": [
    "from sklearn.model_selection import RepeatedStratifiedKFold\n",
    "from automl.search.automl import AutoML\n",
    "\n",
    "am = AutoML(\n",
    "    random_state=42,\n",
    "    level=\"common\",\n",
    "    target_metric=\"f1\",\n",
    "    trainer_config={\n",
    "        #\"secondary_level\": ComponentLevel.UNCOMMON,\n",
    "        \"cache\": True,\n",
    "        \"early_stopping\": True,\n",
    "        \"return_test_scores_during_tuning\": True,\n",
    "        \"tuning_time\": 120*3,\n",
    "        \"stacking_level\": 3,\n",
    "        \"tune_kwargs\": {\"max_concurrent\": 2, \"trainable_n_jobs\": 4}\n",
    "    },\n",
    "    #cv=RepeatedStratifiedKFold(random_state=420, n_repeats=2, n_splits=4)\n",
    "    cv=4,\n",
    ")"
   ],
   "outputs": [],
   "metadata": {}
  },
  {
   "cell_type": "code",
   "execution_count": null,
   "source": [
    "t_s = time()\n",
    "am.fit(data.drop(\"income >50K\", axis=1), data[\"income >50K\"], ordinal_columns={\"education\":ordinal_columns})\n",
    "#am.fit(data.drop(\"Purchase\", axis=1), data[\"Purchase\"])\n",
    "#am.fit(data.drop(\"default\", axis=1), data[\"default\"], ordinal_columns={\"EDUCATION\": list(sorted(data[\"EDUCATION\"].unique()))})\n",
    "#am.fit(data.drop(\"quality\", axis=1), data[\"quality\"]>=6)\n",
    "#am.fit(data.drop(\"target\", axis=1), data[\"target\"])\n",
    "#am.fit(data.drop(\"target\", axis=1), data[\"target\"], ordinal_columns=ordinal_columns)\n",
    "#am.fit(X_train, y_train, X_test=X_test, y_test=y_test)\n",
    "t_end = time() - t_s"
   ],
   "outputs": [],
   "metadata": {}
  },
  {
   "cell_type": "code",
   "execution_count": null,
   "source": [
    "am._get_results()"
   ],
   "outputs": [],
   "metadata": {}
  },
  {
   "cell_type": "code",
   "execution_count": null,
   "source": [
    "a"
   ],
   "outputs": [],
   "metadata": {}
  },
  {
   "cell_type": "code",
   "execution_count": null,
   "source": [
    "am.visualize_pipeline(\"349f7d86\")"
   ],
   "outputs": [],
   "metadata": {}
  },
  {
   "cell_type": "code",
   "execution_count": null,
   "source": [
    "x"
   ],
   "outputs": [],
   "metadata": {}
  },
  {
   "cell_type": "code",
   "execution_count": null,
   "source": [
    "x.dtypes"
   ],
   "outputs": [],
   "metadata": {}
  },
  {
   "cell_type": "code",
   "execution_count": null,
   "source": [
    "am.X_test_"
   ],
   "outputs": [],
   "metadata": {}
  },
  {
   "cell_type": "code",
   "execution_count": null,
   "source": [
    "a.named_steps[\"ColumnEncodingScaling\"].transformers[0][1].transformers_"
   ],
   "outputs": [],
   "metadata": {}
  },
  {
   "cell_type": "code",
   "execution_count": null,
   "source": [
    "a.named_steps[\"ColumnEncodingScaling\"].transformers[0][1].transformers_"
   ],
   "outputs": [],
   "metadata": {}
  },
  {
   "cell_type": "code",
   "execution_count": null,
   "source": [
    "a.score(am.X_test_, am.y_test_)"
   ],
   "outputs": [],
   "metadata": {}
  },
  {
   "cell_type": "code",
   "execution_count": null,
   "source": [
    "am.visualize_pipeline(\"65a71b94\")"
   ],
   "outputs": [],
   "metadata": {}
  },
  {
   "cell_type": "code",
   "execution_count": null,
   "source": [
    "am.results_.sort_values(\"Test accuracy\", ascending=False)[:60]"
   ],
   "outputs": [],
   "metadata": {}
  },
  {
   "cell_type": "code",
   "execution_count": null,
   "source": [
    "from sklearn.linear_model import LogisticRegression\n",
    "from sklearn.tree import DecisionTreeClassifier\n",
    "from sklearn.datasets import load_digits\n",
    "from sklearn.model_selection import train_test_split\n",
    "X, y = load_digits(return_X_y=True)\n",
    "X_train, X_test, y_train, y_test = train_test_split(X, y)\n",
    "\n",
    "lr = LogisticRegression(random_state=42).fit(X_train, y_train)\n",
    "dt = DecisionTreeClassifier(random_state=42).fit(X_train, y_train)"
   ],
   "outputs": [],
   "metadata": {}
  },
  {
   "cell_type": "code",
   "execution_count": null,
   "source": [
    "predictions = [lr.predict_proba(X_train), dt.predict_proba(X_train)]"
   ],
   "outputs": [],
   "metadata": {}
  },
  {
   "cell_type": "code",
   "execution_count": null,
   "source": [
    "from automl_models.components.estimators.ensemble import PandasStackingClassifier\n",
    "stack = PandasStackingClassifier(estimators=[(\"lr\", lr), (\"dt\", dt)], final_estimator=LogisticRegression(random_state=42)).fit(X_train, y_train)"
   ],
   "outputs": [],
   "metadata": {}
  },
  {
   "cell_type": "code",
   "execution_count": null,
   "source": [
    "p = stack.predict_proba(X_test)"
   ],
   "outputs": [],
   "metadata": {}
  },
  {
   "cell_type": "code",
   "execution_count": null,
   "source": [
    "stack._saved_test_predictions=predictions\n",
    "pp = stack.predict_proba(X_test)"
   ],
   "outputs": [],
   "metadata": {}
  },
  {
   "cell_type": "code",
   "execution_count": null,
   "source": [
    "p == pp"
   ],
   "outputs": [],
   "metadata": {}
  },
  {
   "cell_type": "code",
   "execution_count": null,
   "source": [
    "am.results_.loc[\"0_VotingUniform\"]"
   ],
   "outputs": [],
   "metadata": {}
  },
  {
   "cell_type": "code",
   "execution_count": null,
   "source": [
    "p = am.get_pipeline_by_id(\"0_VotingUniform\")"
   ],
   "outputs": [],
   "metadata": {}
  },
  {
   "cell_type": "code",
   "execution_count": null,
   "source": [
    "p.score(am.X_test_, am.y_test_)"
   ],
   "outputs": [],
   "metadata": {}
  },
  {
   "cell_type": "code",
   "execution_count": null,
   "source": [
    "p._final_estimator"
   ],
   "outputs": [],
   "metadata": {}
  },
  {
   "cell_type": "code",
   "execution_count": null,
   "source": [
    "from sklearn.ensemble import RandomForestClassifier\n",
    "from sklearn.datasets import load_breast_cancer, load_iris, make_classification\n",
    "from sklearn.model_selection import train_test_split, cross_val_score, cross_validate, StratifiedKFold\n",
    "from sklearn.metrics import f1_score, roc_auc_score\n",
    "from sklearn.ensemble import VotingClassifier\n",
    "from sklearn.base import BaseEstimator, clone, ClassifierMixin\n",
    "from sklearn.preprocessing import LabelEncoder\n",
    "from deslib.des import KNORAE, METADES, KNORAU\n",
    "import numpy as np"
   ],
   "outputs": [],
   "metadata": {}
  },
  {
   "cell_type": "code",
   "execution_count": null,
   "source": [
    "rfc = RandomForestClassifier(random_state=42, oob_score=True, bootstrap=True)\n",
    "X, y = load_breast_cancer(return_X_y=True)\n"
   ],
   "outputs": [],
   "metadata": {}
  },
  {
   "cell_type": "code",
   "execution_count": null,
   "source": [
    "data = pd.read_csv(\"datasets/wine.csv\")"
   ],
   "outputs": [],
   "metadata": {}
  },
  {
   "cell_type": "code",
   "execution_count": null,
   "source": [
    "X = data.drop(\"type\", axis=1).to_numpy()\n",
    "y = LabelEncoder().fit_transform(data[\"type\"].to_numpy())"
   ],
   "outputs": [],
   "metadata": {}
  },
  {
   "cell_type": "code",
   "execution_count": null,
   "source": [
    "cv = StratifiedKFold(n_splits=4, shuffle=True, random_state=42)"
   ],
   "outputs": [],
   "metadata": {}
  },
  {
   "cell_type": "code",
   "execution_count": null,
   "source": [
    "class DESCV(ClassifierMixin, BaseEstimator):\n",
    "    def __init__(self, des, classifier_pool, cv):\n",
    "        self.des = des\n",
    "        self.classifier_pool = classifier_pool\n",
    "        self.cv = cv\n",
    "    def fit(self, X, y):\n",
    "        self.le_ = LabelEncoder().fit(y)\n",
    "        self.classes_ = self.le_.classes_\n",
    "        transformed_y = self.le_.transform(y)\n",
    "\n",
    "        des = []\n",
    "        for train_ind, test_ind in self.cv.split(X, y):\n",
    "            rfc_ = clone(self.classifier_pool).fit(X[train_ind], y[train_ind])\n",
    "            des_ = clone(self.des)\n",
    "            des_.set_params(pool_classifiers=rfc_)\n",
    "            des_.fit(X[test_ind], y[test_ind])\n",
    "            des.append(des_)\n",
    "        self.estimators_ = des\n",
    "\n",
    "    def _predict(self, X):\n",
    "        \"\"\"Collect results from clf.predict calls.\"\"\"\n",
    "        return np.asarray([est.predict(X) for est in self.estimators_]).T\n",
    "\n",
    "    def _collect_probas(self, X):\n",
    "        \"\"\"Collect results from clf.predict calls.\"\"\"\n",
    "        return np.asarray([clf.predict_proba(X) for clf in self.estimators_])\n",
    "\n",
    "    def predict(self, X):\n",
    "        maj = np.argmax(self.predict_proba(X), axis=1)\n",
    "        maj = self.le_.inverse_transform(maj)\n",
    "\n",
    "        return maj\n",
    "\n",
    "    def predict_proba(self, X):\n",
    "        \"\"\"Predict class probabilities for X in 'soft' voting.\"\"\"\n",
    "        #check_is_fitted(self)\n",
    "        avg = np.average(self._collect_probas(X), axis=0)\n",
    "        return avg"
   ],
   "outputs": [],
   "metadata": {}
  },
  {
   "cell_type": "code",
   "execution_count": null,
   "source": [
    "X, y = make_classification(n_samples=7000, random_state=42)"
   ],
   "outputs": [],
   "metadata": {}
  },
  {
   "cell_type": "code",
   "execution_count": null,
   "source": [
    "descv = DESCV(KNORAE(None, DFP=True, random_state=42), RandomForestClassifier(random_state=42, oob_score=True, bootstrap=True), cv)"
   ],
   "outputs": [],
   "metadata": {}
  },
  {
   "cell_type": "code",
   "execution_count": null,
   "source": [
    "desucv = DESCV(KNORAU(None, DFP=True, random_state=42), RandomForestClassifier(random_state=42, oob_score=True, bootstrap=True), cv)"
   ],
   "outputs": [],
   "metadata": {}
  },
  {
   "cell_type": "code",
   "execution_count": null,
   "source": [
    "metadescv = DESCV(METADES(None, DFP=True, random_state=42), RandomForestClassifier(random_state=42, oob_score=True, bootstrap=True), cv)"
   ],
   "outputs": [],
   "metadata": {}
  },
  {
   "cell_type": "code",
   "execution_count": null,
   "source": [
    "%%time\n",
    "np.mean(cross_val_score(rfc, X, y, scoring=\"roc_auc_ovr_weighted\"))"
   ],
   "outputs": [],
   "metadata": {}
  },
  {
   "cell_type": "code",
   "execution_count": null,
   "source": [
    "np.mean(cross_val_score(rfc, X, y, scoring=\"f1\", error_score=\"raise\"))"
   ],
   "outputs": [],
   "metadata": {}
  },
  {
   "cell_type": "code",
   "execution_count": null,
   "source": [
    "%%time\n",
    "np.mean(cross_val_score(descv, X, y, scoring=\"roc_auc_ovr_weighted\", error_score=\"raise\"))"
   ],
   "outputs": [],
   "metadata": {}
  },
  {
   "cell_type": "code",
   "execution_count": null,
   "source": [
    "np.mean(cross_val_score(descv, X, y, scoring=\"f1\"))"
   ],
   "outputs": [],
   "metadata": {}
  },
  {
   "cell_type": "code",
   "execution_count": null,
   "source": [
    "%%time\n",
    "np.mean(cross_val_score(desucv, X, y, scoring=\"roc_auc_ovr_weighted\", error_score=\"raise\"))"
   ],
   "outputs": [],
   "metadata": {}
  },
  {
   "cell_type": "code",
   "execution_count": null,
   "source": [
    "np.mean(cross_val_score(desucv, X, y, scoring=\"f1\", error_score=\"raise\"))"
   ],
   "outputs": [],
   "metadata": {}
  },
  {
   "cell_type": "code",
   "execution_count": null,
   "source": [
    "%%time\n",
    "np.mean(cross_val_score(metadescv, X, y, scoring=\"roc_auc_ovr_weighted\", error_score=\"raise\"))"
   ],
   "outputs": [],
   "metadata": {}
  },
  {
   "cell_type": "code",
   "execution_count": null,
   "source": [
    "np.mean(cross_val_score(metadescv, X, y, scoring=\"f1\", error_score=\"raise\"))"
   ],
   "outputs": [],
   "metadata": {}
  },
  {
   "cell_type": "code",
   "execution_count": null,
   "source": [
    "rfc.fit(X, y)\n",
    "rfc.oob_decision_function_"
   ],
   "outputs": [],
   "metadata": {}
  },
  {
   "cell_type": "code",
   "execution_count": null,
   "source": [
    "np.argmax(rfc.oob_decision_function_, axis=1)"
   ],
   "outputs": [],
   "metadata": {}
  },
  {
   "cell_type": "code",
   "execution_count": null,
   "source": [
    "rfc.oob_decision_function_.shape"
   ],
   "outputs": [],
   "metadata": {}
  },
  {
   "cell_type": "code",
   "execution_count": null,
   "source": [],
   "outputs": [],
   "metadata": {}
  }
 ],
 "metadata": {
  "interpreter": {
   "hash": "13bf977ed70ebd8c67ec8b0f61ca52da9d9f5c8e06b430203c5bac31a23b1df6"
  },
  "kernelspec": {
   "name": "python3",
   "display_name": "Python 3.8.10 64-bit ('automl-R4LDggHl': pipenv)"
  },
  "language_info": {
   "codemirror_mode": {
    "name": "ipython",
    "version": 3
   },
   "file_extension": ".py",
   "mimetype": "text/x-python",
   "name": "python",
   "nbconvert_exporter": "python",
   "pygments_lexer": "ipython3",
   "version": "3.8.10"
  },
  "orig_nbformat": 2
 },
 "nbformat": 4,
 "nbformat_minor": 2
}